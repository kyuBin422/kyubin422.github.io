{
 "cells": [
  {
   "cell_type": "markdown",
   "id": "0a228e7d",
   "metadata": {},
   "source": [
    "## Take Notes on Jupyter Notebook\n",
    "\n",
    "As we demonstrated in class, the markdown cells of Jupyter Notebook are very powerful as they can be used to present text, bullet points, links and other components. Please use the markdown cells to take notes and share a screenshot of your notes here. Possible options include but not limited to\n",
    "\n",
    "- Notes for a book;\n",
    "- Notes for another module;\n",
    "- Your thoughts on the data visualization applications given in slides: \n",
    "[Map of the blue death](https://www.youtube.com/watch?v=9NVT6iZP2qg) and [How the circle line rogue train was caught with data](https://clubs.ntu.edu.sg/businessanalytics/?p=169).\n",
    "\n",
    "You are not required to include any code. Just try to explore the different features of the markdown cells. "
   ]
  },
  {
   "cell_type": "code",
   "execution_count": null,
   "id": "4949a044",
   "metadata": {},
   "outputs": [],
   "source": []
  }
 ],
 "metadata": {
  "kernelspec": {
   "display_name": "Python 3 (ipykernel)",
   "language": "python",
   "name": "python3"
  },
  "language_info": {
   "codemirror_mode": {
    "name": "ipython",
    "version": 3
   },
   "file_extension": ".py",
   "mimetype": "text/x-python",
   "name": "python",
   "nbconvert_exporter": "python",
   "pygments_lexer": "ipython3",
   "version": "3.9.13"
  },
  "varInspector": {
   "cols": {
    "lenName": 16,
    "lenType": 16,
    "lenVar": 40
   },
   "kernels_config": {
    "python": {
     "delete_cmd_postfix": "",
     "delete_cmd_prefix": "del ",
     "library": "var_list.py",
     "varRefreshCmd": "print(var_dic_list())"
    },
    "r": {
     "delete_cmd_postfix": ") ",
     "delete_cmd_prefix": "rm(",
     "library": "var_list.r",
     "varRefreshCmd": "cat(var_dic_list()) "
    }
   },
   "types_to_exclude": [
    "module",
    "function",
    "builtin_function_or_method",
    "instance",
    "_Feature"
   ],
   "window_display": false
  }
 },
 "nbformat": 4,
 "nbformat_minor": 5
}
