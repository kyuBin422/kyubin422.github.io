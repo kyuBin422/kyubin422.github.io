{
 "cells": [
  {
   "cell_type": "markdown",
   "metadata": {},
   "source": [
    "## Question 1\n",
    "\n",
    "1. What is the printed message for the code segment below?\n",
    "\n",
    "---\n",
    "```python\n",
    "a = '2.5'\n",
    "b = '1'\n",
    "\n",
    "print(str(a*2) + str(b))\n",
    "```\n",
    "---\n",
    "\n",
    "    A. 2.52.51\n",
    "    B. 6\n",
    "    C. 51\n",
    "    D. An error message\n",
    "\n",
    "<br>\n",
    "\n",
    "\n",
    "2. Given variables `a`, `b`, `c`, and `d`, defined by the code cell below.\n",
    "\n",
    "\n",
    "---\n",
    "```python\n",
    "a = 1\n",
    "b = 2\n",
    "c = 1.0\n",
    "d = 2.\n",
    "```\n",
    "---\n",
    "\n",
    "Which of the expression below is an `int` type object.\n",
    "\n",
    "(1) `a + b` \n",
    "\n",
    "(2) `a * c`\n",
    "\n",
    "(3) `b / d`\n",
    "\n",
    "(4) `b ** 2`\n",
    "\n",
    "(5) `b // a`\n",
    "\n",
    "    A. Only (1)\n",
    "    B. (1) and (4)\n",
    "    C. (1) and (4) and (5)\n",
    "    D. All of them\n",
    "\n",
    "<br>\n",
    "\n",
    "3. Which of the following statements is correct?\n",
    "\n",
    "```\n",
    "A. If two objects have the same value, they must have the same type.\n",
    "B. If two objects have the same type, they must have the same value.\n",
    "C. The data type of an object can be changed to another by using data type conversion functions.\n",
    "D. All statements above are incorrect. \n",
    "```\n",
    "\n",
    "<br>\n",
    "\n",
    "4. What is the printed message of the following code segment?\n",
    "\n",
    "---\n",
    "```python\n",
    "a = 3\n",
    "b = 4\n",
    "\n",
    "statement1 = a <= 3 and a > 2\n",
    "statement2 = b > 2 and b <= 3\n",
    "print(statement1 != statement2)\n",
    "```\n",
    "---\n",
    "\n",
    "    A. True\n",
    "    B. False\n",
    "    C. 3\n",
    "    D. 4\n"
   ]
  },
  {
   "cell_type": "markdown",
   "metadata": {},
   "source": [
    "## Question 2\n",
    "Write a program that allows the users to enter two integers, then print out the sum of these two integers. For example, if the entered numbers are 3 and 5, then the message displayed should be:"
   ]
  },
  {
   "cell_type": "raw",
   "metadata": {},
   "source": [
    "Enter one integer: 3\n",
    "Enter another integer: 5\n",
    "The sum is 8"
   ]
  },
  {
   "cell_type": "markdown",
   "metadata": {},
   "source": [
    "**Solution**:"
   ]
  },
  {
   "cell_type": "code",
   "execution_count": null,
   "metadata": {
    "scrolled": true
   },
   "outputs": [],
   "source": []
  },
  {
   "cell_type": "markdown",
   "metadata": {},
   "source": [
    "## Question 3\n",
    "\n",
    "Write a program that asks the user to enter his/her year of birth, then the program prints the age of the user. For simplicity, the age is calculated as $2022 - \\text{year of birth}$. For example, if the user key in \"1980\", then the output message of the program is \"Your age: 42\". See the sample inputs/outputs below."
   ]
  },
  {
   "cell_type": "raw",
   "metadata": {},
   "source": [
    "Your year of birth: 1980\n",
    "Your age: 42"
   ]
  },
  {
   "cell_type": "markdown",
   "metadata": {},
   "source": [
    "**Solution**:"
   ]
  },
  {
   "cell_type": "code",
   "execution_count": null,
   "metadata": {},
   "outputs": [],
   "source": []
  },
  {
   "cell_type": "markdown",
   "metadata": {},
   "source": [
    "## Question 4\n",
    "\n",
    "A programming course is taken by both full-time and part-time students. Their grades for this course are calculated separately, as shown in the table below. \n",
    "\n",
    "|Grades| Scores of full-time students |Scores of part-time students| \n",
    "|:-----|:----|:----|\n",
    "|A|Higher or equal to 90 | Higher or equal to 85 |\n",
    "|B|Between 80 and 89 | Between 75 and 84 |\n",
    "|C|Between 70 and 79 | Between 65 and 74 |\n",
    "|D|Lower than 70 | Lower than 65 |\n",
    "\n",
    "A program asks students two questions:\n",
    "- Are you a full-time student? Yes/No\n",
    "- What is your score?\n",
    "and then prints out the corresponding grades of the student. Draw the flowchart of the this program.\n",
    "\n",
    "**Solution**:"
   ]
  },
  {
   "cell_type": "markdown",
   "metadata": {},
   "source": [
    " "
   ]
  },
  {
   "cell_type": "markdown",
   "metadata": {},
   "source": [
    "## Question 5\n",
    "\n",
    "Draw the flow chart for the following calculations:\n",
    "- The equation: $-1 + 1/2 - 1/3 + 1/4 - 1/5 + ...$, where the last term is $1/n$ if $n$ is an even number, and $-1/n$ if $n$ is an odd number.\n",
    "- The factorial formula: $n!=1\\times 2 \\times 3 \\times 4 ... \\times n$.\n",
    "\n",
    "**Solution**:"
   ]
  },
  {
   "cell_type": "markdown",
   "metadata": {},
   "source": [
    " "
   ]
  }
 ],
 "metadata": {
  "kernelspec": {
   "display_name": "Python 3 (ipykernel)",
   "language": "python",
   "name": "python3"
  },
  "language_info": {
   "codemirror_mode": {
    "name": "ipython",
    "version": 3
   },
   "file_extension": ".py",
   "mimetype": "text/x-python",
   "name": "python",
   "nbconvert_exporter": "python",
   "pygments_lexer": "ipython3",
   "version": "3.9.13"
  },
  "varInspector": {
   "cols": {
    "lenName": 16,
    "lenType": 16,
    "lenVar": 40
   },
   "kernels_config": {
    "python": {
     "delete_cmd_postfix": "",
     "delete_cmd_prefix": "del ",
     "library": "var_list.py",
     "varRefreshCmd": "print(var_dic_list())"
    },
    "r": {
     "delete_cmd_postfix": ") ",
     "delete_cmd_prefix": "rm(",
     "library": "var_list.r",
     "varRefreshCmd": "cat(var_dic_list()) "
    }
   },
   "types_to_exclude": [
    "module",
    "function",
    "builtin_function_or_method",
    "instance",
    "_Feature"
   ],
   "window_display": false
  }
 },
 "nbformat": 4,
 "nbformat_minor": 2
}
