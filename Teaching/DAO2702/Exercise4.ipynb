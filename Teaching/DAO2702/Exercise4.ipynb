{
 "cells": [
  {
   "cell_type": "markdown",
   "id": "20eefa59",
   "metadata": {},
   "source": [
    "## Question 1\n",
    "\n",
    "1. What is the printed message of the following code segment?\n",
    "\n",
    "---\n",
    "```python\n",
    "sentence = \"Business analytics\"\n",
    "print(sentence[-8:-3])\n",
    "```\n",
    "---\n",
    "\n",
    "    A. analyt\n",
    "    B. nalyt\n",
    "    C. analyti\n",
    "    D. nalyti\n",
    "\n",
    "<br>\n",
    "\n",
    "2. What is the printed message of the following code segment?\n",
    "\n",
    "---\n",
    "```python\n",
    "list_1 = [True, \"2.0\", 3.5]\n",
    "list_2 = list_1 * 2\n",
    "list_1.remove(3.5)\n",
    "list_2.remove(\"2.0\")\n",
    "print(list_1 + list_2)\n",
    "```\n",
    "---\n",
    "\n",
    "    A. [True, '2.0', True, 3.5, True, '2.0', 3.5]\n",
    "    B. [True, True, True]\n",
    "    C. [True, '2.0', True, 3.5, True, 3.5]\n",
    "    D. [True, '2.0', True, True]\n",
    "\n",
    "<br>\n",
    "\n",
    "3. What is the printed message of the code segment below?\n",
    "\n",
    "---\n",
    "```python\n",
    "print([(i+1) % 4 for i in range(6)])\n",
    "```\n",
    "---\n",
    "\n",
    "    A. [0, 1, 2, 3, 0, 1]\n",
    "    B. [1, 2, 3, 4, 1, 2]\n",
    "    C. [1, 2, 3, 0, 1, 2]\n",
    "    D. [0, 1, 2, 3, 4, 5]\n",
    "    \n",
    "<br>\n",
    "\n",
    "4. Given the code below,\n",
    "\n",
    "---\n",
    "```python\n",
    "output = []\n",
    "for i in range(10):\n",
    "    if i % 2 == 0:\n",
    "        continue\n",
    "    \n",
    "    output.append(i)\n",
    "```\n",
    "---\n",
    "\n",
    "and it is equivalent to which of the following code segments?\n",
    "\n",
    "    A. \n",
    "---\n",
    "```python\n",
    "output = [i for i in range(10) if i%2 == 0]\n",
    "```\n",
    "---\n",
    "\n",
    "    B. \n",
    "---\n",
    "```python\n",
    "output = [i for i in range(10) if i%2 == 1]\n",
    "```\n",
    "---\n",
    "\n",
    "    C. \n",
    "---\n",
    "\n",
    "```python\n",
    "output = [i if i%2==0 for i in range(10)]\n",
    "```\n",
    "---\n",
    "\n",
    "    D. \n",
    "---\n",
    "```python\n",
    "output = [if i%2==1 for i in range(10)]\n",
    "```"
   ]
  },
  {
   "cell_type": "markdown",
   "id": "93bc79f9",
   "metadata": {},
   "source": [
    "## Question 2\n",
    "\n",
    "Create a list of integers that satisfy all conditions below:\n",
    "1. The values are between 1 and 100.\n",
    "2. They are evenly divisible by seven.\n",
    "3. They are not evenly divisible by five.\n",
    "\n",
    "**Solution**:"
   ]
  },
  {
   "cell_type": "code",
   "execution_count": null,
   "id": "01e85c06",
   "metadata": {},
   "outputs": [],
   "source": []
  },
  {
   "cell_type": "markdown",
   "id": "2852ee89",
   "metadata": {},
   "source": [
    "## Question 3\n",
    "\n",
    "Given a list `a_list` of numbers, where some numbers may appear more than once. Create a new list `new_list` that includes all the unique numbers from `a_list`. For example, if the given list is \\[2, 3, 1, 2, 3.5, 1, 3.5, 2, 0\\], then the new list should be \\[2, 3, 1, 3.5, 0\\].\n",
    "\n",
    "***Hint***: you could use the `in` operator to check if a number appears in a list.\n",
    "\n",
    "**Solution**:"
   ]
  },
  {
   "cell_type": "code",
   "execution_count": null,
   "id": "726dbd58",
   "metadata": {},
   "outputs": [],
   "source": []
  },
  {
   "cell_type": "markdown",
   "id": "621ee2d2",
   "metadata": {},
   "source": [
    "## Question 4:\n",
    "\n",
    "You may find that our \"Cheerleader\" program is not perfect. We want to make two changes: \n",
    "1. The article used for letters was sometimes wrong. For example, it should be \"Give me an I\" instead of \"Give me a I\". Try to correct the wrong articles.\n",
    "2. When individual letters are shout out, always use upper case to show the passion of the cheer!\n",
    "\n",
    "One example is given below."
   ]
  },
  {
   "cell_type": "raw",
   "id": "a92896fd",
   "metadata": {},
   "source": [
    "What is your name? Kent Ridge\n",
    "Give me a K: \n",
    "K!!!\n",
    "Give me an E: \n",
    "E!!!\n",
    "Give me an N: \n",
    "N!!!\n",
    "Give me a T: \n",
    "T!!!\n",
    "Give me an R: \n",
    "R!!!\n",
    "Give me an I: \n",
    "I!!!\n",
    "Give me a D: \n",
    "D!!!\n",
    "Give me a G: \n",
    "G!!!\n",
    "Give me an E: \n",
    "E!!!\n",
    "What's that spell?\n",
    "Kent Ridge!!\n",
    "Go! Go! Kent Ridge!!"
   ]
  },
  {
   "cell_type": "markdown",
   "id": "58e3b48d",
   "metadata": {},
   "source": [
    "**Solution**:"
   ]
  },
  {
   "cell_type": "code",
   "execution_count": null,
   "id": "31b05214",
   "metadata": {
    "scrolled": false
   },
   "outputs": [],
   "source": []
  },
  {
   "cell_type": "markdown",
   "id": "1a88d5ed",
   "metadata": {},
   "source": [
    "## Question 5\n",
    "\n",
    "**Mad Libs** is a phrasal template word game. It consists of one player prompting others for a list of words to substitute for blanks in a story before reading aloud. The game is frequently played as a party game or as a pastime. Use Python to create a Mad Libs game, and you may use the template below."
   ]
  },
  {
   "cell_type": "raw",
   "id": "0e3e0456",
   "metadata": {},
   "source": [
    "Enter a noun: book\n",
    "Enter a plural noun: seats\n",
    "Enter a verb (present tense): eat\n",
    "Enter a verb (present tense): jump\n",
    "\n",
    "Today, every student has a computer small enough to fit into his book. \n",
    "He can solve any math problem by simply pushing the computer's little\n",
    "seats. Computers can add, multiply, divide, and eat. They can also \n",
    "jump better than a human. "
   ]
  },
  {
   "cell_type": "markdown",
   "id": "e7147cd2",
   "metadata": {},
   "source": [
    "**Solution**:"
   ]
  },
  {
   "cell_type": "code",
   "execution_count": null,
   "id": "b654a664",
   "metadata": {},
   "outputs": [],
   "source": []
  },
  {
   "cell_type": "markdown",
   "id": "1d5f9009",
   "metadata": {},
   "source": [
    "## Question 6\n",
    "\n",
    "Write a time conversion program similar to **Tutorial 1**. Before doing the time conversion, check users' inputs. If users' inputs are correct, in the sense that:\n",
    "1. Hours are integers running from 1 to 12;\n",
    "2. Minutes are integers running from 0 to 59;\n",
    "3. Seconds are integers running from 0 to 59;\n",
    "4. AM/PM could be strings: 'AM', 'Am', 'aM', 'am', or 'PM', 'Pm', 'pM', 'pm';\n",
    "\n",
    "then calculate the total number of seconds. If the inputs do not follow the given format, ask the user to key in the inputs again. \n",
    "\n",
    "***Hint***: You may use the following code to create a list of correct inputs for each variable."
   ]
  },
  {
   "cell_type": "code",
   "execution_count": 1,
   "id": "d3746867",
   "metadata": {
    "scrolled": true
   },
   "outputs": [
    {
     "name": "stdout",
     "output_type": "stream",
     "text": [
      "['1', '2', '3', '4', '5', '6', '7', '8', '9', '10', '11', '12']\n"
     ]
    }
   ],
   "source": [
    "correct_hr = [str(num) for num in range(1, 13)]\n",
    "print(correct_hr)"
   ]
  },
  {
   "cell_type": "markdown",
   "id": "fd66663c",
   "metadata": {},
   "source": [
    "All valid values (`str` type) of hours are included in the list above, so we can simply use the `in` operator to check if the value given by the user is valid or not."
   ]
  },
  {
   "cell_type": "code",
   "execution_count": 2,
   "id": "3e2f18a0",
   "metadata": {
    "scrolled": true
   },
   "outputs": [
    {
     "data": {
      "text/plain": [
       "False"
      ]
     },
     "execution_count": 2,
     "metadata": {},
     "output_type": "execute_result"
    }
   ],
   "source": [
    "'13.5' in correct_hr    "
   ]
  },
  {
   "cell_type": "markdown",
   "id": "c84e9f82",
   "metadata": {},
   "source": [
    "**Solution**:"
   ]
  },
  {
   "cell_type": "code",
   "execution_count": null,
   "id": "b786870d",
   "metadata": {
    "scrolled": true
   },
   "outputs": [],
   "source": []
  }
 ],
 "metadata": {
  "kernelspec": {
   "display_name": "Python 3 (ipykernel)",
   "language": "python",
   "name": "python3"
  },
  "language_info": {
   "codemirror_mode": {
    "name": "ipython",
    "version": 3
   },
   "file_extension": ".py",
   "mimetype": "text/x-python",
   "name": "python",
   "nbconvert_exporter": "python",
   "pygments_lexer": "ipython3",
   "version": "3.10.11"
  },
  "varInspector": {
   "cols": {
    "lenName": 16,
    "lenType": 16,
    "lenVar": 40
   },
   "kernels_config": {
    "python": {
     "delete_cmd_postfix": "",
     "delete_cmd_prefix": "del ",
     "library": "var_list.py",
     "varRefreshCmd": "print(var_dic_list())"
    },
    "r": {
     "delete_cmd_postfix": ") ",
     "delete_cmd_prefix": "rm(",
     "library": "var_list.r",
     "varRefreshCmd": "cat(var_dic_list()) "
    }
   },
   "types_to_exclude": [
    "module",
    "function",
    "builtin_function_or_method",
    "instance",
    "_Feature"
   ],
   "window_display": false
  }
 },
 "nbformat": 4,
 "nbformat_minor": 5
}
