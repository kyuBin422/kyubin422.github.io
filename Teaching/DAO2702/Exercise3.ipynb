{
 "cells": [
  {
   "cell_type": "markdown",
   "id": "fe6a7828",
   "metadata": {},
   "source": [
    "## Question 1\n",
    "\n",
    "1. What is the printed message of the code segment below?\n",
    "\n",
    "---\n",
    "```python\n",
    "a_string = 'abcdef'\n",
    "\n",
    "new_string = ''\n",
    "for letter in a_string:\n",
    "    new_string = new_string + letter\n",
    "    if letter == 'c':\n",
    "        break\n",
    "\n",
    "print(new_string)\n",
    "```\n",
    "---\n",
    "\n",
    "    A. ab\n",
    "    B. abc\n",
    "    C. abcd\n",
    "    D. abdefg\n",
    "\n",
    "<br>\n",
    "\n",
    "2. What is the printed message of the code segment below?\n",
    "\n",
    "---\n",
    "```python\n",
    "a = 2.4\n",
    "b = 2.0\n",
    "\n",
    "print(str(a)*2 if a <= 3 and b == 2.0 else str(b*2))\n",
    "```\n",
    "---\n",
    "\n",
    "    A. 22\n",
    "    B. 4.0\n",
    "    C. 2.42.4\n",
    "    D. 4.8"
   ]
  },
  {
   "cell_type": "code",
   "execution_count": null,
   "id": "047883df",
   "metadata": {},
   "outputs": [],
   "source": []
  },
  {
   "cell_type": "markdown",
   "id": "966f11d9",
   "metadata": {},
   "source": [
    " "
   ]
  },
  {
   "cell_type": "markdown",
   "id": "09e064ee",
   "metadata": {},
   "source": [
    "## Question 2\n",
    "\n",
    "Given a integer $n$, calculate the summation of all of its digits. For example, if the given integer is $n=2457$, then the summation is $2+4+5+7=18$.\n",
    "\n",
    "**Solution**:"
   ]
  },
  {
   "cell_type": "code",
   "execution_count": null,
   "id": "7dfb0092",
   "metadata": {},
   "outputs": [],
   "source": []
  },
  {
   "cell_type": "markdown",
   "id": "ee7de860",
   "metadata": {},
   "source": [
    "## Question 3\n",
    "\n",
    "1. Write a program to check if the user is entering the correct password. You could define the the correct password to be an arbitrary string. If the user's input is the same as the password, the program prints \"Correct password\", otherwise, the program prints \"Incorrect password\" and ask the user to input the password again, until the correct password is given. \n",
    "\n",
    "**Solution**:"
   ]
  },
  {
   "cell_type": "code",
   "execution_count": null,
   "id": "62cadd5b",
   "metadata": {},
   "outputs": [],
   "source": []
  },
  {
   "cell_type": "markdown",
   "id": "6c154f2e",
   "metadata": {},
   "source": [
    "2. Now modify the program such that 1) the user has at most three chances to key in the password; and 2) if the user have used up all three chances, the program prints \"Unauthorized user\".  "
   ]
  },
  {
   "cell_type": "code",
   "execution_count": null,
   "id": "59fdebb4",
   "metadata": {},
   "outputs": [],
   "source": []
  },
  {
   "cell_type": "markdown",
   "id": "542dd866",
   "metadata": {},
   "source": [
    "## Question 4\n",
    "\n",
    "1. Write a program with the inputs to be the time in terms of the 1) hours; 2) minutes; 3) seconds; and \"AM\" or \"PM\". The output is the number of seconds counted from 12:00:00 AM. Two examples are given as follows."
   ]
  },
  {
   "cell_type": "raw",
   "id": "bf97a4ea",
   "metadata": {},
   "source": [
    "Hours:   3\n",
    "Minutes: 21\n",
    "Seconds: 26\n",
    "AM/PM:   AM\n",
    "Time:    12086s"
   ]
  },
  {
   "cell_type": "raw",
   "id": "de6d8abe",
   "metadata": {},
   "source": [
    "Hours:   12\n",
    "Minutes: 0\n",
    "Seconds: 0\n",
    "AM/PM:   PM\n",
    "Time:    43200s"
   ]
  },
  {
   "cell_type": "raw",
   "id": "ec49d072",
   "metadata": {},
   "source": [
    "Hours:   12\n",
    "Minutes: 0\n",
    "Seconds: 0\n",
    "AM/PM:   AM\n",
    "Time:    0s"
   ]
  },
  {
   "cell_type": "markdown",
   "id": "cbcaa8d9",
   "metadata": {},
   "source": [
    "**Solution**:\n",
    "\n",
    "Given the number of hours, minutes, and seconds, we can use the expression <code>hours\\*3600 + minutes\\*60 + seconds</code> to calculate the total number of seconds counted from 12:00:00 AM. \n",
    "\n",
    "The number of hours, though, is conditional, which depends on 1) whether the input <code>hr_str</code> is \"12\"; and 2) whether the input <code>am_pm</code> is \"AM\" or \"PM\". We can summarize all possible conditions as the follows.\n",
    "1. If <code>hr_str</code> is \"12\" and <code>am_pm</code> is \"AM\", then <code>hours</code> is 0.\n",
    "2. If <code>hr_str</code> is not \"12\" and <code>am_pm</code> is \"AM\", then <code>hours</code> is <code>int(hr_str)</code>.\n",
    "3. If <code>hr_str</code> is \"12\" and <code>am_pm</code> is \"PM\", then <code>hours</code> is 12.\n",
    "4. If <code>hr_str</code> is not \"12\" and <code>am_pm</code> is \"PM\", then <code>hours</code> is <code>int(hr_str)+12</code>.\n",
    "\n",
    "Following this logic, we have method 1:"
   ]
  },
  {
   "cell_type": "code",
   "execution_count": null,
   "id": "fb3be62e",
   "metadata": {
    "scrolled": true
   },
   "outputs": [],
   "source": []
  },
  {
   "cell_type": "markdown",
   "id": "a690a988",
   "metadata": {},
   "source": [
    "## Question 5\n",
    "\n",
    "A factor of an integer $n$ is any number that divides $n$ without remainder. As an example, the factors of 10 are 1, 2, 5, and 10, because 10 can be evenly divided by all of these numbers without remainder. Write a program that prints all positive factors of a natural number. For example, if `n` is 10, then the program prints 1, 2, 5, and 10. If `n` is 13, then the program prints 1 and 13."
   ]
  },
  {
   "cell_type": "markdown",
   "id": "d53e2d8e",
   "metadata": {},
   "source": [
    "**Solution**:"
   ]
  },
  {
   "cell_type": "code",
   "execution_count": null,
   "id": "3158dda0",
   "metadata": {},
   "outputs": [],
   "source": []
  }
 ],
 "metadata": {
  "kernelspec": {
   "display_name": "Python 3 (ipykernel)",
   "language": "python",
   "name": "python3"
  },
  "language_info": {
   "codemirror_mode": {
    "name": "ipython",
    "version": 3
   },
   "file_extension": ".py",
   "mimetype": "text/x-python",
   "name": "python",
   "nbconvert_exporter": "python",
   "pygments_lexer": "ipython3",
   "version": "3.10.11"
  },
  "varInspector": {
   "cols": {
    "lenName": 16,
    "lenType": 16,
    "lenVar": 40
   },
   "kernels_config": {
    "python": {
     "delete_cmd_postfix": "",
     "delete_cmd_prefix": "del ",
     "library": "var_list.py",
     "varRefreshCmd": "print(var_dic_list())"
    },
    "r": {
     "delete_cmd_postfix": ") ",
     "delete_cmd_prefix": "rm(",
     "library": "var_list.r",
     "varRefreshCmd": "cat(var_dic_list()) "
    }
   },
   "types_to_exclude": [
    "module",
    "function",
    "builtin_function_or_method",
    "instance",
    "_Feature"
   ],
   "window_display": false
  }
 },
 "nbformat": 4,
 "nbformat_minor": 5
}
