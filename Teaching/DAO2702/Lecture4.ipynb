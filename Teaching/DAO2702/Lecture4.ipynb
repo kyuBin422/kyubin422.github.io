{
 "cells": [
  {
   "cell_type": "markdown",
   "metadata": {},
   "source": [
    "# Built-in Data Structures I: Strings and Lists\n",
    "\n",
    "## Contents\n",
    "- [Strings](#section1)\n",
    "    - [Create strings](#subsection1.1)\n",
    "    - [Sequence operations](#subsection1.2)\n",
    "    - [Methods of strings](#subsection1.3)\n",
    "- [Lists](#section2)\n",
    "    - [Create lists](#subsection2.1)\n",
    "    - [Comparison between lists and strings](#subsection2.2)\n",
    "    - [List methods](#subsection2.3)\n",
    "    - [Lists as iterables](#subsection2.4)"
   ]
  },
  {
   "cell_type": "markdown",
   "metadata": {},
   "source": [
    " "
   ]
  },
  {
   "cell_type": "markdown",
   "metadata": {},
   "source": [
    "## Strings <a id=\"section1\"></a>\n",
    "\n",
    "### Create strings <a id=\"subsection1.1\"></a>\n",
    "\n",
    "A `str` type object can be created by enclosing characters in either single or double quotation marks. "
   ]
  },
  {
   "cell_type": "code",
   "execution_count": 1,
   "metadata": {},
   "outputs": [
    {
     "name": "stdout",
     "output_type": "stream",
     "text": [
      "Hello\n",
      "World\n"
     ]
    }
   ],
   "source": [
    "this = 'Hello'      # Create a string by single quotes\n",
    "that = \"World\"      # Create a string by double quotes\n",
    "\n",
    "print(this)\n",
    "print(that)"
   ]
  },
  {
   "cell_type": "markdown",
   "metadata": {},
   "source": [
    "It is also possible to create a multi-line string by three single or double quotes, as shown by the sample code below."
   ]
  },
  {
   "cell_type": "code",
   "execution_count": 2,
   "metadata": {
    "scrolled": false
   },
   "outputs": [
    {
     "name": "stdout",
     "output_type": "stream",
     "text": [
      "\n",
      "All work and no play makes Jack a dull boy\n",
      "All work and no play makes Jack a dull boy\n",
      "         All work and no play \n",
      "         makes Jack a dull boy\n",
      "         All work and no play\n",
      "         makes Jack a dull boy\n",
      "All work and no play makes Jack a dull boy\n",
      "All work and no play makes Jack a dull boy\n",
      "\n"
     ]
    }
   ],
   "source": [
    "shining = \"\"\"\n",
    "All work and no play makes Jack a dull boy\n",
    "All work and no play makes Jack a dull boy\n",
    "         All work and no play \n",
    "         makes Jack a dull boy\n",
    "         All work and no play\n",
    "         makes Jack a dull boy\n",
    "All work and no play makes Jack a dull boy\n",
    "All work and no play makes Jack a dull boy\n",
    "\"\"\"\n",
    "\n",
    "print(shining)"
   ]
  },
  {
   "cell_type": "markdown",
   "metadata": {},
   "source": [
    "In previous lectures, we also learned the following ways to create strings:\n",
    "1. The output of the `input()` function is always a `str` type object;\n",
    "2. Convert objects of other types to strings by the `str()` function;\n",
    "3. Expressions of strings involving `+` (for concatenating strings) or `*` (for duplicating strings).\n",
    "\n",
    "### Sequence operations <a id=\"subsection1.2\"></a>\n",
    "\n",
    "A string can be viewed as a sequence of characters, so it supports operations that assume a positional ordering among items.\n",
    "\n",
    "#### Length of a string\n",
    "The length of a string gives the total number of characters, which can be returned by the built-in function `len()`."
   ]
  },
  {
   "cell_type": "code",
   "execution_count": 3,
   "metadata": {},
   "outputs": [
    {
     "name": "stdout",
     "output_type": "stream",
     "text": [
      "11\n"
     ]
    }
   ],
   "source": [
    "greetings = \"Hello World\"\n",
    "\n",
    "print(len(greetings))"
   ]
  },
  {
   "cell_type": "markdown",
   "metadata": {},
   "source": [
    "#### Indexing and slicing of strings \n",
    "Each character in a string corresponds to an index number which starts from **0**. Take the string `\"Hello World\"`, for example, the indexes are coded as the table below. \n",
    "\n",
    "`H` |   `e` |  `l` | `l` | `o` | ` `  | `W` | `o` | `r` | `l` | `d`\n",
    ":-----:|:-----:|:-----:|:-----:|:-----:|:-----:|:-----:|:-----:|:-----:|:-----:|:-----:|\n",
    "0 | 1 | 2 | 3 | 4 | 5 | 6 | 7 | 8 | 9 | 10 \n",
    "\n",
    "All characters can be accessed via the associated indexes, as shown below."
   ]
  },
  {
   "cell_type": "code",
   "execution_count": 4,
   "metadata": {},
   "outputs": [
    {
     "name": "stdout",
     "output_type": "stream",
     "text": [
      "e\n",
      "r\n"
     ]
    }
   ],
   "source": [
    "greetings = \"Hello World\"\n",
    "\n",
    "letter_e = greetings[1]         # Access the second item via index 1\n",
    "print(letter_e)\n",
    "\n",
    "letter_r = greetings[8]         # Access the ninth item via index 8\n",
    "print(letter_r)"
   ]
  },
  {
   "cell_type": "markdown",
   "metadata": {},
   "source": [
    "In Python, we can also index backward, from the end—positive indexes count from the left, and negative indexes count back from the right.\n",
    "\n",
    "`H` |   `e`  |  `l` | `l` | `o` | ` `  | `W` | `o` | `r` | `l` | `d`\n",
    ":-----:|:-----:|:-----:|:-----:|:-----:|:-----:|:-----:|:-----:|:-----:|:-----:|:-----:|\n",
    "0 | 1 | 2 | 3 | 4 | 5 | 6 | 7 | 8 | 9 | 10 \n",
    "-11| -10 | -9 | -8 | -7 | -6 | -5 | -4 | -3 | -2 | -1 \n",
    "\n",
    "Characters in a string can be access by the backward indexes likewise. "
   ]
  },
  {
   "cell_type": "code",
   "execution_count": 5,
   "metadata": {},
   "outputs": [
    {
     "name": "stdout",
     "output_type": "stream",
     "text": [
      "d\n",
      "l\n"
     ]
    }
   ],
   "source": [
    "greetings = \"Hello World\"\n",
    "\n",
    "letter_d = greetings[-1]        # Access the last item \n",
    "print(letter_d)\n",
    "\n",
    "letter_l = greetings[-2]        # Access the second to last item\n",
    "print(letter_l)"
   ]
  },
  {
   "cell_type": "markdown",
   "metadata": {},
   "source": [
    "Besides accessing individual characters of a string, We can also call out a range of characters from the string, by creating a **slice** in the form of <code>[<i>start</i>:<i>stop</i>:<i>step</i>]</code>, where *`start`*, *`stop`*, and *`step`* are three input arguments that define the values of the indexes.\n",
    "\n",
    "Arguments | Remarks | Default Values\n",
    ":--------|:-------|:--------------\n",
    "*`start`*   | The first index of the slice | 0 \n",
    "*`stop`*    | The index before which the slice stops | length of the string\n",
    "*`step`*    | The step length of the slice | 1\n",
    "\n",
    "Some examples are provided below to illustrate how the slice works."
   ]
  },
  {
   "cell_type": "code",
   "execution_count": 6,
   "metadata": {},
   "outputs": [
    {
     "name": "stdout",
     "output_type": "stream",
     "text": [
      "Hello\n",
      "World\n",
      "HloWrd\n"
     ]
    }
   ],
   "source": [
    "greetings = \"Hello World\"\n",
    "\n",
    "print(greetings[0:5:1])     # Print the first five characters\n",
    "\n",
    "print(greetings[6:11:1])    # Print the last five characters\n",
    "\n",
    "print(greetings[0:11:2])    # Print the 1st, 3rd, 5th, ... characters"
   ]
  },
  {
   "cell_type": "markdown",
   "metadata": {},
   "source": [
    "The default value is applied in defining the slice expression if a particular argument is not specified. Notice that positions of these arguments are indicated by the `:` symbol, and by properly placing the `:` symbols, a slice can be created with some arguments omitted, such as:\n",
    "- *`[:]`*: *`start`*`= 0`, *`stop`* is the length of the string, and *`step`*`= 1`, by default, so the slicing expression takes all characters of the string;\n",
    "- *`[start:]`*: *`stop`* is the length of the string and *`step`*`=1`, by default, so the slicing expressing takes all characters from *`start`* to the end of the string;\n",
    "- *`[:stop]`*: *`start`*`= 0` and *`step`*`= 1`, by default, so the slicing expression takes all characters from the first one until *`stop`*`-1`.\n",
    "- *`[start:stop]`*: *`step`*`= 1`, by default, so the slicing expression takes all characters from the *`start`* until *`stop`*`- 1`.\n",
    "- *`[::step]`*: *`start`*`= 0` and *`stop`* is the length of the string, by default, so the slicing expression takes the first character, the third one, ..., until *`stop`*`- 1`. \n",
    "\n",
    "As a result, slices in the previous code cell can be rewritten as follows.\n"
   ]
  },
  {
   "cell_type": "code",
   "execution_count": 7,
   "metadata": {},
   "outputs": [
    {
     "name": "stdout",
     "output_type": "stream",
     "text": [
      "Hello\n",
      "World\n",
      "HloWrd\n"
     ]
    }
   ],
   "source": [
    "greetings = \"Hello World\"\n",
    "\n",
    "print(greetings[:5])        # Print the first five characters\n",
    "\n",
    "print(greetings[6:])        # Print the last five characters\n",
    "\n",
    "print(greetings[::2])       # Print the 1st, 3rd, 5th, ... characters"
   ]
  },
  {
   "cell_type": "markdown",
   "metadata": {},
   "source": [
    "In the case that *`step`*`= - 1`, the slice takes characters in the opposite direction, so there is a special slicing expressiong `[::-1]`, which takes all characters of the string in the opposite direction. "
   ]
  },
  {
   "cell_type": "code",
   "execution_count": 8,
   "metadata": {},
   "outputs": [
    {
     "name": "stdout",
     "output_type": "stream",
     "text": [
      "dlroW olleH\n"
     ]
    }
   ],
   "source": [
    "greetings = \"Hello World\"\n",
    "\n",
    "print(greetings[::-1])"
   ]
  },
  {
   "cell_type": "markdown",
   "metadata": {},
   "source": [
    "### Methods of strings <a id=\"subsection1.3\">\n",
    "A method is a special function associated with an object. All methods are called via the syntax <code><i>object</i>.<i>method</i>()</code>. You may check [Python string methods](https://www.programiz.com/python-programming/methods/string) for the full list of methods for strings. In this lecture, you are supposed to understand the following frequently used methods.\n",
    "\n",
    "#### Case conversion methods. "
   ]
  },
  {
   "cell_type": "code",
   "execution_count": 9,
   "metadata": {},
   "outputs": [
    {
     "name": "stdout",
     "output_type": "stream",
     "text": [
      "ALL WORK AND NO PLAY MAKES JACK A DULL BOY\n",
      "all work and no play makes jack a dull boy\n",
      "All work and no play makes jack a dull boy\n",
      "ALL WORK AND NO PLAY MAKES jACK A DULL BOY\n",
      "All Work And No Play Makes Jack A Dull Boy\n"
     ]
    }
   ],
   "source": [
    "line = \"all work and no play makes Jack a dull boy\"\n",
    "\n",
    "line_upper = line.upper()       # Convert all letters to upper case\n",
    "line_lower = line.lower()       # Convert all letters to lower case\n",
    "line_cap = line.capitalize()    # Convert the first letter to upper case\n",
    "line_swap = line.swapcase()     # Swap upper and lower case\n",
    "line_title = line.title()       # Capitalize the 1st letter of each word\n",
    "\n",
    "print(line_upper)\n",
    "print(line_lower)\n",
    "print(line_cap)\n",
    "print(line_swap)\n",
    "print(line_title)"
   ]
  },
  {
   "cell_type": "markdown",
   "metadata": {},
   "source": [
    "<div class=\"alert alert-block alert-success\">\n",
    "<b>Example 1:</b>  \n",
    "Write a program to count the number of letter \"a\"s (either upper case or lower case) in a given string.\n",
    "</div>"
   ]
  },
  {
   "cell_type": "code",
   "execution_count": 10,
   "metadata": {},
   "outputs": [
    {
     "name": "stdout",
     "output_type": "stream",
     "text": [
      "30\n"
     ]
    }
   ],
   "source": [
    "string = \"\"\"\n",
    "Many years later, as he faced the firing squad, Colonel \n",
    "Aureliano Buendía was to remember that distant afternoon \n",
    "when his father took him to discover ice. At that time \n",
    "Macondo was a village of twenty adobe houses, built on \n",
    "the bank of a river of clear water that ran along a bed \n",
    "of polished stones, which were white and enormous, like \n",
    "prehistoric eggs. \n",
    "\"\"\"\n",
    "\n",
    "count = 0                       # Initialize the count to be 0\n",
    "for char in string:\n",
    "    if char.lower() == 'a':     # If the character is \"a\" or \"A\"\n",
    "        count += 1              # The count is increased by 1\n",
    "\n",
    "print(count)"
   ]
  },
  {
   "cell_type": "markdown",
   "metadata": {},
   "source": [
    "The program above iterates each character in the string, and the value of `count` is increased by one if the character is an \"a\" or \"A\". Here the character `char` is converted to lower case by calling the `lower()` method, so we only need check if it is the same as the lower case letter \"a\". This method is more concise compared with the direct comparison `char == 'a' or char == 'A'`. \n",
    "\n",
    "#### The `count()` method\n",
    "\n",
    "As the name suggests, the `count()` method of strings returns the number of appearances of a specif value in the string object. By using the `count()` method, **Example 1** can be easily solved by the code segment below without using a loop. "
   ]
  },
  {
   "cell_type": "code",
   "execution_count": 11,
   "metadata": {
    "scrolled": true
   },
   "outputs": [
    {
     "name": "stdout",
     "output_type": "stream",
     "text": [
      "30\n"
     ]
    }
   ],
   "source": [
    "string = \"\"\"\n",
    "Many years later, as he faced the firing squad, Colonel \n",
    "Aureliano Buendía was to remember that distant afternoon \n",
    "when his father took him to discover ice. At that time \n",
    "Macondo was a village of twenty adobe houses, built on \n",
    "the bank of a river of clear water that ran along a bed \n",
    "of polished stones, which were white and enormous, like \n",
    "prehistoric eggs. \n",
    "\"\"\"\n",
    "    \n",
    "count = string.lower().count('a')\n",
    "print(count)"
   ]
  },
  {
   "cell_type": "markdown",
   "metadata": {},
   "source": [
    "#### The `format()` method\n",
    "The method `format()` of `str` type objects provides a convenient way to control the format of a string. Take a look at the example below."
   ]
  },
  {
   "cell_type": "code",
   "execution_count": 12,
   "metadata": {},
   "outputs": [
    {
     "name": "stdout",
     "output_type": "stream",
     "text": [
      "Your exam marks: 85, your grade: A+\n"
     ]
    }
   ],
   "source": [
    "exam = 85                   # Final exam marks of a course\n",
    "grade = 'A+'                # Final grade of the course\n",
    "\n",
    "text = 'Your exam marks: {}, your grade: {}'.format(exam, grade)\n",
    "print(text)"
   ]
  },
  {
   "cell_type": "markdown",
   "metadata": {},
   "source": [
    "The curly brackets within a string (called format fields) are replaced with the objects passed into the `format()` method. In the example above, the first pair of curly brackets is replaced by the first object `final=85`, and the second pair is replaced by the second object `grade='A'`. The `format()` method also allows users to index the format fields in a string, as demonstrated by the following example. "
   ]
  },
  {
   "cell_type": "code",
   "execution_count": 13,
   "metadata": {},
   "outputs": [
    {
     "name": "stdout",
     "output_type": "stream",
     "text": [
      "apple, orange, and banana\n",
      "orange, apple, and banana\n",
      "apple, banana, and orange\n"
     ]
    }
   ],
   "source": [
    "print('{0}, {1}, and {2}'.format('apple', 'orange', 'banana'))\n",
    "print('{1}, {0}, and {2}'.format('apple', 'orange', 'banana'))\n",
    "print('{0}, {2}, and {1}'.format('apple', 'orange', 'banana'))"
   ]
  },
  {
   "cell_type": "markdown",
   "metadata": {},
   "source": [
    "You may notice that the curly brackets indexed by `0` are replaced by the first object given in the method `format()`, the brackets indexed by `1` are replaced by the second object, and the ones index by `2` are replaced by the third object, and so on so forth. \n",
    "\n",
    "The `format()` method is also able to control the specific displayed format of numbers and objects of other types. Interested readers may refer to [format](https://www.programiz.com/python-programming/methods/string/format) for more details.\n",
    "\n",
    "Besides using the `format()` method, we could also use the `f`-string, indicated by an `f` letter in front of the string, to insert values to the string. The `f`-string enables users to use any valid variables or expressions to replace curly brackets in the string, as shown by the sample code below."
   ]
  },
  {
   "cell_type": "code",
   "execution_count": 14,
   "metadata": {},
   "outputs": [
    {
     "name": "stdout",
     "output_type": "stream",
     "text": [
      "Hello John, you have $25678.95 in your account.\n"
     ]
    }
   ],
   "source": [
    "name = 'John'\n",
    "balance = 25678.95\n",
    "\n",
    "print(f'Hello {name}, you have ${balance} in your account.')   # Note that there is an 'f' in front of the string"
   ]
  },
  {
   "cell_type": "markdown",
   "metadata": {},
   "source": [
    "#### The `replace()` method\n",
    "The `replace()` method creates a new string where a part of the given string is replaced with a user-specified value. Here are a few examples."
   ]
  },
  {
   "cell_type": "code",
   "execution_count": 15,
   "metadata": {},
   "outputs": [
    {
     "name": "stdout",
     "output_type": "stream",
     "text": [
      "Coffee enhances my modeling skills.\n",
      "Coffee enhances my modelling skills.\n",
      "Kopi enhances my modelling skills.\n"
     ]
    }
   ],
   "source": [
    "string_us = 'Coffee enhances my modeling skills.'         # A sentence in American English\n",
    "print(string_us)\n",
    "\n",
    "string_uk = string_us.replace('modeling', 'modelling')    # A sentence in British English\n",
    "print(string_uk)\n",
    "\n",
    "string_sg = string_uk.replace('Coffee', 'Kopi')           # A sentence in Singlish\n",
    "print(string_sg)"
   ]
  },
  {
   "cell_type": "markdown",
   "metadata": {},
   "source": [
    "Note that in the default setting, if the target value appears multiple times in the string, then the `replace()` method replaces all of them by the user-specified value."
   ]
  },
  {
   "cell_type": "markdown",
   "metadata": {},
   "source": [
    " "
   ]
  },
  {
   "cell_type": "markdown",
   "metadata": {},
   "source": [
    "## Lists <a id=\"section2\"></a>\n",
    "\n",
    "### Create lists <a id=\"subsection2.1\"></a>\n",
    "The Python list is a collection of data (with the same or mixed types), created by placing all the items (elements) inside a square bracket `[]`, separated by commas.\n",
    "\n",
    "Here is a list of strings."
   ]
  },
  {
   "cell_type": "code",
   "execution_count": 16,
   "metadata": {
    "scrolled": false
   },
   "outputs": [
    {
     "name": "stdout",
     "output_type": "stream",
     "text": [
      "['Tigress', 'Crane', 'Mantis', 'Monkey', 'Viper']\n",
      "<class 'list'>\n"
     ]
    }
   ],
   "source": [
    "furious_five = ['Tigress', 'Crane', 'Mantis', 'Monkey', 'Viper']    \n",
    "print(furious_five)\n",
    "print(type(furious_five))"
   ]
  },
  {
   "cell_type": "markdown",
   "metadata": {},
   "source": [
    "A list of numbers, which are a mixture of `int` and `float` type items. "
   ]
  },
  {
   "cell_type": "code",
   "execution_count": 17,
   "metadata": {},
   "outputs": [
    {
     "name": "stdout",
     "output_type": "stream",
     "text": [
      "[1, 2.0, 3.0, 4, 5, 6.0]\n"
     ]
    }
   ],
   "source": [
    "numbers = [1, 2.0, 3.0, 4, 5, 6.0]                                       \n",
    "print(numbers)"
   ]
  },
  {
   "cell_type": "markdown",
   "metadata": {},
   "source": [
    "A list of items that are strings and floating point numbers."
   ]
  },
  {
   "cell_type": "code",
   "execution_count": 18,
   "metadata": {},
   "outputs": [
    {
     "name": "stdout",
     "output_type": "stream",
     "text": [
      "['SEASCAPE', 'CCR', 'Resale', 4388000.0]\n"
     ]
    }
   ],
   "source": [
    "condo = ['SEASCAPE',      # Name of the condo project (str)\n",
    "         'CCR',           # Region segment of the condo (str)\n",
    "         'Resale',        # Type of the condo (str)\n",
    "         4388000.0]       # Price of the condo (float)\n",
    "print(condo)"
   ]
  },
  {
   "cell_type": "markdown",
   "metadata": {},
   "source": [
    "Note that in defining creating the list `condo`, we break a long line of code into aligned shorter lines, and this is allowed when the expression is enclosed in parentheses, brackets or braces. Check the [PEP 8 Style Guide](https://www.python.org/dev/peps/pep-0008) for more details.\n",
    "\n",
    "\n",
    "<div class=\"alert alert-block alert-warning\">\n",
    "<b>Coding Style: </b> Limit all lines of code to a maximum of 79 characters.\n",
    "</div>\n",
    "\n",
    "> *The preferred way of wrapping long lines is by using Python's implied line continuation inside parentheses, brackets and braces. Long lines can be broken over multiple lines by wrapping expressions in parentheses.* -[PEP 8 Style Guide](https://www.python.org/dev/peps/pep-0008/#maximum-line-length)"
   ]
  },
  {
   "cell_type": "markdown",
   "metadata": {},
   "source": [
    "A list can also be empty, in the sense that there is no item in it. it can be simply created by empty brackets."
   ]
  },
  {
   "cell_type": "code",
   "execution_count": 19,
   "metadata": {},
   "outputs": [
    {
     "name": "stdout",
     "output_type": "stream",
     "text": [
      "[]\n"
     ]
    }
   ],
   "source": [
    "feel_empty = []\n",
    "print(feel_empty)"
   ]
  },
  {
   "cell_type": "markdown",
   "metadata": {},
   "source": [
    "Lists can also be created by converting objects of other types to lists."
   ]
  },
  {
   "cell_type": "code",
   "execution_count": 20,
   "metadata": {
    "scrolled": true
   },
   "outputs": [
    {
     "name": "stdout",
     "output_type": "stream",
     "text": [
      "['a', 'b', 'c', 'd']\n",
      "[0, 1, 2, 3, 4]\n"
     ]
    }
   ],
   "source": [
    "print(list('abcd'))    # Convert a string into a list\n",
    "print(list(range(5)))  # Convert the range type object into a list"
   ]
  },
  {
   "cell_type": "markdown",
   "metadata": {},
   "source": [
    "### Comparison between lists and strings <a id=\"subsection2.2\"></a>\n",
    "\n",
    "#### Similarities\n",
    "\n",
    "- The arrangement of data is similar: data items in a list are organized as an ordered sequence, just like how characters are organized in a string. so the `len()` function can also be used to return the number of items in a list."
   ]
  },
  {
   "cell_type": "code",
   "execution_count": 21,
   "metadata": {
    "scrolled": true
   },
   "outputs": [
    {
     "name": "stdout",
     "output_type": "stream",
     "text": [
      "5\n",
      "6\n",
      "4\n",
      "0\n"
     ]
    }
   ],
   "source": [
    "print(len(furious_five))\n",
    "print(len(numbers))\n",
    "print(len(condo))\n",
    "print(len(feel_empty))"
   ]
  },
  {
   "cell_type": "markdown",
   "metadata": {},
   "source": [
    "-  Items in a list can be accessed via the same indexing and slicing system as strings. "
   ]
  },
  {
   "cell_type": "code",
   "execution_count": 22,
   "metadata": {},
   "outputs": [
    {
     "name": "stdout",
     "output_type": "stream",
     "text": [
      "Viper\n",
      "['Tigress', 'Crane']\n"
     ]
    }
   ],
   "source": [
    "last_warrior = furious_five[-1]         # The last item from the list\n",
    "first_two_warriors = furious_five[:2]   # The first two items\n",
    "\n",
    "print(last_warrior)\n",
    "print(first_two_warriors)"
   ]
  },
  {
   "cell_type": "markdown",
   "metadata": {},
   "source": [
    "- The `+` and `*` operators can be used to concatenate or duplicate items in a list."
   ]
  },
  {
   "cell_type": "code",
   "execution_count": 23,
   "metadata": {},
   "outputs": [
    {
     "name": "stdout",
     "output_type": "stream",
     "text": [
      "['A', 'B', 'C', 2, 2.5, 2, 2.5, 2, 2.5]\n",
      "9\n"
     ]
    }
   ],
   "source": [
    "letters = ['A', 'B', 'C']       # A list of letters\n",
    "numbers = [2, 2.5]              # A list of numbers\n",
    "\n",
    "mixed = letters + numbers*3     # A mixed list\n",
    "\n",
    "print(mixed)                    # Print the new mixed list\n",
    "print(len(mixed))               # Print the length of the mixed list"
   ]
  },
  {
   "cell_type": "markdown",
   "metadata": {},
   "source": [
    "From the sample code above, you may notice that a list can also be created as 1) a slice of another list; and 2) the result of concatenation or duplication operations. \n",
    "\n",
    "#### Differences\n",
    "\n",
    "- Lists are **mutable**, meaning that you can modify part of the list elements. The string, on the other hand, is **immutable** as the characters cannot be partially changed. If you try to change a subset of string, an error message would be given. "
   ]
  },
  {
   "cell_type": "code",
   "execution_count": 24,
   "metadata": {},
   "outputs": [
    {
     "name": "stdout",
     "output_type": "stream",
     "text": [
      "['B', 'C', False, True, 0.256, 2]\n",
      "['B', 'D', False, True, 0.256, 2]\n",
      "['B', 'D', True, False, 0.256, 2]\n"
     ]
    }
   ],
   "source": [
    "my_answers = ['B', 'C', False, True, 0.256, 2]\n",
    "print(my_answers)                   # Print the original list\n",
    "\n",
    "my_answers[1] = 'D'                 # Modify the 2nd item in the list\n",
    "print(my_answers)                   # Print the modified list\n",
    "\n",
    "my_answers[2:4] = [True, False]     # Modify the 3rd and the 4th item\n",
    "print(my_answers)                   # Print the modified list"
   ]
  },
  {
   "cell_type": "markdown",
   "metadata": {},
   "source": [
    "### List methods <a id=\"subsection2.3\"></a>\n",
    "\n",
    "Similar to strings, the `list` type objects can also be processed by a number of methods. The full details of list methods can be found on [Python list methods](https://www.programiz.com/python-programming/methods/list). In this lecture, we will focus on a few frequently used list methods. \n",
    "\n",
    "#### Adding items by `append()`, `extend()`, and `insert()`\n",
    "\n",
    "Python list methods <code>append()</code> and <code>extend()</code> are used to modify a list by adding a single item or multiple items to the end of it, as shown by the following code. "
   ]
  },
  {
   "cell_type": "code",
   "execution_count": 25,
   "metadata": {},
   "outputs": [
    {
     "name": "stdout",
     "output_type": "stream",
     "text": [
      "['Halo infinite', 'Deathloop', 'Cyberpunk 2077']\n",
      "['Halo infinite', 'Deathloop', 'Cyberpunk 2077', 'AOE IV']\n",
      "['Halo infinite', 'Deathloop', 'Cyberpunk 2077', 'AOE IV', 'Battlefiled 2042', 'Fifa 22']\n"
     ]
    }
   ],
   "source": [
    "games = ['Halo infinite', 'Deathloop', 'Cyberpunk 2077']\n",
    "print(games)\n",
    "\n",
    "games.append('AOE IV')          # \"AOE IV\" is added to the list\n",
    "print(games)\n",
    "\n",
    "other_games = ['Battlefiled 2042', 'Fifa 22']\n",
    "games.extend(other_games)       # Items in other_games are added to the list\n",
    "print(games)"
   ]
  },
  {
   "cell_type": "markdown",
   "metadata": {},
   "source": [
    "Besides adding elements at the end of the list, we can also insert an item in an arbitrary position of the list, by using the method <code>insert()</code>, as demonstrated by the following code."
   ]
  },
  {
   "cell_type": "code",
   "execution_count": 26,
   "metadata": {},
   "outputs": [
    {
     "name": "stdout",
     "output_type": "stream",
     "text": [
      "['Halo infinite', 'Deathloop', 'Cyberpunk 2077', 'AOE IV']\n",
      "['Halo infinite', 'Deathloop', 'Dota 2', 'Cyberpunk 2077', 'AOE IV']\n"
     ]
    }
   ],
   "source": [
    "games = ['Halo infinite', 'Deathloop', 'Cyberpunk 2077', 'AOE IV']\n",
    "print(games)\n",
    "\n",
    "games.insert(2, 'Dota 2')       # Insert \"Dota 2\" at position 2\n",
    "print(games)"
   ]
  },
  {
   "cell_type": "markdown",
   "metadata": {},
   "source": [
    "It can be seen that for the method <code>insert()</code>, the first argument is the index of the position that the new item is inserted, and the second input argument is the data item to be inserted. \n",
    "\n",
    "#### Deleting items by `remove()` and `pop()`\n",
    "List methods `remove()` and `pop()` are used to delete an item from a list, given the value or index of the item, respectively. Examples are provided below to illustrate these two methods."
   ]
  },
  {
   "cell_type": "code",
   "execution_count": 27,
   "metadata": {},
   "outputs": [
    {
     "name": "stdout",
     "output_type": "stream",
     "text": [
      "['Halo infinite', 'Deathloop', 'Cyberpunk 2077', 'AOE IV']\n",
      "['Halo infinite', 'Cyberpunk 2077', 'AOE IV']\n"
     ]
    }
   ],
   "source": [
    "games = ['Halo infinite', 'Deathloop', 'Cyberpunk 2077', 'AOE IV']\n",
    "print(games)\n",
    "\n",
    "games.remove('Deathloop')       # Remove the item \"Deathloop\"\n",
    "print(games)"
   ]
  },
  {
   "cell_type": "markdown",
   "metadata": {},
   "source": [
    "It can be seen that the item `'Deathloop'` is deleted from the list by the `remove()` method. Please note that\n",
    "- The `remove()` method only removes the first occurrence of the input argument. \n",
    "- An error message is raised if the given value does not appear in the list. \n",
    "\n",
    "Besides specifying the value to be removed, we could also use the `pop()` method to remove items according to their position indexes. "
   ]
  },
  {
   "cell_type": "code",
   "execution_count": 28,
   "metadata": {
    "scrolled": true
   },
   "outputs": [
    {
     "name": "stdout",
     "output_type": "stream",
     "text": [
      "['Halo infinite', 'Deathloop', 'Cyberpunk 2077', 'AOE IV']\n",
      "Cyberpunk 2077\n",
      "['Halo infinite', 'Deathloop', 'AOE IV']\n"
     ]
    }
   ],
   "source": [
    "games = ['Halo infinite', 'Deathloop', 'Cyberpunk 2077', 'AOE IV']\n",
    "print(games)\n",
    "\n",
    "item = games.pop(2)             # Remove and return the item at position 2\n",
    "print(item)\n",
    "print(games)"
   ]
  },
  {
   "cell_type": "markdown",
   "metadata": {},
   "source": [
    "If the position index is not specified, then the `pop()` method removes the last item of the list. "
   ]
  },
  {
   "cell_type": "code",
   "execution_count": 29,
   "metadata": {},
   "outputs": [
    {
     "name": "stdout",
     "output_type": "stream",
     "text": [
      "['Halo infinite', 'Deathloop', 'Cyberpunk 2077', 'AOE IV']\n",
      "AOE IV\n",
      "['Halo infinite', 'Deathloop', 'Cyberpunk 2077']\n"
     ]
    }
   ],
   "source": [
    "games = ['Halo infinite', 'Deathloop', 'Cyberpunk 2077', 'AOE IV']\n",
    "print(games)\n",
    "\n",
    "item = games.pop()              # Remove and return the last item\n",
    "print(item)\n",
    "print(games)"
   ]
  },
  {
   "cell_type": "markdown",
   "metadata": {},
   "source": [
    "#### Searching for an item by `index()`\n",
    "\n",
    "The `index()` method returns the position index of a given item in the list, as demonstrated by the following example."
   ]
  },
  {
   "cell_type": "code",
   "execution_count": 30,
   "metadata": {
    "scrolled": true
   },
   "outputs": [
    {
     "name": "stdout",
     "output_type": "stream",
     "text": [
      "3\n"
     ]
    }
   ],
   "source": [
    "num_list = [3.5, 2.6, 0.2, 3.30, 1.8, 2.9, 5, 3.3]\n",
    "\n",
    "print(num_list.index(3.3))"
   ]
  },
  {
   "cell_type": "markdown",
   "metadata": {},
   "source": [
    "Please note that\n",
    "- The `index()` can only find the index of the first appearance of the given value.\n",
    "- It gives an error message if the given value does not appear in the list.\n",
    "\n",
    "### Lists as iterables <a id=\"subsection2.4\"></a>\n",
    "In Python programming, lists and strings are called **iterables**. An iterable is a compound data object that each of its elements is returned in an iteration of a `for` loop. \n",
    "\n",
    "<div class=\"alert alert-block alert-success\">\n",
    "<b>Example 2:</b>  \n",
    "    The list <span style='font-family:Courier'><b>usd</b></span> contains four money transactions in US dollars. Create another list named <span style='font-family:Courier'><b>sgd</b></span> that transfers each transaction into Singapore dollars. \n",
    "</div>\n",
    "\n",
    "In the following code cell, data items in the list `usd` are iteratively printed using a `for` loop. It can be seen that iterating items in a list is very similar to iterating each character in a string. "
   ]
  },
  {
   "cell_type": "code",
   "execution_count": 31,
   "metadata": {
    "scrolled": false
   },
   "outputs": [
    {
     "name": "stdout",
     "output_type": "stream",
     "text": [
      "2\n",
      "3.6\n",
      "2.05\n",
      "13.5\n"
     ]
    }
   ],
   "source": [
    "usd = [2, 3.60, 2.05, 13.50]\n",
    "\n",
    "for trans in usd:\n",
    "    print(trans)"
   ]
  },
  {
   "cell_type": "markdown",
   "metadata": {},
   "source": [
    "Hence we have the program below to create a new list with all money transactions in Singapore dollars."
   ]
  },
  {
   "cell_type": "code",
   "execution_count": 32,
   "metadata": {
    "scrolled": true
   },
   "outputs": [
    {
     "name": "stdout",
     "output_type": "stream",
     "text": [
      "[2.74, 4.932, 2.8085, 18.495]\n"
     ]
    }
   ],
   "source": [
    "exchange_rate = 1.37\n",
    "usd = [2, 3.60, 2.05, 13.50]\n",
    "\n",
    "sgd = []                                # Create an empty list named sgd\n",
    "for trans in usd:                       # Iterate each item in the usd\n",
    "    sgd.append(trans*exchange_rate)     # Append each item to the sgd list\n",
    "\n",
    "print(sgd)"
   ]
  },
  {
   "cell_type": "markdown",
   "metadata": {},
   "source": [
    "In the code above, we firstly create an empty list `sgd`, then use a `for` loop to iterate each transaction (`trans`) in the list `usd`. In each iteration, each transaction in Singapore dollars is calculated as `trans * exchange_rate` and is appended to the list `sgd`. After all iterations, the list `sgd` has all five transactions in Singapore dollars.\n",
    "\n",
    "A more Pythonic way of creating such a list is using **list comprehension**, which enable you to replace the loop statements with a single-line expression in the format of <code>[<i>expression</i> for <i>item</i> in <i>iterable</i>]</code>. "
   ]
  },
  {
   "cell_type": "code",
   "execution_count": 33,
   "metadata": {},
   "outputs": [
    {
     "name": "stdout",
     "output_type": "stream",
     "text": [
      "[2.74, 4.932, 2.8085, 18.495]\n"
     ]
    }
   ],
   "source": [
    "exchange_rate = 1.37\n",
    "usd = [2, 3.60, 2.05, 13.50]\n",
    "\n",
    "sgd = [trans*exchange_rate for trans in usd]\n",
    "\n",
    "print(sgd)"
   ]
  },
  {
   "cell_type": "markdown",
   "metadata": {},
   "source": [
    "In creating the list `sgd`, the expression of each item is written as `trans*exchange_rate`, where the variable `trans` is defined by the statement `for trans in usd`, meaning that it takes the value of each item in the list `usd`. \n",
    "\n",
    "In fact, we may also add `if`-statement into list comprehensions to process a subset of items in a given list. \n",
    "\n",
    "<div class=\"alert alert-block alert-success\">\n",
    "<b>Example 3:</b> \n",
    "    Given a list of words, create a new list that includes all words starting with a vowel letter (A, E, I, O, or U).\n",
    "</div>"
   ]
  },
  {
   "cell_type": "code",
   "execution_count": 34,
   "metadata": {},
   "outputs": [],
   "source": [
    "words = ['AI', 'machine learning', 'analytics', 'prediction', \n",
    "         'inference', 'regression', 'optimization']"
   ]
  },
  {
   "cell_type": "markdown",
   "metadata": {},
   "source": [
    "We first create the new list with the `for` statements. "
   ]
  },
  {
   "cell_type": "code",
   "execution_count": 35,
   "metadata": {},
   "outputs": [
    {
     "name": "stdout",
     "output_type": "stream",
     "text": [
      "['AI', 'analytics', 'inference', 'optimization']\n"
     ]
    }
   ],
   "source": [
    "new = []\n",
    "for word in words:\n",
    "    if word[0].lower() in 'aeiou':\n",
    "        new.append(word)\n",
    "\n",
    "print(new)"
   ]
  },
  {
   "cell_type": "markdown",
   "metadata": {},
   "source": [
    "Equivalently, we can use comprehensions to create the new list. "
   ]
  },
  {
   "cell_type": "code",
   "execution_count": 36,
   "metadata": {},
   "outputs": [
    {
     "name": "stdout",
     "output_type": "stream",
     "text": [
      "['AI', 'analytics', 'inference', 'optimization']\n"
     ]
    }
   ],
   "source": [
    "new = [word for word in words if word[0].lower() in 'aeiou']\n",
    "\n",
    "print(new)"
   ]
  },
  {
   "cell_type": "markdown",
   "metadata": {},
   "source": [
    "<div class=\"alert alert-block alert-warning\">\n",
    "<b>Coding Style: </b>   \n",
    "List comprehension is preferred to a loop in creating new lists.\n",
    "</div>"
   ]
  }
 ],
 "metadata": {
  "kernelspec": {
   "display_name": "Python 3 (ipykernel)",
   "language": "python",
   "name": "python3"
  },
  "language_info": {
   "codemirror_mode": {
    "name": "ipython",
    "version": 3
   },
   "file_extension": ".py",
   "mimetype": "text/x-python",
   "name": "python",
   "nbconvert_exporter": "python",
   "pygments_lexer": "ipython3",
   "version": "3.7.10"
  },
  "toc": {
   "base_numbering": 1,
   "nav_menu": {},
   "number_sections": false,
   "sideBar": false,
   "skip_h1_title": true,
   "title_cell": "Contents",
   "title_sidebar": "Contents",
   "toc_cell": true,
   "toc_position": {},
   "toc_section_display": true,
   "toc_window_display": false
  },
  "varInspector": {
   "cols": {
    "lenName": 16,
    "lenType": 16,
    "lenVar": 40
   },
   "kernels_config": {
    "python": {
     "delete_cmd_postfix": "",
     "delete_cmd_prefix": "del ",
     "library": "var_list.py",
     "varRefreshCmd": "print(var_dic_list())"
    },
    "r": {
     "delete_cmd_postfix": ") ",
     "delete_cmd_prefix": "rm(",
     "library": "var_list.r",
     "varRefreshCmd": "cat(var_dic_list()) "
    }
   },
   "types_to_exclude": [
    "module",
    "function",
    "builtin_function_or_method",
    "instance",
    "_Feature"
   ],
   "window_display": false
  }
 },
 "nbformat": 4,
 "nbformat_minor": 2
}
