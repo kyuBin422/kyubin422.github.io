{
 "cells": [
  {
   "cell_type": "markdown",
   "metadata": {
    "slideshow": {
     "slide_type": "slide"
    }
   },
   "source": [
    "# Lecture 2: Introduction to Python Programming\n",
    "\n",
    "## Contents\n",
    "\n",
    "- [Basics of Python Programming](#section1)\n",
    "    - [\"Do things with stuff\"](#subsection1.1)\n",
    "    - [Memorizing results as Python objects](#subsection1.2)\n",
    "    - [Data type conversions](#subsection1.3)\n",
    "- [Introduction to Control Flows](#section2)\n",
    "    - [Computational thinking](#subsection2.1)\n",
    "    - [Boolean type expressions](#subsection2.2)\n",
    "    - [Problem-solving with algorithms](#subsection2.3)"
   ]
  },
  {
   "cell_type": "markdown",
   "metadata": {
    "slideshow": {
     "slide_type": "notes"
    }
   },
   "source": [
    "## Basics of Python Programming <a id='section1'></a>\n",
    "\n",
    "### \"Do things with stuff\" <a id='subsection1.1'></a>\n",
    "\n",
    ">*In an informal sense, in Python, we do things with stuff. \"Things\" take the form of operations like addition and concatenation, and \"stuff\" refers to the objects on which we perform those operations.* - [Learning Python](https://www.amazon.com/Learning-Python-5th-Mark-Lutz/dp/1449355730)\n",
    "\n",
    "#### What does a computer do\n",
    "- Perform calculations\n",
    "- Memorize results\n",
    "\n",
    "#### How does a program work\n",
    "- A sequence of instructions stored inside computer\n",
    "- Interpreter executes each instruction in order\n",
    "\n",
    "In the code segment below, we are using the `print()` function to print the values of a few expressions. Note that these instructions, given as each line of code, are executed one by one, as shown by the printed messages. "
   ]
  },
  {
   "cell_type": "code",
   "execution_count": 1,
   "metadata": {
    "scrolled": true
   },
   "outputs": [
    {
     "name": "stdout",
     "output_type": "stream",
     "text": [
      "3\n",
      "Hello!\n",
      "6.1\n"
     ]
    }
   ],
   "source": [
    "print(1 + 2)        # Execute the 1st instruction\n",
    "print('Hello!')     # Execute the 2nd instruction\n",
    "print(3.5 + 2.6)    # Execute the 3rd instruction"
   ]
  },
  {
   "cell_type": "markdown",
   "metadata": {},
   "source": [
    "From previous lecture, you may notice that only the last line of a code cell is displayed as the <code>Out</code> message. Values or intermediate results of the other lines are not shown. Here we can use the `print()` function to print the results of these expressions. \n",
    "\n",
    "#### Where a program goes wrong\n",
    "\n",
    "- **Syntax errors**: mistakes in the use of the Python language, and Python will find these kinds of errors when it tries to parse your program, and exit with an error message without running anything. Such errors include misspelling a keyword, leaving out a symbol, such as a colon, comma or brackets, incorrect indentation, etc. \n",
    "- **Runtime errors**: errors which were not detected when the program was parsed, but are only revealed when a particular line is executed. Such errors include division over zero, using an undefined name, etc. \n",
    "- **Logic errors**: errors caused by mistakes in the program’s logic. They occur when the program runs without crashing, but produces an incorrect result. Possible logic errors include getting operator precedence wrong, indenting a code block to the wrong level, mistakes in boolean expressions, etc. \n",
    "\n",
    "### Memorizing results as Python objects <a id='subsection1.2'></a>\n",
    "\n",
    "#### Python objects\n",
    "Everything created in Python—booleans, integers, floats, strings, even large data structures, functions, and programs—is implemented as an **object**. Objects are essentially pieces of memory, with values and sets of associated operations.\n",
    "\n",
    "#### Types of objects\n",
    "All Python objects are associated with a **type**, and the type can be retrieved by the `type()` function."
   ]
  },
  {
   "cell_type": "code",
   "execution_count": 2,
   "metadata": {
    "scrolled": false
   },
   "outputs": [
    {
     "name": "stdout",
     "output_type": "stream",
     "text": [
      "<class 'int'>\n",
      "<class 'float'>\n",
      "<class 'str'>\n"
     ]
    }
   ],
   "source": [
    "print(type(5))          # The type of the object 5 is int\n",
    "print(type(2.3))        # The type of the object 2.3 is float\n",
    "print(type('Hello!'))   # The type of the object \"World\" is str"
   ]
  },
  {
   "cell_type": "markdown",
   "metadata": {},
   "source": [
    "Here, objects `5`, `2.3`, and `'Hello!` are data items memorized by the computer, and they have different types:\n",
    "- `5` is an `int` type object, indicating signed integers. \n",
    "- `2.3` is a `float` type object, indicating floating point (fractional) numbers. The `float` type objects are numbers with the decimal point `.`. \n",
    "- `'Hello!'` is a `str` type object, representing a string of characters. The `str` type objects are created by characters surrounded by either single or double quotation marks. \n",
    "\n",
    "Please note that the type of an object may not be determined by its value, see examples below."
   ]
  },
  {
   "cell_type": "code",
   "execution_count": 3,
   "metadata": {
    "scrolled": true
   },
   "outputs": [
    {
     "name": "stdout",
     "output_type": "stream",
     "text": [
      "<class 'int'>\n",
      "<class 'float'>\n",
      "<class 'str'>\n"
     ]
    }
   ],
   "source": [
    "print(type(51))         # An int type object\n",
    "print(type(51.))        # A float type object\n",
    "print(type(\"51\"))       # A str type object"
   ]
  },
  {
   "cell_type": "markdown",
   "metadata": {},
   "source": [
    "For the same number 51, the type of `51` is `int`, the type of `51.` is float because it contains the decimal point, and `\"51\"` is a `str` because it is defined as characters enclosed within quotation marks. \n",
    "\n",
    "<div class=\"alert alert-block alert-danger\">\n",
    "<b>Notes:</b><br>  \n",
    "The type of an object is very important because \n",
    "<li> It defines the possible values for objects (e.g. <span style='font-family:Courier'><b>int</b></span> type objects can only have integer values); </li>\n",
    "<li> It determines the operations that the object supports. </li>\n",
    "</div>\n",
    "\n",
    "The second point is illustrated by the following examples. Different data types support different operations, even for the same addition operator `+`. "
   ]
  },
  {
   "cell_type": "code",
   "execution_count": 4,
   "metadata": {
    "scrolled": true
   },
   "outputs": [
    {
     "name": "stdout",
     "output_type": "stream",
     "text": [
      "7.3\n",
      "Hello World\n"
     ]
    }
   ],
   "source": [
    "print(2.3 + 5)              # Numerical addition via \"+\"\n",
    "print('Hello ' + 'World')   # Combining strings via \"+\""
   ]
  },
  {
   "cell_type": "markdown",
   "metadata": {},
   "source": [
    "Similarly, the same multiplication operator `*` indicates different operations on `float` and `str` data types. "
   ]
  },
  {
   "cell_type": "code",
   "execution_count": 5,
   "metadata": {},
   "outputs": [
    {
     "name": "stdout",
     "output_type": "stream",
     "text": [
      "11.5\n",
      "Hello Hello Hello Hello Hello \n"
     ]
    }
   ],
   "source": [
    "print(2.3 * 5)              # Numerical multiplication via \"*\"\n",
    "print('Hello ' * 5)         # Repeat the string via \"*\""
   ]
  },
  {
   "cell_type": "code",
   "execution_count": 6,
   "metadata": {},
   "outputs": [
    {
     "name": "stdout",
     "output_type": "stream",
     "text": [
      "I will not throw paper airplaines in class. I will not throw paper airplaines in class. I will not throw paper airplaines in class. I will not throw paper airplaines in class. I will not throw paper airplaines in class. \n"
     ]
    }
   ],
   "source": [
    "print('I will not throw paper airplaines in class. ' * 5)"
   ]
  },
  {
   "cell_type": "markdown",
   "metadata": {},
   "source": [
    "It can be seen that operations associated with operators <code>+</code> and <code>*</code> are determined by the data types of operands. For <code>str</code> type operands, the operator <code>+</code> is used to concatenate string segments, and the operator <code>*</code> is used to repeat the content of a string by a given <code>int</code> number of times. In cases that the operations are not supported by the types of operands, the program is terminated by an error message. \n",
    "\n",
    "#### Variables and assignment statement \n",
    "\n",
    "Python and many other programming languages allow you to define variables. These variables are names that refer to objects in the computer's memory that you can define for use with your program. A variable can be created by an **assignment statement**, which associate the variable name with an object. An assignment statement can be broken into the following components:\n",
    "- Assignment operator <code>=</code>. \n",
    "- Variable(s): name(s) on the left.\n",
    "- Object(s): expression(s) on the right.\n",
    "\n",
    "Once a variable is created, the associated object can be accessed via the variable in the subsequent code.\n",
    "\n",
    "<div class=\"alert alert-block alert-success\">\n",
    "<b>Example 1:</b>  \n",
    "John had a saving account with a $\\$1000$ balance. He received a $1\\%$ interest and made a 1) $\\$200$ deposit and then 2) a $\\$375$ withdrawal. What is the current balance of the saving account. \n",
    "</div>\n",
    "\n",
    "Such a simple problem can be directly solved by an expression of the given numerical values. "
   ]
  },
  {
   "cell_type": "code",
   "execution_count": 7,
   "metadata": {},
   "outputs": [
    {
     "name": "stdout",
     "output_type": "stream",
     "text": [
      "860.0\n"
     ]
    }
   ],
   "source": [
    "print(1000*(1+0.01) + 200 - 350)"
   ]
  },
  {
   "cell_type": "markdown",
   "metadata": {},
   "source": [
    "An alternative method is to define variables for the corresponding quantities first, and then perform the computation using these variables. "
   ]
  },
  {
   "cell_type": "code",
   "execution_count": 8,
   "metadata": {},
   "outputs": [
    {
     "name": "stdout",
     "output_type": "stream",
     "text": [
      "860.0\n"
     ]
    }
   ],
   "source": [
    "interest = 0.01                   # Interest rate\n",
    "deposit = 200                     # Deposit \n",
    "withdrawal = 350                  # Withdrawal\n",
    "balance = 1000                    # Balance of the account           \n",
    "\n",
    "print(balance*(1+interest) + deposit - withdrawal)"
   ]
  },
  {
   "cell_type": "markdown",
   "metadata": {},
   "source": [
    "A third method is to split the calculation of account balance into several separate steps. This method is more suitable for complicated computations, as the logic in separated steps is clearer compared with a long and complex mathematical expression. "
   ]
  },
  {
   "cell_type": "code",
   "execution_count": 9,
   "metadata": {},
   "outputs": [
    {
     "name": "stdout",
     "output_type": "stream",
     "text": [
      "860.0\n"
     ]
    }
   ],
   "source": [
    "interest = 0.01                   # Interest rate\n",
    "deposit = 200                     # Deposit \n",
    "withdrawal = 350                  # Withdrawal\n",
    "\n",
    "balance = 1000                    # Balance of the account       \n",
    "balance = balance * (1+interest)  # Balance after receving the interest\n",
    "balance = balance + deposit       # Balance after making the deposit\n",
    "balance = balance - withdrawal    # Balance after making the withdrawal\n",
    "\n",
    "print(balance)"
   ]
  },
  {
   "cell_type": "markdown",
   "metadata": {},
   "source": [
    "In this example, we are using variable names `balance`, `interest`, `deposit`, and `withdrawal` for better readability. In fact, you may use any variable names as long as they follow the syntax rules below.\n",
    "<div class=\"alert alert-block alert-danger\">\n",
    "<b>Notes: syntax for variable names:</b> \n",
    "<li>Only one word</li>\n",
    "<li>Only consist of letters, numbers, and underscores</li>\n",
    "<li>Cannot begin with a number</li>\n",
    "<li>Avoid contradictions with Python <a href=\"https://www.programiz.com/python-programming/keyword-list\"><b>keywords</b></a> or other variable/function names\n",
    "</div>\n",
    "\n",
    "Do not worry too much about memorizing all keywords. In Jupyter and other programming environment, the keywords are highlighted by a different color, to prevent users from naming their variables and functions after the keywords. \n",
    "\n",
    "<div class=\"alert alert-block alert-warning\">\n",
    "<b>Coding Style: </b>   \n",
    "<a href=\"https://www.python.org/dev/peps/pep-0008/#function-and-variable-names\">PEP 8 Style Guide:</a> \n",
    "<li>Variable names</li>\n",
    "<li>Whitespace in expressions and statements</li>\n",
    "<li>Empty lines used for better readability</li>\n",
    "</div>\n",
    "\n",
    "Besides the assignment operator `=`, some other operators can also be used in assignment statement.\n",
    "\n",
    "Operators | Examples | Remarks\n",
    ":---------|:--------|:---------\n",
    "`+=` | `x += y` | Equivalent to `x = x + y`\n",
    "`-=` | `x -= y` | Equivalent to `x = x - y`\n",
    "`*=` | `x *= y` | Equivalent to `x = x * y`\n",
    "`/=` | `x /= y` | Equivalent to `x = x / y`\n",
    "`//=` | `x //= y` | Equivalent to `x = x // y`\n",
    "`%=` | `x %= y` | Equivalent to `x = x % y`\n",
    "`**=` | `x **= y` | Equivalent to `x = x ** y`\n",
    "\n",
    "As a result, the code for **Example 1** can be rewritten as follows."
   ]
  },
  {
   "cell_type": "code",
   "execution_count": 10,
   "metadata": {
    "scrolled": true
   },
   "outputs": [
    {
     "name": "stdout",
     "output_type": "stream",
     "text": [
      "860.0\n"
     ]
    }
   ],
   "source": [
    "interest = 0.01                   # Interest rate\n",
    "deposit = 200                     # Deposit \n",
    "withdrawal = 350                  # Withdrawal\n",
    "\n",
    "balance = 1000                    # Balance of the account       \n",
    "balance *= 1 + interest           # Balance after receving the interest\n",
    "balance += deposit                # Balance after making the deposit\n",
    "balance -= withdrawal             # Balance after making the withdrawal\n",
    "\n",
    "print(balance)"
   ]
  },
  {
   "cell_type": "markdown",
   "metadata": {},
   "source": [
    "Alternatively, we can use different variable names, and the results would be the same."
   ]
  },
  {
   "cell_type": "code",
   "execution_count": 11,
   "metadata": {},
   "outputs": [
    {
     "name": "stdout",
     "output_type": "stream",
     "text": [
      "860.0\n"
     ]
    }
   ],
   "source": [
    "interest = 0.01                   # Interest rate\n",
    "change1 = 200                     # Positive value for deposits \n",
    "change2 = -350                    # Negative value for withdrawals\n",
    "\n",
    "balance = 1000                    # Balance of the account       \n",
    "balance *= 1 + interest           # Balance after receving the interest\n",
    "balance += change1                # Balance after making the deposit\n",
    "balance += change2                # Balance after making the withdrawal\n",
    "\n",
    "print(balance)"
   ]
  },
  {
   "cell_type": "markdown",
   "metadata": {},
   "source": [
    "<div class=\"alert alert-block alert-success\">\n",
    "<b>Example 2:</b>  \n",
    "    There are two variables <span style='font-family:Courier'><b>cage</b></span> and <span style='font-family:Courier'><b>travolta</b></span> and their values are \"bad guy\" and \"good guy\", respectively. Swap the values of variables <span style='font-family:Courier'><b>cage</b></span> and <span style='font-family:Courier'><b>travolta</b></span> so that <span style='font-family:Courier'><b>cage</b></span> becomes \"good guy\" and <span style='font-family:Courier'><b>travolta</b></span> becomes \"bad guy\".\n",
    "</div>"
   ]
  },
  {
   "cell_type": "code",
   "execution_count": 12,
   "metadata": {
    "scrolled": true
   },
   "outputs": [
    {
     "name": "stdout",
     "output_type": "stream",
     "text": [
      "good guy\n",
      "bad guy\n"
     ]
    }
   ],
   "source": [
    "cage = 'bad guy'\n",
    "travolta = 'good guy'\n",
    "\n",
    "temp = cage\n",
    "cage = travolta\n",
    "travolta = temp\n",
    "\n",
    "print(cage)\n",
    "print(travolta)"
   ]
  },
  {
   "cell_type": "markdown",
   "metadata": {},
   "source": [
    "### Data type conversions <a id='subsection1.3'></a>\n",
    "\n",
    "Examples above show that some functions or operators, such as <code>+</code> and <code>*</code>, may perform differently as they are applied to operands with different data types. There are times we need to convert data between types in order to manipulate them in the desired way. In Python, data type conversions can be conducted by using the type name as the conversion function. For instance, the function <code>int()</code> converts an object into an <code>int</code> type object, and <code>float()</code> converts an object into <code>float</code> type.  "
   ]
  },
  {
   "cell_type": "code",
   "execution_count": 13,
   "metadata": {
    "scrolled": true
   },
   "outputs": [
    {
     "name": "stdout",
     "output_type": "stream",
     "text": [
      "<class 'str'>\n",
      "<class 'int'>\n",
      "<class 'float'>\n"
     ]
    }
   ],
   "source": [
    "num = '5'\n",
    "print(type(num))        # Type of num is str\n",
    "\n",
    "num_int = int(num)      # Create an int type object\n",
    "print(type(num_int))    # Type of num_int is int\n",
    "\n",
    "num_float = float(num)  # Create a float type object\n",
    "print(type(num_float))  # Type of num_float is float"
   ]
  },
  {
   "cell_type": "markdown",
   "metadata": {},
   "source": [
    "The same multiplication operation will given different results as variables are of different data types. "
   ]
  },
  {
   "cell_type": "code",
   "execution_count": 14,
   "metadata": {},
   "outputs": [
    {
     "name": "stdout",
     "output_type": "stream",
     "text": [
      "555\n",
      "15\n",
      "15.0\n"
     ]
    }
   ],
   "source": [
    "print(num * 3)          # Repitition of the string\n",
    "print(num_int * 3)      # Multiplication of integers\n",
    "print(num_float * 3)    # Multiplication of floating point numbers"
   ]
  },
  {
   "cell_type": "markdown",
   "metadata": {},
   "source": [
    "<div class=\"alert alert-block alert-success\">\n",
    "<b>Example 3:</b>  \n",
    "Write a program that allows the user to input a temperature in Celsius, then convert the value to Fahrenheit temperature. The equation for the conversion is $T_{\\text{Fahrenheit}} = T_{\\text{Celsius}} \\times 1.8 + 32$.  \n",
    "</div>\n",
    "\n",
    "In this example, we can use the function <code>input()</code> to generate a prompt that allows users to give an input. The following code segment shows how to use the `input()` function. "
   ]
  },
  {
   "cell_type": "code",
   "execution_count": 15,
   "metadata": {
    "scrolled": true
   },
   "outputs": [
    {
     "name": "stdout",
     "output_type": "stream",
     "text": [
      "Your name is: Jack\n",
      "Hello Jack!\n"
     ]
    }
   ],
   "source": [
    "name = input('Your name is: ')\n",
    "print('Hello ' + name + '!')"
   ]
  },
  {
   "cell_type": "markdown",
   "metadata": {},
   "source": [
    "The output of the `input()` function is always a `str` type object, regardless of the content of users' inputs, so in this example, the input temperature is a `str` and cannot be directly used for numerical calculation. "
   ]
  },
  {
   "cell_type": "code",
   "execution_count": 16,
   "metadata": {},
   "outputs": [
    {
     "name": "stdout",
     "output_type": "stream",
     "text": [
      "Celsius: 36.5\n"
     ]
    },
    {
     "data": {
      "text/plain": [
       "'36.5'"
      ]
     },
     "execution_count": 16,
     "metadata": {},
     "output_type": "execute_result"
    }
   ],
   "source": [
    "temp_c = input('Celsius: ')\n",
    "temp_c"
   ]
  },
  {
   "cell_type": "markdown",
   "metadata": {},
   "source": [
    "As a result, the `str` type input must be converted into numerical values first, so that the mathematical equation for temperature conversion can be applied."
   ]
  },
  {
   "cell_type": "code",
   "execution_count": 17,
   "metadata": {},
   "outputs": [
    {
     "name": "stdout",
     "output_type": "stream",
     "text": [
      "Celsius: 36.5\n",
      "Fahrenheit: 97.7\n"
     ]
    }
   ],
   "source": [
    "temp_c_str = input('Celsius: ')         # Input value as a string\n",
    "temp_c = float(temp_c_str)              # Convert the string to a float\n",
    "temp_f = temp_c*1.8 + 32                # Calculate the Fahrenheit temperature\n",
    "print('Fahrenheit: ' + str(temp_f))     # Print the Fahrenheit temperature"
   ]
  },
  {
   "cell_type": "markdown",
   "metadata": {},
   "source": [
    "Please note that \"type conversion\" does not imply that we change the data type of the variable or object (recalling that the data type of an object cannot be changed once it is created). Instead, we created an new object with the designated data type. Such as in the example above, the new object `temp_c` is created and its data type is `float` as indicated by the type conversion function. "
   ]
  },
  {
   "cell_type": "markdown",
   "metadata": {},
   "source": [
    "<div class=\"alert alert-block alert-info\">\n",
    "<b>Question 1:</b>  \n",
    "Write a program that ask the user to input a word and an integer, then it will print the word repeated by the given number of times. For example, if the user inputs \"Go\" and \"5\", then the printed message will be \"Go Go Go Go Go\". \n",
    "</div>"
   ]
  },
  {
   "cell_type": "code",
   "execution_count": null,
   "metadata": {},
   "outputs": [],
   "source": []
  },
  {
   "cell_type": "markdown",
   "metadata": {},
   "source": [
    "## Introduction to Control Flows <a id='section2'>\n",
    "\n",
    "### Computational thinking <a id='subsection2.1'>\n",
    "\n",
    "Computational thinking is a set of problem-solving methods that involve expressing problems and their solutions in ways that a computer could also execute. The fundamental of computational thinking involves the understanding of control flows, i.e., the order in which the program’s code executes. The control flow of a Python program is regulated by conditional statements, loops, and function calls. In this lecture, we will focus on the concepts of the first two. \n",
    "\n",
    "<img src=\"https://github.com/XiongPengNUS/dao_resources/blob/main/alg_control_flow.png?raw=true\" width=800>\n",
    "\n",
    "### Boolean type expressions <a id=\"subsection2.2\">\n",
    "As you can see from the flowchart, we are using \"Yes\" and \"No\" for taking different route of executing code. These \"Yes\" and \"No\" statuses are represented by `True` or `False`, i.e., the boolean type expressions in Python. "
   ]
  },
  {
   "cell_type": "code",
   "execution_count": 18,
   "metadata": {
    "scrolled": false
   },
   "outputs": [
    {
     "name": "stdout",
     "output_type": "stream",
     "text": [
      "<class 'bool'>\n",
      "<class 'bool'>\n"
     ]
    }
   ],
   "source": [
    "print(type(True))\n",
    "print(type(False))"
   ]
  },
  {
   "cell_type": "markdown",
   "metadata": {},
   "source": [
    "Many functions and operations returns boolean objects.\n",
    "\n",
    "#### Comparison operators\n",
    "The comparison operators are used to compare two values, and a boolean value is returned. \n",
    "\n",
    "Operator |   Name  |  Example\n",
    ":--------|:--------|:---------\n",
    "`==` | Equal | `x == y`\n",
    "`!=` | Not equal | `x != y`\n",
    "`>=` | Greater than or equal to | `x >= y`\n",
    "`<=` | Smaller than or equal to | `x <= y`\n",
    "`>` | Greater than | `x > y`\n",
    "`<` | Smaller than | `x < y`\n",
    "\n",
    "A few examples are given below."
   ]
  },
  {
   "cell_type": "code",
   "execution_count": 19,
   "metadata": {},
   "outputs": [
    {
     "name": "stdout",
     "output_type": "stream",
     "text": [
      "True\n",
      "False\n",
      "True\n",
      "False\n"
     ]
    }
   ],
   "source": [
    "print(2 <= 3)      # 2 <= 3 is True\n",
    "print(3.5 > 4)     # 3.5 > 4 is False\n",
    "print(2 == 2.0)    # 2 == 2.0 is True\n",
    "print(2 != 2.0)    # 2 != 2.0 is False"
   ]
  },
  {
   "cell_type": "markdown",
   "metadata": {},
   "source": [
    "#### Membership operators\n",
    "Membership operators are used to test if a sequence is presented in an object.\n",
    "\n",
    "Operator |   Name  |  Example\n",
    ":--------|:--------|:---------\n",
    "`in` | Returns True if it finds a variable <br> in the specified sequence and <br> false otherwise | `x in y`\n",
    "`not in` | Returns True if it does not finds a <br> variable in the specified sequence <br> and false otherwise | `x not in y`\n",
    "\n",
    "For example, the membership operators can be used in searching a given word in a sentence."
   ]
  },
  {
   "cell_type": "code",
   "execution_count": 20,
   "metadata": {
    "scrolled": true
   },
   "outputs": [
    {
     "name": "stdout",
     "output_type": "stream",
     "text": [
      "True\n",
      "False\n",
      "True\n"
     ]
    }
   ],
   "source": [
    "line = \"All work and no play makes Jack a dull boy.\"\n",
    "\n",
    "print('work' in line)       # True as \"work\" is in the sentence\n",
    "print('Work' in line)       # False as \"Work\" is not in the sentence\n",
    "print('John' not in line)   # True as \"John\" is not in the sentence"
   ]
  },
  {
   "cell_type": "markdown",
   "metadata": {},
   "source": [
    "#### Logical operators\n",
    "\n",
    "Logical operators are used to combine conditional statements.\n",
    "\n",
    "Operator |   Name  |  Example\n",
    ":--------|:--------|:---------\n",
    "`and` | Returns True if both <br> statements are True | `x >= 1 and x <= 2`\n",
    "`or` | Returns True if either <br> one statements is True | `x >= 1 or x <= 2`\n",
    "`not` | Reverse the result, returns <br> False if the result is True | `not x == 0`\n",
    "\n",
    "Please check the following example, you are encourage to change the values of boolean type variables, and explore the results."
   ]
  },
  {
   "cell_type": "code",
   "execution_count": 21,
   "metadata": {},
   "outputs": [
    {
     "name": "stdout",
     "output_type": "stream",
     "text": [
      "False\n",
      "True\n"
     ]
    }
   ],
   "source": [
    "is_monday = True\n",
    "is_public_holiday = False\n",
    "is_weekends = False\n",
    "\n",
    "no_school = is_public_holiday or is_weekends\n",
    "stressful_day = is_monday and not is_public_holiday\n",
    "\n",
    "print(no_school)\n",
    "print(stressful_day)"
   ]
  },
  {
   "cell_type": "markdown",
   "metadata": {},
   "source": [
    "<div class=\"alert alert-block alert-info\">\n",
    "<b>Question 2:</b>  \n",
    "    <li>Given <span style='font-family:Courier'><b>x</b></span> as a number, create a boolean expression that is <span style='font-family:Courier'><b>True</b></span> if <span style='font-family:Courier'><b>x</b></span> is no smaller than 0 and no larger than 10, and <span style='font-family:Courier'><b>False</b></span> otherwise. </li>\n",
    "    <li>Given <span style='font-family:Courier'><b>x</b></span> as a positive integer, create a boolean expression that is <span style='font-family:Courier'><b>True</b></span> if <span style='font-family:Courier'><b>x</b></span> is an even number, and is <span style='font-family:Courier'><b>False</b></span> if <span style='font-family:Courier'><b>x</b></span> is an odd number. </li>\n",
    "    <li>Given <span style='font-family:Courier'><b>s</b></span> as a string in lower cases, create a boolean expression that is <span style='font-family:Courier'><b>True</b></span> if it contains \"a\" and \"b\", otherwise the boolean expression is <span style='font-family:Courier'><b>False</b></span>. </li>\n",
    "    <li>Given <span style='font-family:Courier'><b>x</b></span> as a number, create a boolean expression that is <span style='font-family:Courier'><b>True</b></span> if it contains the digit 3 or 5, otherwise the boolean expression is <span style='font-family:Courier'><b>False</b></span>. </li>\n",
    "</div>"
   ]
  },
  {
   "cell_type": "code",
   "execution_count": null,
   "metadata": {},
   "outputs": [],
   "source": []
  },
  {
   "cell_type": "code",
   "execution_count": null,
   "metadata": {
    "scrolled": false
   },
   "outputs": [],
   "source": []
  },
  {
   "cell_type": "code",
   "execution_count": null,
   "metadata": {},
   "outputs": [],
   "source": []
  },
  {
   "cell_type": "code",
   "execution_count": null,
   "metadata": {},
   "outputs": [],
   "source": []
  },
  {
   "cell_type": "markdown",
   "metadata": {},
   "source": [
    "### Problem-solving with algorithms <a id=\"subsection2.3\"></a>\n",
    "\n",
    "By executing each line of code for performing calculations and/or memorizing the results in a specifically designed order, we will have an **algorithm** for solving problems of a certain class. In this lecture, we will focus on using flowcharts to visualize operations and their sequence involved in an algorithm, and in the next lecture, we will introduce the Python syntax for implementing these algorithms.  \n",
    "\n",
    "<div class=\"alert alert-block alert-success\">\n",
    "<b>Example 4:</b>  \n",
    "The price of ticket for admission to Singapore Zoo is $\\$41$ for adults, and $\\$18$ for senior citizens, who are 60 years old or above. The ticket price for children who aged 3 to 12 years old, is $\\$28$, and children under 3 years old can enjoy a free admission to the zoo. Given a visitor's age, draw the flowchart to determine the ticket price.\n",
    "</div>\n",
    "\n",
    "<img src=\"https://github.com/XiongPengNUS/dao_resources/blob/main/szoo_flowchart.png?raw=true\" width=700>\n",
    "\n",
    "<div class=\"alert alert-block alert-info\">\n",
    "<b>Question 3:</b>  \n",
    "According to the Gregorian calendar, the leap years are identified as:<br>\n",
    "1. The year is evenly divisible by 4 but not evenly divisible by 100; <br>\n",
    "2. Or the year is evenly divisible by 400. <br>\n",
    "Otherwise the year is a common year. Draw the flowchart that determines if a given year is a leap year or a common year.\n",
    "</ol>\n",
    "</div>\n",
    "\n",
    "<div class=\"alert alert-block alert-success\">\n",
    "<b>Example 5:</b>  \n",
    "PUBG is an online game where $n$ players are killing each others and the final survivor is the winner. If each player is equally good, we can prove that the expected number of kills made by the winner is $1 + 1/2 + 1/3 + ... + 1/(n-1)$. Draw the flowchart for calculating this expected number of kills. \n",
    "</div>\n",
    "\n",
    "<img src=\"https://github.com/XiongPengNUS/dao_resources/blob/main/pubg_flowchart1.png?raw=true\" width=800>\n",
    "\n",
    "<div class=\"alert alert-block alert-info\">\n",
    "<b>Question 4:</b>  \n",
    "As the developer of the PUBG game, you want to make sure that the expected number of kills made by the winner of the game is at least four, assuming all players are equally good. Let $n$ be the total number of players in one game, draw the flowchart for calculating the minimum value of $n$. \n",
    "</div>"
   ]
  }
 ],
 "metadata": {
  "kernelspec": {
   "display_name": "Python 3 (ipykernel)",
   "language": "python",
   "name": "python3"
  },
  "language_info": {
   "codemirror_mode": {
    "name": "ipython",
    "version": 3
   },
   "file_extension": ".py",
   "mimetype": "text/x-python",
   "name": "python",
   "nbconvert_exporter": "python",
   "pygments_lexer": "ipython3",
   "version": "3.9.13"
  },
  "toc": {
   "base_numbering": 1,
   "nav_menu": {},
   "number_sections": false,
   "sideBar": false,
   "skip_h1_title": true,
   "title_cell": "Contents",
   "title_sidebar": "Contents",
   "toc_cell": true,
   "toc_position": {},
   "toc_section_display": true,
   "toc_window_display": true
  },
  "varInspector": {
   "cols": {
    "lenName": 16,
    "lenType": 16,
    "lenVar": 40
   },
   "kernels_config": {
    "python": {
     "delete_cmd_postfix": "",
     "delete_cmd_prefix": "del ",
     "library": "var_list.py",
     "varRefreshCmd": "print(var_dic_list())"
    },
    "r": {
     "delete_cmd_postfix": ") ",
     "delete_cmd_prefix": "rm(",
     "library": "var_list.r",
     "varRefreshCmd": "cat(var_dic_list()) "
    }
   },
   "types_to_exclude": [
    "module",
    "function",
    "builtin_function_or_method",
    "instance",
    "_Feature"
   ],
   "window_display": false
  }
 },
 "nbformat": 4,
 "nbformat_minor": 2
}
