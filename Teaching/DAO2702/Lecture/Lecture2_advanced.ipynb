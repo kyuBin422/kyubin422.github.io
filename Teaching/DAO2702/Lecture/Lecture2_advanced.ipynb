{
 "cells": [
  {
   "cell_type": "markdown",
   "id": "c8e5c048",
   "metadata": {},
   "source": [
    "# Advanced Topics for Lecture 2\n",
    "\n",
    "## More about Python Objects\n",
    "\n",
    "In Python programs, every object has an **identity**, a **type** and a **value**. \n",
    "\n",
    "<img src=\"https://github.com/XiongPengNUS/dao_resources/blob/main/python_obj.jpeg?raw=true\" width=800>\n",
    "\n",
    "An object’s identity never changes once it has been created; you may think of it as the object's address in memory. The identity can be retrieved by the function <code>id()</code>."
   ]
  },
  {
   "cell_type": "code",
   "execution_count": 1,
   "id": "d25292bf",
   "metadata": {},
   "outputs": [
    {
     "name": "stdout",
     "output_type": "stream",
     "text": [
      "4318722416\n",
      "4318722800\n",
      "4319036416\n"
     ]
    }
   ],
   "source": [
    "print(id(3))        # Identity of the object 3\n",
    "print(id(3 + 2*6))  # Identity of the object 3 + 2*6\n",
    "print(id(print))    # Identify of the object print"
   ]
  },
  {
   "cell_type": "markdown",
   "id": "ea8c5939",
   "metadata": {},
   "source": [
    "Please note that our computers use random access memory, which means that the addresses for saving these data items could be randomly allocated. As a result, if you restart the Jupyter Notebook kernel, or to run the same code on different computers, the identities of objects could be different. \n",
    "\n",
    "Python objects stored in your computer can be viewed as animals living in a pet hotel, where:\n",
    "- Memory of your computer: an animal hotel with many rooms.\n",
    "- Object: an animal living in a hotel room.\n",
    "- Identity (cannot change once created): the room number of the hotel (memory address of the object).\n",
    "- Type (cannot change once created): the species of the animal, like dogs, cats, birds, etc. The species of the animals determine their behaviors: \"woof woof\" or \"meow meow\". (The type of the object determines the behaviors of the operations.)\n",
    "- Variables: Names used to call these animals, like \"Tom\" or \"Bucky\". A Name can be detached from one animal and attached to another. (It is used to access an object stored in the memory.) \n",
    "\n",
    "<img src=\"https://github.com/XiongPengNUS/dao_resources/blob/main/python_obj_var.jpeg?raw=true\" width=700>\n",
    "\n",
    "Think about the following questions and use Python code to verify your answers:\n",
    "1. Is it possible to have two or more names given to the same object?"
   ]
  },
  {
   "cell_type": "code",
   "execution_count": 2,
   "id": "cb626e81",
   "metadata": {},
   "outputs": [
    {
     "name": "stdout",
     "output_type": "stream",
     "text": [
      "4368511856\n",
      "4368511856\n"
     ]
    }
   ],
   "source": [
    "# Yes, as the following example shows x and y are the same object (same id)\n",
    "\n",
    "x = 'Bucky'\n",
    "y = x\n",
    "\n",
    "print(id(x))\n",
    "print(id(y))"
   ]
  },
  {
   "cell_type": "markdown",
   "id": "5fc2ea36",
   "metadata": {},
   "source": [
    "2. Is it possible to have two or more objects with the same name?"
   ]
  },
  {
   "cell_type": "code",
   "execution_count": 3,
   "id": "26aedf44",
   "metadata": {},
   "outputs": [
    {
     "name": "stdout",
     "output_type": "stream",
     "text": [
      "Bucky\n",
      "4368511856\n",
      "Tom\n",
      "4368511984\n"
     ]
    }
   ],
   "source": [
    "# No, at this moment. We will see exceptions in Lecture 6\n",
    "# When x = 'Tom' is executed, x is 'Tom' and the previous object 'Bucky' is forgoten. \n",
    "\n",
    "x = 'Bucky'\n",
    "print(x)\n",
    "print(id(x))\n",
    "\n",
    "x = 'Tom'   \n",
    "print(x)\n",
    "print(id(x))"
   ]
  },
  {
   "cell_type": "markdown",
   "id": "d21b0291",
   "metadata": {},
   "source": [
    "3. How to determine the data type of a variable? Can we change the data type of a variable?"
   ]
  },
  {
   "cell_type": "code",
   "execution_count": 4,
   "id": "715fc7d0",
   "metadata": {},
   "outputs": [
    {
     "name": "stdout",
     "output_type": "stream",
     "text": [
      "<class 'str'>\n",
      "<class 'float'>\n"
     ]
    }
   ],
   "source": [
    "# The data type of a variable is determined by the object it is associated with.\n",
    "# It can be changed if the variable is defined to be another object with a different type\n",
    "# In the example below, the type of x is changed from str to float, \n",
    "# because the object associated is changed from 'Bucky' to 2.0.\n",
    "\n",
    "x = 'Bucky'\n",
    "print(type(x))\n",
    "\n",
    "x = 2.0\n",
    "print(type(x))"
   ]
  },
  {
   "cell_type": "markdown",
   "id": "42752973",
   "metadata": {},
   "source": [
    " "
   ]
  },
  {
   "cell_type": "markdown",
   "id": "e8cd7213",
   "metadata": {},
   "source": [
    "## The Identity Operators\n",
    "\n",
    "Identity operators <code>is</code> and <code>is not</code> are used to compare the objects. It checks if the operands on both sides are the same object or not. \n",
    "\n",
    "Operator |   Name  |  Example\n",
    ":--------|:--------|:---------\n",
    "`is` | Returns True if both <br> variables are the <br> same object | `x is y`\n",
    "`is not` | Returns True if two <br> variables are not the <br> same object | `x is not y`\n",
    "\n",
    "Check the following example:"
   ]
  },
  {
   "cell_type": "code",
   "execution_count": 5,
   "id": "a2a9e509",
   "metadata": {},
   "outputs": [
    {
     "name": "stdout",
     "output_type": "stream",
     "text": [
      "True\n",
      "False\n"
     ]
    }
   ],
   "source": [
    "x = 1.0\n",
    "y = x               # y and x are the same object\n",
    "z = x * 1           # An expression of x is always a new object\n",
    "\n",
    "print(x is y)\n",
    "print(x is z)"
   ]
  },
  {
   "cell_type": "code",
   "execution_count": 6,
   "id": "78448bd1",
   "metadata": {},
   "outputs": [
    {
     "name": "stdout",
     "output_type": "stream",
     "text": [
      "False\n",
      "True\n"
     ]
    }
   ],
   "source": [
    "print(x is not y)\n",
    "print(x is not z)"
   ]
  },
  {
   "cell_type": "markdown",
   "id": "5385bf43",
   "metadata": {},
   "source": [
    "In Python, any forms of expressions would create a new object, so `z` is a different object, though it has the same value as `x` and `y`. We can use their identities (`id()` function) to verify this conclusion. "
   ]
  },
  {
   "cell_type": "code",
   "execution_count": 7,
   "id": "10716597",
   "metadata": {},
   "outputs": [
    {
     "name": "stdout",
     "output_type": "stream",
     "text": [
      "4367720176\n",
      "4367720176\n",
      "4367719248\n"
     ]
    }
   ],
   "source": [
    "print(id(x))\n",
    "print(id(y))\n",
    "print(id(z))"
   ]
  },
  {
   "cell_type": "markdown",
   "id": "dcb39442",
   "metadata": {},
   "source": [
    " "
   ]
  },
  {
   "cell_type": "markdown",
   "id": "5a8fc4a7",
   "metadata": {},
   "source": [
    "## Expected Kills in the PUBG Game\n",
    "\n",
    "In **Example 5**, we consider a PUBG type video game where totally $n$ players are killing each other until one player left to be the winner. If each player is equally good, we can show that the expected number of kills made by the winner is  $1+1/2+1/3+...+1/(n-1)$. Here is the proof:\n",
    "\n",
    "Let $E(n-1)$ denote the expected kills made by the winner if there are totally $n-1$ players joining the game. If one additional player joins the game, there are totally $n$ players, then the expected kills $E(n)$ can be written as\n",
    "\n",
    "$$\n",
    "E(n) = E(n-1)\\cdot (1-P_{n-1}) + (E(n-1) + 1)\\cdot P_{n-1} = E(n-1) + P_{n-1},\n",
    "$$\n",
    "\n",
    "where $P_{n-1}$ is the probability that the additional player is killed by the winner. The equation above means that if the new player is killed by the winner, the number of kills made by the winner should be increased by one, otherwise, the number of kills remains the same. \n",
    "\n",
    "Because all players are equally good, we can derive that $P_{n-1} = 1/(n-1)$, since the new player is kill by the only winner among all $n-1$ players, thus $E(n) = E(n-1) + 1/(n-1) = E(n-2) + 1/(n-2) + 1/(n-1) = ... = E(2) + 1/2 + 1/(n-2) + 1/(n-1)$. Apparently, $E(2)=1$, because the number of kills is constantly one when there are only two players, so the expected kills is $1+1/2+1/3+...+1/(n-1)$.  "
   ]
  },
  {
   "cell_type": "code",
   "execution_count": null,
   "id": "783916a8",
   "metadata": {},
   "outputs": [],
   "source": []
  }
 ],
 "metadata": {
  "kernelspec": {
   "display_name": "Python 3 (ipykernel)",
   "language": "python",
   "name": "python3"
  },
  "language_info": {
   "codemirror_mode": {
    "name": "ipython",
    "version": 3
   },
   "file_extension": ".py",
   "mimetype": "text/x-python",
   "name": "python",
   "nbconvert_exporter": "python",
   "pygments_lexer": "ipython3",
   "version": "3.9.13"
  },
  "varInspector": {
   "cols": {
    "lenName": 16,
    "lenType": 16,
    "lenVar": 40
   },
   "kernels_config": {
    "python": {
     "delete_cmd_postfix": "",
     "delete_cmd_prefix": "del ",
     "library": "var_list.py",
     "varRefreshCmd": "print(var_dic_list())"
    },
    "r": {
     "delete_cmd_postfix": ") ",
     "delete_cmd_prefix": "rm(",
     "library": "var_list.r",
     "varRefreshCmd": "cat(var_dic_list()) "
    }
   },
   "types_to_exclude": [
    "module",
    "function",
    "builtin_function_or_method",
    "instance",
    "_Feature"
   ],
   "window_display": false
  }
 },
 "nbformat": 4,
 "nbformat_minor": 5
}
