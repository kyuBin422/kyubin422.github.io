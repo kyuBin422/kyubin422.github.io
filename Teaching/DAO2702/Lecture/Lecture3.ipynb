{
 "cells": [
  {
   "cell_type": "markdown",
   "metadata": {},
   "source": [
    "# Control Flow of Python Programs\n",
    "\n",
    "## Contents\n",
    "\n",
    "- [Conditional Statements](#section1)\n",
    "    - [Syntax rules of `if`-statements](#subsection1.1)\n",
    "    - [Special cases of conditional statements](#subsection1.2)\n",
    "- [Loops and Iterations](#section2)\n",
    "    - [Syntax rules of `while` loops](#subsection2.1)\n",
    "    - [Syntax rules of `for` loops](#subsection2.2)\n",
    "    - [Comparison between `while` and `for` loops](#subsection2.3)"
   ]
  },
  {
   "cell_type": "markdown",
   "metadata": {},
   "source": [
    " "
   ]
  },
  {
   "cell_type": "markdown",
   "metadata": {},
   "source": [
    "## Conditional Statements <a id=\"section1\"></a>\n",
    "\n",
    "In the previous lecture, we saw that programming often involves examining a set of conditions and deciding which action to take (which part of code to execute) based on those conditions. Examples are:\n",
    "- In the Singapore Zoo case, the ticket price is conditionally determined by the age of the visitor. \n",
    "- In the leap year case, whether a year is a leap year or a common year is determined by a few conditions.\n",
    "\n",
    "In this section, we will introduce the `if`-statements used in Python programming for performing such conditional execution of code. \n",
    "\n",
    "### Syntax rules of `if`-statements <a id=\"subsection1.1\"></a>\n",
    "\n",
    "We will start with the simplest case: an action is taken provided a given condition is `True`. \n",
    "\n",
    "<img src=\"https://github.com/XiongPengNUS/dao_resources/blob/main/if_syntax.jpeg?raw=true\" width=650>\n",
    "\n",
    "The syntax rules for such cases are summarized as:\n",
    "- The statement is started by the keyword `if`;\n",
    "- The `if` keyword is followed by a boolean type (`True` or `False`) condition and a colon;\n",
    "- The action represented by **Code block 1** is taken if the condition is `True`, and it is skipped if the condition is `False`.\n",
    "\n",
    "<div class=\"alert alert-block alert-danger\">\n",
    "<b>Notes:</b>  \n",
    "    In Python, indentation (a tab or four spaces) is used to differentiate <b>Code block 1</b> from other parts of code. The first unindented line (<b>Code block 2</b>) marks the end of the conditional statement.\n",
    "</div>\n",
    "\n",
    "A simple example provided below is used to illustrate the syntax rules listed above.\n",
    "<img src=\"https://github.com/XiongPengNUS/dao_resources/blob/main/avengers_assemble1.jpg?raw=true\" width=500>\n"
   ]
  },
  {
   "cell_type": "code",
   "execution_count": 1,
   "metadata": {},
   "outputs": [
    {
     "name": "stdout",
     "output_type": "stream",
     "text": [
      "We'll avenge it!\n",
      "Avengers assemble!\n"
     ]
    }
   ],
   "source": [
    "cant_protect_earth = True       # True if we can't protect the earth, otherwise False\n",
    "\n",
    "if cant_protect_earth:\n",
    "    print(\"We'll avenge it!\")   # Indented code indicates Code block 1\n",
    "\n",
    "print('Avengers assemble!')     # Unindented Code block 2 is executed eventually"
   ]
  },
  {
   "cell_type": "markdown",
   "metadata": {},
   "source": [
    "A slightly more complicated case is discussed next: an action is taken provided that the given condition is `True`, otherwise another action is taken. The otherwise situation can be dealt with by using the Python keyword `else`.\n",
    "\n",
    "<img src=\"https://github.com/XiongPengNUS/dao_resources/blob/main/if_else_syntax.jpeg?raw=true\" width=650>\n",
    "\n",
    "Besides the syntax rules we mentioned in the simplest case, please also note:\n",
    "- The `False` branch is started by the keyword `else`, followed by a colon;\n",
    "- The action represented by **Code block 2** is taken if the condition is `False`.\n",
    "- **Code block 2** is indicated by the same indentation as **Code block 1**. \n",
    "\n",
    "The same Avengers' example is used again to illustrate such cases.\n",
    "\n",
    "<img src=\"https://github.com/XiongPengNUS/dao_resources/blob/main/avengers_assemble2.jpg?raw=true\" width=550>\n"
   ]
  },
  {
   "cell_type": "code",
   "execution_count": 2,
   "metadata": {},
   "outputs": [
    {
     "name": "stdout",
     "output_type": "stream",
     "text": [
      "We'll celebrate it!\n",
      "Avengers assemble!\n"
     ]
    }
   ],
   "source": [
    "cant_protect_earth = False          # True if we can't protect the earth, otherwise False\n",
    "\n",
    "if cant_protect_earth:\n",
    "    print(\"We'll avenge it!\")       # Code block 1 is executed if the condition is True\n",
    "else:\n",
    "    print(\"We'll celebrate it!\")    # Code block 2 is executed if the condition is False\n",
    "\n",
    "print('Avengers assemble!')         # Unindented Code block 3 is executed eventually "
   ]
  },
  {
   "cell_type": "markdown",
   "metadata": {},
   "source": [
    "<div class=\"alert alert-block alert-info\">\n",
    "<b>Question 1:</b>  \n",
    "In the code segment above, the variable <span style='font-family:Courier'><b>cant_protect_earth</b></span> represents a boolean value which is <span style='font-family:Courier'><b>True</b></span> if we can not protect the earth and <span style='font-family:Courier'><b>False</b></span> otherwise. Please rewrite the program with the same logic using a boolean type variable <span style='font-family:Courier'><b>can_protect_earth</b></span>, which is <span style='font-family:Courier'><b>True</b></span> if we can protect the earth and <span style='font-family:Courier'><b>False</b></span> otherwise.\n",
    "</div>"
   ]
  },
  {
   "cell_type": "code",
   "execution_count": 3,
   "metadata": {},
   "outputs": [],
   "source": [
    "can_protect_earth = True            # True if we can protect the earth\n"
   ]
  },
  {
   "cell_type": "markdown",
   "metadata": {},
   "source": [
    "Now we will deal with cases where different actions are taken under various statuses of not just one but multiple conditions. Recall that in the Singapore Zoo example, the ticket price takes different values under each age range of visitors. Such cases are typically addressed by flow branches created by the `elif` keyword.  \n",
    "\n",
    "<img src=\"https://github.com/XiongPengNUS/dao_resources/blob/main/if_elif_else_syntax.jpeg?raw=true\" width=690>\n",
    "\n",
    "Besides the same rules as the `if` and `else` branches, for the `elif`branch:\n",
    "- The `elif` keyword starts a new condition, followed by a colon;\n",
    "- The condition following `elif` will be examined only if the previous condition(s) is(are) `False`;\n",
    "- The action represented by **Code block 2** is taken if **Condition 2** is `True`; \n",
    "- **Code block 2** is indicated by the same indentation as **Code block 1** and **Code block 3**. \n",
    "\n",
    "<div class=\"alert alert-block alert-success\">\n",
    "<b>Example 1:</b>  \n",
    "The price of ticket for admission to Singapore Zoo is $\\$41$ for adults, and $\\$18$ for senior citizens, who are 60 years old or above. The ticket price for children who aged 3 to 12 years old, is $\\$28$, and children under 3 years old can enjoy a free admission to the zoo. Given a visitor's age, write a program to print the ticket price.\n",
    "</div>\n",
    "\n",
    "Based on the flow chart we worked out in the previous lecture, the program can be written using the `if`-`elif`-`else` statements to address different conditions. "
   ]
  },
  {
   "cell_type": "code",
   "execution_count": 4,
   "metadata": {},
   "outputs": [
    {
     "name": "stdout",
     "output_type": "stream",
     "text": [
      "The ticket price is: $41\n"
     ]
    }
   ],
   "source": [
    "age = 20                    # You may change the age to test the program\n",
    "\n",
    "if age < 3:\n",
    "    ticket_price = 0        # Executed if age < 3\n",
    "elif age <= 12:\n",
    "    ticket_price = 28       # Executed if age >= 3 and age <= 12\n",
    "elif age < 60:\n",
    "    ticket_price = 41       # Executed if age > 12 and age < 60\n",
    "else:                       \n",
    "    ticket_price = 18       # Executed if age >= 60\n",
    "\n",
    "print('The ticket price is: $' + str(ticket_price))"
   ]
  },
  {
   "cell_type": "markdown",
   "metadata": {},
   "source": [
    "### Special cases of conditional statements  <a id=\"subsection1.2\"></a>\n",
    "\n",
    "#### The `if`-`else` ternary expressions\n",
    "\n",
    "<div class=\"alert alert-block alert-success\">\n",
    "<b>Example 2:</b>  \n",
    "A newsboy ordered 550 newspapers to sell today. Each piece of newspaper costs 10 cents and can be sold at a price of 60 cents. Write a program to calculate the total profit, given the demand quantity to be 300.\n",
    "</div>\n",
    "\n",
    "From the previous lecture, we learned that the profit can be calculated by working out the sold quantity first. "
   ]
  },
  {
   "cell_type": "code",
   "execution_count": 5,
   "metadata": {},
   "outputs": [
    {
     "name": "stdout",
     "output_type": "stream",
     "text": [
      "Newspapers sold: 300\n",
      "Total profit: 125.0\n"
     ]
    }
   ],
   "source": [
    "cost = 0.1\n",
    "price = 0.6\n",
    "order = 550\n",
    "demand = 300\n",
    "\n",
    "if order < demand:\n",
    "    sold = order\n",
    "else:\n",
    "    sold = demand\n",
    "\n",
    "profit = price*sold - cost*order\n",
    "\n",
    "print(\"Newspapers sold: \" + str(sold))\n",
    "print(\"Total profit: \" + str(profit))"
   ]
  },
  {
   "cell_type": "markdown",
   "metadata": {},
   "source": [
    "Note that in the example above, the quantity `sold` is determined based on the boolean status of the condition `demand < order`. Such a four-line `if`-statement is equivalent to the single-line ternary expression below."
   ]
  },
  {
   "cell_type": "code",
   "execution_count": 6,
   "metadata": {},
   "outputs": [
    {
     "data": {
      "text/plain": [
       "300"
      ]
     },
     "execution_count": 6,
     "metadata": {},
     "output_type": "execute_result"
    }
   ],
   "source": [
    "sold = demand if demand < order else order\n",
    "sold"
   ]
  },
  {
   "cell_type": "markdown",
   "metadata": {},
   "source": [
    "The `if`-`else` ternary expressions is commonly used when the action for each branch can be represented by simple code. Besides, since the ternary expression does not include the `elif` keyword, it is not suitable for dealing with many condition branches. For example, if the ternary expression is used to address the Singapore Zoo example, then the code would be long and very hard to read."
   ]
  },
  {
   "cell_type": "code",
   "execution_count": 7,
   "metadata": {},
   "outputs": [
    {
     "name": "stdout",
     "output_type": "stream",
     "text": [
      "35\n"
     ]
    }
   ],
   "source": [
    "age = 55\n",
    "ticket_price = 0 if age < 3 else 23 if age <= 12 else 35 if age < 60 else 16\n",
    "\n",
    "print(ticket_price)"
   ]
  },
  {
   "cell_type": "markdown",
   "metadata": {},
   "source": [
    "#### Nested `if`-statements\n",
    "\n",
    "Python also enables users to place an `if`-statement inside an outer `if`-statement, so we can address more complicated branching cases. For such nested `if`-statements, the indentation is the key for specifying the corresponding action of each condition.\n",
    "\n",
    "<img src=\"https://github.com/XiongPengNUS/dao_resources/blob/main/nested_if_syntax.jpeg?raw=true\" width=650>\n",
    "\n",
    "<div class=\"alert alert-block alert-success\">\n",
    "<b>Example 3:</b>  \n",
    "A programming course is taken by both full-time and part-time students. Their grades for this course are calculated separately, as shown in the table below. Write a program that asks students two questions:\n",
    "    <li>Are you a full-time student? Yes/No</li>\n",
    "    <li>What is your score?</li>\n",
    "and then prints out the corresponding grades of the student.\n",
    "</div>\n",
    "\n",
    "|Grades| Scores of full-time students |Scores of part-time students| \n",
    "|:-----|:----|:----|\n",
    "|A|Higher or equal to 90 | Higher or equal to 85 |\n",
    "|B|Between 80 and 89 | Between 75 and 84 |\n",
    "|C|Between 70 and 79 | Between 65 and 74 |\n",
    "|D|Lower than 70 | Lower than 65 |\n",
    "\n",
    "In this example, we use an outer `if`-statement to check if this is a full-time or part-time students. The inner `if`-statements are then used determine student's grade, respectively under both conditions. "
   ]
  },
  {
   "cell_type": "code",
   "execution_count": 8,
   "metadata": {},
   "outputs": [
    {
     "name": "stdout",
     "output_type": "stream",
     "text": [
      "Are you a full-time student? Yes/No Yes\n",
      "What is your score? 85\n",
      "Your grade is  B\n"
     ]
    }
   ],
   "source": [
    "is_full_time = input(\"Are you a full-time student? Yes/No \")\n",
    "score = int(input(\"What is your score? \"))\n",
    "\n",
    "if is_full_time == 'Yes':\n",
    "    if score >= 90:\n",
    "        grade = 'A'\n",
    "    elif score >= 80:\n",
    "        grade = 'B'\n",
    "    elif score >= 70:\n",
    "        grade = 'C'\n",
    "    else:\n",
    "        grade = 'D'\n",
    "else:\n",
    "    if score >= 85:\n",
    "        grade = 'A'\n",
    "    elif score >= 75:\n",
    "        grade = 'B'\n",
    "    elif score >= 65:\n",
    "        grade = 'C'\n",
    "    else:\n",
    "        grade = 'D'\n",
    "\n",
    "print('Your grade is ', grade)"
   ]
  },
  {
   "cell_type": "markdown",
   "metadata": {},
   "source": [
    "Task in this example can be solved by many methods, and the code segment above is just one of the most straightforward solutions. Notice that in the guidelines given in **The Zen of Python**:\n",
    "\n",
    "<div class=\"alert alert-block alert-warning\">\n",
    "<b>Coding Style: </b>   \n",
    "    <a href=\"https://www.python.org/dev/peps/pep-0020/\"><b>The Zen of Python</b>:</a> Flat is better than nested.\n",
    "</div>\n",
    "\n",
    "As a result, the nested conditional statements should be avoided if we can use just one layer of `if`-statement. For the program that determines students' grades, can you work out a solution without using nested conditional statements?"
   ]
  },
  {
   "cell_type": "code",
   "execution_count": 9,
   "metadata": {},
   "outputs": [
    {
     "name": "stdout",
     "output_type": "stream",
     "text": [
      "Are you a full-time student? Yes/No Yes\n",
      "What is your score? 85\n",
      "Your grade is  B\n"
     ]
    }
   ],
   "source": [
    "is_full_time = input(\"Are you a full-time student? Yes/No \")\n",
    "score = int(input(\"What is your score? \"))\n",
    "\n",
    "score = score - 5 if is_full_time == 'Yes' else score\n",
    "\n",
    "if score >= 85:\n",
    "    grade = 'A'\n",
    "elif score >= 75:\n",
    "    grade = 'B'\n",
    "elif score >= 65:\n",
    "    grade = 'C'\n",
    "else:\n",
    "    grade = 'D'\n",
    "\n",
    "print('Your grade is ', grade)"
   ]
  },
  {
   "cell_type": "markdown",
   "metadata": {},
   "source": [
    "<div class=\"alert alert-block alert-danger\">\n",
    "<b>Notes:</b>  \n",
    "Python uses indentation to determine the logical connection between blocks of code. If a line of code is not correctly indented, you may encounter an <b>indentation error</b> message, or have incorrect results as the code is executed mistakenly. \n",
    "</div>\n"
   ]
  },
  {
   "cell_type": "markdown",
   "metadata": {},
   "source": [
    " "
   ]
  },
  {
   "cell_type": "markdown",
   "metadata": {},
   "source": [
    "## Loops and Iterations <a id=\"section2\"></a>\n",
    "\n",
    "In a program, a few steps may need to be repeated as an automatic way of solving problem. Such examples were discussed in the previous lecture:\n",
    "- In the temperature conversion case, the program will repeatedly ask the users to key in a number, if the input value is not a valid temperature value.\n",
    "- In the case of calculating the sum of a sequence of numbers, the program will take a loop to accumulate these numbers. \n",
    "\n",
    "Repeated execution of a set of code is called **iteration**. We also refer to one repetition of a code block as one iteration. \n",
    "\n",
    "### Syntax rules of `while` loops <a id=\"subsection2.1\"></a>\n",
    "\n",
    "Python’s `while` statement is the most general iteration construct in the language. In simple terms, it repeatedly executes a block of statements as long as a boolean type condition at the top remains `True`.\n",
    "\n",
    "<img src=\"https://github.com/XiongPengNUS/dao_resources/blob/main/while_syntax.jpeg?raw=true\" width=650>\n",
    "\n",
    "We summarize the syntax rules of the `while` loop as:\n",
    "- The loop is started by the keyword `wihle`;\n",
    "- The `while` keyword is followed by a boolean type condition (`True` or `False`) and a colon;\n",
    "- The action represented by **Code to be repeated** is repeatedly executed as long as the boolean condition is `True`. \n",
    "\n",
    "<div class=\"alert alert-block alert-danger\">\n",
    "<b>Notes:</b>  \n",
    "    Indentation is used to differentiate <b>Code to be repeated</b> and <b>Code executed only once</b>. \n",
    "</div>\n",
    "\n",
    "People (or other intelligent creatures) may not be as good as computers to perform a huge number of repeated tasks, because they tend to make mistakes and they get bored with repetition, as shown by the following example.\n",
    "\n",
    "<div class=\"alert alert-block alert-success\">\n",
    "<b>Example 4:</b>  \n",
    "In the movie Dr. Strange (2016), Steven Strange beat Dormammu by keeping annoying him until he was extremely bored and frustrated. Write a program to act like Dr. Strange. The \"time\" loop can only be broken when you type in \"I quit\" or \"You win\".\n",
    "</div>\n",
    "\n",
    "<img src=\"https://github.com/XiongPengNUS/dao_resources/blob/main/dormammu1.jpeg?raw=true\" width=650>"
   ]
  },
  {
   "cell_type": "code",
   "execution_count": 10,
   "metadata": {
    "scrolled": false
   },
   "outputs": [
    {
     "name": "stdout",
     "output_type": "stream",
     "text": [
      "Dr. Strange: Dormammu, I've come to bargain!\n",
      "Dormammu: I quit\n",
      "Dr. Strange: Wise choice bro!\n",
      "\n",
      "\n"
     ]
    }
   ],
   "source": [
    "Dormammu_quit = False\n",
    "\n",
    "while not Dormammu_quit:\n",
    "    print(\"Dr. Strange: Dormammu, I've come to bargain!\")\n",
    "    Dormammu_says = input(\"Dormammu: \")\n",
    "    if Dormammu_says == 'I quit' or Dormammu_says == 'You win':\n",
    "        Dormammu_quit = True\n",
    "        print('Dr. Strange: Wise choice bro!')\n",
    "    else:\n",
    "        print(\"Dr. Strange: Ah~~~\")\n",
    "    print('\\n') "
   ]
  },
  {
   "cell_type": "markdown",
   "metadata": {},
   "source": [
    "Note that in the code block that is repeated by the `while` loop, value of `Dormammu_quit` is changed from `False` to `True`, so that the boolean type condition becomes `False`, thus terminating the loop. \n",
    "\n",
    "Besides escaping the time loop by changing the status of `Dormammu_quit`, the loop can also be terminated by the keyword `break`. We hence have an alternative solution as follows.  \n",
    "\n",
    "<img src=\"https://github.com/XiongPengNUS/dao_resources/blob/main/dormammu2.jpeg?raw=true\" width=600>"
   ]
  },
  {
   "cell_type": "code",
   "execution_count": 11,
   "metadata": {
    "scrolled": true
   },
   "outputs": [
    {
     "name": "stdout",
     "output_type": "stream",
     "text": [
      "Dr. Strange: Dormammu, I've come to bargain!\n",
      "Dormammu: You win\n",
      "Dr. Strange: Wise choice bro!\n"
     ]
    }
   ],
   "source": [
    "while True:\n",
    "    print(\"Dr. Strange: Dormammu, I've come to bargain!\")\n",
    "    Dormammu_says = input(\"Dormammu: \")\n",
    "    if Dormammu_says == 'I quit' or Dormammu_says == 'You win':\n",
    "        print('Dr. Strange: Wise choice bro!')\n",
    "        break  \n",
    "    else:\n",
    "        print(\"Dr. Strange: Ah~~~\")\n",
    "    print('\\n')"
   ]
  },
  {
   "cell_type": "markdown",
   "metadata": {},
   "source": [
    "<div class=\"alert alert-block alert-danger\">\n",
    "<b>Notes:</b>     \n",
    "    A loop can be broken by using the keyword <span style='font-family:Courier'><b>break</b></span>, or by enforcing the boolean type condition to be <span style='font-family:Courier'><b>False</b></span>. If the loop is unable to stop the iteration by either method, it is trapped in an endless loop.\n",
    "</div>\n",
    "\n",
    "<div class=\"alert alert-block alert-success\">\n",
    "<b>Example 5:</b>  \n",
    "PUBG is an online game where $n$ players are killing each others and the final survivor is the winner. If each player is equally good, we can prove that the expected number of kills made by the winner is $1 + 1/2 + 1/3 + ... + 1/(n-1)$. Given the number of players, write a program to calculate this expected number of kills. \n",
    "</div>\n",
    "\n",
    "Based on the flow charts discussed in the previous lecture, we have the two solutions below."
   ]
  },
  {
   "cell_type": "code",
   "execution_count": 12,
   "metadata": {},
   "outputs": [
    {
     "name": "stdout",
     "output_type": "stream",
     "text": [
      "4.4792053383294235\n"
     ]
    }
   ],
   "source": [
    "n = 50\n",
    "\n",
    "total = 0\n",
    "i = 1\n",
    "\n",
    "while i < n:\n",
    "    total += 1/i\n",
    "    i += 1\n",
    "\n",
    "print(total)"
   ]
  },
  {
   "cell_type": "code",
   "execution_count": 13,
   "metadata": {
    "scrolled": true
   },
   "outputs": [
    {
     "name": "stdout",
     "output_type": "stream",
     "text": [
      "4.4792053383294235\n"
     ]
    }
   ],
   "source": [
    "n = 50\n",
    "\n",
    "total = 0\n",
    "i = 0\n",
    "\n",
    "while i < n - 1:\n",
    "    i += 1\n",
    "    total += 1/i\n",
    "\n",
    "print(total)"
   ]
  },
  {
   "cell_type": "markdown",
   "metadata": {},
   "source": [
    "<div class=\"alert alert-block alert-info\">\n",
    "<b>Question 2:</b>  \n",
    "As the developer of the PUBG game, you want to make sure that the expected number of kills made by the winner of the game is at least four, assuming all players are equally good. Let $n$ be the total number of players in one game, write a program to calculate the minimum value of $n$. \n",
    "</div>\n",
    "\n",
    "You may refer to **Question 4** in the previous lecture for the algorithm flowcharts."
   ]
  },
  {
   "cell_type": "code",
   "execution_count": null,
   "metadata": {},
   "outputs": [],
   "source": []
  },
  {
   "cell_type": "code",
   "execution_count": null,
   "metadata": {},
   "outputs": [],
   "source": []
  },
  {
   "cell_type": "markdown",
   "metadata": {},
   "source": [
    "### Syntax rules of `for` loops <a id=\"subsection2.2\"></a>\n",
    "The `for` loop in Python is better tool for iterating over a sequence of data objects. \n",
    "\n",
    "<img src=\"https://github.com/XiongPengNUS/dao_resources/blob/main/for_syntax.jpeg?raw=true\" width=650>\n",
    "\n",
    "For the `for` loops:\n",
    "- The loop is started by the keyword `for`;\n",
    "- The `for` keyword is followed by `item in` a sequence of data, and a colon;\n",
    "- Here `item` can be any valid variable name, and it takes the value of each item in the data sequence in every iteration;\n",
    "- The action represented by **Code to repeat** is repeatedly executed, until the program is running out of items in the sequence. \n",
    "\n",
    "Similar to the `while` loop cases, indentation is used to differentiate **Code to be repeated** and **Code executed only once**.\n",
    "\n",
    "In Python program, the sequence of data can be any **iterable** types. In this lecture, we will focus on 1) how to iterate characters of a string; and 2) how to iterate integers in a specific range. Iterating data items in other types of sequence will be discussed in the next two lectures. \n",
    "\n",
    "#### Iterating characters of a string\n",
    "A `str` type object can be viewed as a sequence of characters, and characters in a string can be iterated in a straightforward manner.  "
   ]
  },
  {
   "cell_type": "code",
   "execution_count": 14,
   "metadata": {},
   "outputs": [
    {
     "name": "stdout",
     "output_type": "stream",
     "text": [
      "J\n",
      "a\n",
      "c\n",
      "k\n"
     ]
    }
   ],
   "source": [
    "string = 'Jack'\n",
    "\n",
    "for char in string:     # Iterate each character of string\n",
    "    print(char)         # Print the character in each iteration"
   ]
  },
  {
   "cell_type": "markdown",
   "metadata": {},
   "source": [
    "It can be seen that in each iteration, the value of `char`, as each character of the `str` type variable `string`, is consecutively printed. The logic of iterating characters in a string can be used to create a cheerleader chant program. \n",
    "\n",
    "<div class=\"alert alert-block alert-success\">\n",
    "<b>Example 6:</b>  \n",
    "Cheerleader chant.\n",
    "</div>"
   ]
  },
  {
   "cell_type": "code",
   "execution_count": 15,
   "metadata": {},
   "outputs": [
    {
     "name": "stdout",
     "output_type": "stream",
     "text": [
      "What is your name? Jack\n",
      "Give me a J!\n",
      "J!!!\n",
      "Give me a a!\n",
      "a!!!\n",
      "Give me a c!\n",
      "c!!!\n",
      "Give me a k!\n",
      "k!!!\n",
      "What's that spell?\n",
      "Jack!!!\n",
      "Go! Go! Jack!!!\n"
     ]
    }
   ],
   "source": [
    "name = input(\"What is your name? \")\n",
    "\n",
    "for letter in name:\n",
    "    print(\"Give me a \" + letter + \"!\")\n",
    "    print(letter + \"!!!\")\n",
    "\n",
    "print(\"What's that spell?\")\n",
    "print(name + \"!!!\")\n",
    "print(\"Go! Go! \" + name + \"!!!\")"
   ]
  },
  {
   "cell_type": "markdown",
   "metadata": {},
   "source": [
    "There is a tiny bug of the program above, which is that if there is a space given in the name (i.e. the name \"Jack Sparrow\"), the space will also be printed out. In order to prevent printing the unnecessary spaces, we can use the keyword `continue`, which skips the subsequent code in the `for` loop and goes directly to the next iteration. "
   ]
  },
  {
   "cell_type": "code",
   "execution_count": 16,
   "metadata": {},
   "outputs": [
    {
     "name": "stdout",
     "output_type": "stream",
     "text": [
      "What is your name? Jack Sparrow\n",
      "Give me a J!\n",
      "J!!!\n",
      "Give me a a!\n",
      "a!!!\n",
      "Give me a c!\n",
      "c!!!\n",
      "Give me a k!\n",
      "k!!!\n",
      "Give me a S!\n",
      "S!!!\n",
      "Give me a p!\n",
      "p!!!\n",
      "Give me a a!\n",
      "a!!!\n",
      "Give me a r!\n",
      "r!!!\n",
      "Give me a r!\n",
      "r!!!\n",
      "Give me a o!\n",
      "o!!!\n",
      "Give me a w!\n",
      "w!!!\n",
      "What's that spell?\n",
      "Jack Sparrow!!!\n",
      "Go! Go! Jack Sparrow!!!\n"
     ]
    }
   ],
   "source": [
    "name = input(\"What is your name? \")\n",
    "\n",
    "for letter in name:\n",
    "    if letter == ' ':       # In case of a space\n",
    "        continue            # Go directly to the next iteration\n",
    "        \n",
    "    print(\"Give me a \" + letter + \"!\")\n",
    "    print(letter + \"!!!\")\n",
    "\n",
    "print(\"What's that spell?\")\n",
    "print(name + \"!!!\")\n",
    "print(\"Go! Go! \" + name + \"!!!\")"
   ]
  },
  {
   "cell_type": "markdown",
   "metadata": {},
   "source": [
    "#### Iterating integers with the `range()` function\n",
    "\n",
    "Besides iterating a sequence of characters using a `for` loop, the same idea can be applied to iterate a sequence of integers created by the `range()` function. Such a sequence of integers are specified by three arguments: *`start`*, *`stop`* and *`step`*, as explained in the table below.\n",
    "\n",
    "Arguments | Remarks | Default Values\n",
    ":--------|:-------|:--------------\n",
    "*`start`*   | The first integer of the number sequence | 0 \n",
    "*`stop`*    | The integer before which the sequence stops | -\n",
    "*`step`*    | The step length of the selected number sequence | 1\n",
    "\n",
    "The `range()` function can be called with very flexible syntax rules:\n",
    "- <code>range(<i>start</i>, <i>stop</i>, <i>step</i>)</code>: all three arguments are specified, then the sequence of numbers that starts from *`start`*, stops **before** *`stop`*, with the step length to be *`step`*. "
   ]
  },
  {
   "cell_type": "code",
   "execution_count": 17,
   "metadata": {},
   "outputs": [
    {
     "name": "stdout",
     "output_type": "stream",
     "text": [
      "1\n",
      "3\n",
      "5\n",
      "7\n"
     ]
    }
   ],
   "source": [
    "for i in range(1, 9, 2):\n",
    "    print(i)"
   ]
  },
  {
   "cell_type": "markdown",
   "metadata": {},
   "source": [
    "- <code>range(<i>start</i>, <i>stop</i>)</code>: two arguments are specified, then the sequence of numbers that starts from *`start`*, stops **before** *`stop`*, with the step length to be the default value 1. "
   ]
  },
  {
   "cell_type": "code",
   "execution_count": 18,
   "metadata": {
    "scrolled": true
   },
   "outputs": [
    {
     "name": "stdout",
     "output_type": "stream",
     "text": [
      "1\n",
      "2\n",
      "3\n",
      "4\n"
     ]
    }
   ],
   "source": [
    "for i in range(1, 5):\n",
    "    print(i)"
   ]
  },
  {
   "cell_type": "markdown",
   "metadata": {},
   "source": [
    "- <code>range(<i>start</i>, <i>stop</i>)</code>: only one argument is specified, then the sequence of numbers that starts from the default value 0, stops **before** *`stop`*, with the step length to be the default value 1. "
   ]
  },
  {
   "cell_type": "code",
   "execution_count": 19,
   "metadata": {},
   "outputs": [
    {
     "name": "stdout",
     "output_type": "stream",
     "text": [
      "0\n",
      "1\n",
      "2\n",
      "3\n",
      "4\n"
     ]
    }
   ],
   "source": [
    "for i in range(5):\n",
    "    print(i)"
   ]
  },
  {
   "cell_type": "markdown",
   "metadata": {},
   "source": [
    "Using the `range()` function, **Example 5** can be solved by a `for` loop, where the counter `i` is defined to be each integer in the created number sequence. "
   ]
  },
  {
   "cell_type": "code",
   "execution_count": 20,
   "metadata": {},
   "outputs": [
    {
     "name": "stdout",
     "output_type": "stream",
     "text": [
      "4.4792053383294235\n"
     ]
    }
   ],
   "source": [
    "n = 50\n",
    "\n",
    "total = 0\n",
    "for i in range(1, n):\n",
    "    total += 1/i\n",
    "\n",
    "print(total)"
   ]
  },
  {
   "cell_type": "markdown",
   "metadata": {},
   "source": [
    "### Comparison between `while` and `for` loops <a id=\"subsection2.3\"></a>\n",
    "\n",
    "`while` loop | `for` loop\n",
    ":------------|:----------\n",
    "Unknown number of iterations | Known number of iterations \n",
    "The loop stops if the boolean <br>type condition is `False` | The loop stops as the sequence <br>is running out of items \n",
    "Break the loop by `break` | Break the loop by `break`\n",
    "Skip the subsequent code by <br>`continue` | Skip the subsequent code by <br>`continue`"
   ]
  }
 ],
 "metadata": {
  "kernelspec": {
   "display_name": "Python 3 (ipykernel)",
   "language": "python",
   "name": "python3"
  },
  "language_info": {
   "codemirror_mode": {
    "name": "ipython",
    "version": 3
   },
   "file_extension": ".py",
   "mimetype": "text/x-python",
   "name": "python",
   "nbconvert_exporter": "python",
   "pygments_lexer": "ipython3",
   "version": "3.7.10"
  },
  "varInspector": {
   "cols": {
    "lenName": 16,
    "lenType": 16,
    "lenVar": 40
   },
   "kernels_config": {
    "python": {
     "delete_cmd_postfix": "",
     "delete_cmd_prefix": "del ",
     "library": "var_list.py",
     "varRefreshCmd": "print(var_dic_list())"
    },
    "r": {
     "delete_cmd_postfix": ") ",
     "delete_cmd_prefix": "rm(",
     "library": "var_list.r",
     "varRefreshCmd": "cat(var_dic_list()) "
    }
   },
   "types_to_exclude": [
    "module",
    "function",
    "builtin_function_or_method",
    "instance",
    "_Feature"
   ],
   "window_display": false
  }
 },
 "nbformat": 4,
 "nbformat_minor": 4
}
