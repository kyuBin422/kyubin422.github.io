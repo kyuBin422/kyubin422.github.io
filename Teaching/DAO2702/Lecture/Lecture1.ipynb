{
 "cells": [
  {
   "cell_type": "markdown",
   "metadata": {},
   "source": [
    "# Lecture 1: Programming for Business Analytics\n",
    "\n",
    "## Contents\n",
    "- [Why Python programming?](#section1) \n",
    "    - [High readability](#subsection1.1)\n",
    "    - [Write readable Python code](#subsection1.2)\n",
    "    - [The Python universe](#subsection1.3)\n",
    "- [Jupyter Notebook](#section2)\n",
    "    - [Modal user interface](#subsection3.1)\n",
    "    - [Try Jupyter Notebook as a scientific calculator](#subsection2.2)"
   ]
  },
  {
   "cell_type": "markdown",
   "metadata": {},
   "source": [
    "  "
   ]
  },
  {
   "cell_type": "markdown",
   "metadata": {},
   "source": [
    "## Why Python programming? <a id='section1'></a>\n",
    "### High readability <a id='subsection1.1'></a>\n",
    "\n",
    "> *If you ask Python programmers what they like most about Python, they will often cite its high readability. Indeed, a high level of readability is at the heart of the design of the Python language, following the recognized fact that code is read much more often than it is written.* -  [The Hitchhiker's Guide to Python](https://docs.python-guide.org/writing/style/)\n",
    "\n",
    "### Write readable Python code <a id='subsection1.2'></a>\n",
    "#### Being \"Pythonic\"\n",
    "> *One reason for the high readability of Python code is its relatively complete set of Code Style guidelines and “Pythonic” idioms.*\n",
    "> \n",
    "> *When a veteran Python developer (a Pythonista) calls portions of code not “Pythonic”, they usually mean that these lines of code do not follow the common guidelines and fail to express its intent in what is considered the best (most readable) way.* - [The Hitchhiker's Guide to Python](https://docs.python-guide.org/writing/style/)\n",
    "\n",
    "- Consistency\n",
    "- Meaningful names\n",
    "- Explanatory comments\n",
    "- [Python Enhancement Proposal (PEP) 8: Style Guide for Python Code](https://www.python.org/dev/peps/pep-0008/#whitespace-in-expressions-and-statements)\n",
    "\n",
    "#### The Zen of Python"
   ]
  },
  {
   "cell_type": "code",
   "execution_count": 1,
   "metadata": {
    "scrolled": true
   },
   "outputs": [
    {
     "name": "stdout",
     "output_type": "stream",
     "text": [
      "The Zen of Python, by Tim Peters\n",
      "\n",
      "Beautiful is better than ugly.\n",
      "Explicit is better than implicit.\n",
      "Simple is better than complex.\n",
      "Complex is better than complicated.\n",
      "Flat is better than nested.\n",
      "Sparse is better than dense.\n",
      "Readability counts.\n",
      "Special cases aren't special enough to break the rules.\n",
      "Although practicality beats purity.\n",
      "Errors should never pass silently.\n",
      "Unless explicitly silenced.\n",
      "In the face of ambiguity, refuse the temptation to guess.\n",
      "There should be one-- and preferably only one --obvious way to do it.\n",
      "Although that way may not be obvious at first unless you're Dutch.\n",
      "Now is better than never.\n",
      "Although never is often better than *right* now.\n",
      "If the implementation is hard to explain, it's a bad idea.\n",
      "If the implementation is easy to explain, it may be a good idea.\n",
      "Namespaces are one honking great idea -- let's do more of those!\n"
     ]
    }
   ],
   "source": [
    "import this"
   ]
  },
  {
   "cell_type": "markdown",
   "metadata": {},
   "source": [
    "### The Python universe <a id='subsection1.3'></a>\n",
    "> *The usefulness of Python for data science stems primarily from the large and active ecosystem of third-party packages: NumPy for manipulation of homogeneous array-based data, Pandas for manipulation of heterogeneous and labeled data, SciPy for common scientific computing tasks, Matplotlib for publication-quality visualizations, IPython for interactive execution and sharing of code, Scikit-Learn for machine learning, and many more tools that will be mentioned in the following pages.* -  [Python Data Science Handbook](https://jakevdp.github.io/PythonDataScienceHandbook/00.00-preface.html)"
   ]
  },
  {
   "cell_type": "markdown",
   "metadata": {},
   "source": [
    " "
   ]
  },
  {
   "cell_type": "markdown",
   "metadata": {},
   "source": [
    "## Jupyter Notebook <a id='section2'></a>\n",
    "The Jupyter Notebook is an open-source web application that allows you to create and share documents used for data cleaning and transformation, numerical simulation, statistical modeling, data visualization, machine learning, etc. It provides users with friendly browser interface that connects to the Python kernel, and also enable users to add other components and add-ons such as equations, visualizations and narrative text. \n",
    "\n",
    "<img src=\"https://github.com/XiongPengNUS/dao_resources/blob/main/jupyter.jpeg?raw=true\" width=700>\n",
    "\n",
    "### Modal user interface <a id='subsection2.1'></a>\n",
    "The Jupyter Notebook has a modal user interface. This means that the keyboard does different things depending on which mode the Notebook is in. There are two modes: **edit mode** and **command mode**.\n",
    "\n",
    "#### Edit mode\n",
    "Edit mode is indicated by a green cell border and a prompt showing in the editor area:\n",
    "<img src=\"https://github.com/XiongPengNUS/dao_resources/blob/main/edit_mode.jpg?raw=true\" width=650>\n",
    "- Edit the content of a cell\n",
    "- Press <kbd>enter</kbd> (<kbd>return</kbd> for Mac OS) to enable edit mode, and <kbd>esc</kbd> to quit editing\n",
    "\n",
    "#### Command mode\n",
    "Command mode is indicated by a grey cell border with a blue left margin:\n",
    "<img src=\"https://github.com/XiongPengNUS/dao_resources/blob/main/command_mode.jpg?raw=true\" width=652>\n",
    "- Notebook level actions: insert/remove cells, and change cell types, etc.\n",
    "- Keyboard shortcuts\n",
    "    - <kbd>A</kbd>: insert a cell above\n",
    "    - <kbd>B</kbd>: insert a cell below\n",
    "    - <kbd>D</kbd>, <kbd>D</kbd>: delete a cell\n",
    "    - <kbd>Z</kbd>: recover a deleted cell\n",
    "    - <kbd>M</kbd>: change to markdown mode\n",
    "    - <kbd>Y</kbd>: change to code mode\n",
    "\n",
    "#### Other keyboard shortcuts\n",
    "- <kbd>ctrl</kbd> + <kbd>enter</kbd> (<kbd>control</kbd> + <kbd>return</kbd> for Mac OS): run cells\n",
    "- <kbd>shift</kbd> + <kbd>enter</kbd> (<kbd>shift</kbd> + <kbd>return</kbd> for Mac OS): run cells, and select (insert) the cell below \n",
    "\n",
    "Once a code cell is executed, there will be a number appearing in the square bracket in front of the cell, indicating the sequence of executing cells.\n",
    "\n",
    "\n",
    "###  Try Jupyter Notebook as a scientific calculator <a id='subsection2.2'></a>\n",
    "\n",
    "#### Operators and operands\n",
    "In many programming languages, **operators** are special symbols that represent computations like addition and multiplication. The values the operator is applied to are called **operands**. The commonly used math operators of Python are presented in the table below. \n",
    "\n",
    "Operator | Description | Example | Result\n",
    ":--------|:------------|:--------|:------\n",
    "<code>+</code> | addition | <code>5 + 8</code> | 13\n",
    "<code>-</code> | subtraction | <code>9 - 2</code> | 7\n",
    "<code>*</code> | multiplication | <code>4 * 7</code> | 28\n",
    "<code>/</code> | float point division | <code>7 / 2</code> | 3.5\n",
    "<code>//</code> | integer (truncating) division | <code>7 / 2</code> | 3\n",
    "<code>%</code> | modulus (remainder) | <code>7 % 2</code> | 1\n",
    "<code>**</code> | exponentiation | <code>3 ** 4</code> | 81\n",
    "\n",
    "It can be seen that many of the operators are consistent with a scientific calculator, which enables us to do some simple calculations as follows."
   ]
  },
  {
   "cell_type": "code",
   "execution_count": 4,
   "metadata": {},
   "outputs": [
    {
     "data": {
      "text/plain": [
       "2.727272727272727"
      ]
     },
     "execution_count": 4,
     "metadata": {},
     "output_type": "execute_result"
    }
   ],
   "source": [
    "3 / 1.1"
   ]
  },
  {
   "cell_type": "code",
   "execution_count": 3,
   "metadata": {
    "scrolled": true
   },
   "outputs": [
    {
     "data": {
      "text/plain": [
       "22.0"
      ]
     },
     "execution_count": 3,
     "metadata": {},
     "output_type": "execute_result"
    }
   ],
   "source": [
    "(2+3.5) * 6 / (1.75-0.25)"
   ]
  },
  {
   "cell_type": "markdown",
   "metadata": {},
   "source": [
    "There are a few special operators, like <code>//</code> takes the integer division of two numbers, where the fraction part of the result is truncated. "
   ]
  },
  {
   "cell_type": "code",
   "execution_count": 4,
   "metadata": {},
   "outputs": [
    {
     "data": {
      "text/plain": [
       "3"
      ]
     },
     "execution_count": 4,
     "metadata": {},
     "output_type": "execute_result"
    }
   ],
   "source": [
    "11 // 3"
   ]
  },
  {
   "cell_type": "markdown",
   "metadata": {},
   "source": [
    "The operator <code>%</code> takes the remainder of a division expression."
   ]
  },
  {
   "cell_type": "code",
   "execution_count": 5,
   "metadata": {},
   "outputs": [
    {
     "data": {
      "text/plain": [
       "3"
      ]
     },
     "execution_count": 5,
     "metadata": {},
     "output_type": "execute_result"
    }
   ],
   "source": [
    "(2 + 3*5) % 7"
   ]
  },
  {
   "cell_type": "markdown",
   "metadata": {},
   "source": [
    "The operator <code>**</code> calculates the exponentiation."
   ]
  },
  {
   "cell_type": "code",
   "execution_count": 6,
   "metadata": {
    "scrolled": false
   },
   "outputs": [
    {
     "data": {
      "text/plain": [
       "8"
      ]
     },
     "execution_count": 6,
     "metadata": {},
     "output_type": "execute_result"
    }
   ],
   "source": [
    "2 ** 3"
   ]
  },
  {
   "cell_type": "code",
   "execution_count": 7,
   "metadata": {
    "scrolled": true
   },
   "outputs": [
    {
     "data": {
      "text/plain": [
       "2.0"
      ]
     },
     "execution_count": 7,
     "metadata": {},
     "output_type": "execute_result"
    }
   ],
   "source": [
    "4 ** 0.5"
   ]
  },
  {
   "cell_type": "markdown",
   "metadata": {},
   "source": [
    "#### Comments and displaying results \n",
    "\n",
    "A **comment** is a piece of text in your program that is ignored by the Python interpreter. You might use comments to clarify nearby Python code, make notes to yourself (or others) to fix something in the future, or for whatever purposes you like. You mark a comment by using the <code>#</code> character; everything from that point on to the end of the current line is part of the comment. Please check the following example."
   ]
  },
  {
   "cell_type": "code",
   "execution_count": 8,
   "metadata": {
    "scrolled": true
   },
   "outputs": [
    {
     "data": {
      "text/plain": [
       "7.0"
      ]
     },
     "execution_count": 8,
     "metadata": {},
     "output_type": "execute_result"
    }
   ],
   "source": [
    "3.5 * 2     # Everthing follows the # character is the comment\n",
    "            # 2 + 3 + 6 \n",
    "            # The expression above is a part of the comment\n",
    "            # It is ignored by the Python interpreter"
   ]
  },
  {
   "cell_type": "markdown",
   "metadata": {},
   "source": [
    "In cases for multi-line comments, it will be more convenient to use a text body surrounded by three single or three double quotation marks. Any quotes, tabs, symbols, numbers, or newlines in between the \"triple quotes\" are considered part of the text body."
   ]
  },
  {
   "cell_type": "code",
   "execution_count": 9,
   "metadata": {},
   "outputs": [
    {
     "data": {
      "text/plain": [
       "12"
      ]
     },
     "execution_count": 9,
     "metadata": {},
     "output_type": "execute_result"
    }
   ],
   "source": [
    "\"\"\"\n",
    "When you’re fundraising, it’s AI.\n",
    "\n",
    "When you’re hiring, it’s ML.\n",
    "\n",
    "When you’re implementing, it’s linear regression.\n",
    "\n",
    "When you’re debugging, it’s printf().\n",
    "\n",
    "                                - Baron Schwartz\n",
    "\"\"\"\n",
    "\n",
    "(2 + 5*7) // 3"
   ]
  },
  {
   "cell_type": "markdown",
   "metadata": {},
   "source": [
    "In this course, please pay attention to comments in the code cell, because we will frequently use them to explain the meanings and logics of the given code. \n",
    "\n",
    "The results of the **last line** in a code cell is displayed as its `Out` message. Results that are not generated by the last line of code will not be shown, as the example below."
   ]
  },
  {
   "cell_type": "code",
   "execution_count": 10,
   "metadata": {},
   "outputs": [
    {
     "data": {
      "text/plain": [
       "6"
      ]
     },
     "execution_count": 10,
     "metadata": {},
     "output_type": "execute_result"
    }
   ],
   "source": [
    "2 + 3           # Result of this expression is not shown\n",
    "1.5             # Result of this expression is not shown\n",
    "1 + 2 + 3       # Result of the last line is displayed as \"Out\""
   ]
  }
 ],
 "metadata": {
  "kernelspec": {
   "display_name": "Python 3 (ipykernel)",
   "language": "python",
   "name": "python3"
  },
  "language_info": {
   "codemirror_mode": {
    "name": "ipython",
    "version": 3
   },
   "file_extension": ".py",
   "mimetype": "text/x-python",
   "name": "python",
   "nbconvert_exporter": "python",
   "pygments_lexer": "ipython3",
   "version": "3.9.5"
  },
  "varInspector": {
   "cols": {
    "lenName": 16,
    "lenType": 16,
    "lenVar": 40
   },
   "kernels_config": {
    "python": {
     "delete_cmd_postfix": "",
     "delete_cmd_prefix": "del ",
     "library": "var_list.py",
     "varRefreshCmd": "print(var_dic_list())"
    },
    "r": {
     "delete_cmd_postfix": ") ",
     "delete_cmd_prefix": "rm(",
     "library": "var_list.r",
     "varRefreshCmd": "cat(var_dic_list()) "
    }
   },
   "types_to_exclude": [
    "module",
    "function",
    "builtin_function_or_method",
    "instance",
    "_Feature"
   ],
   "window_display": false
  }
 },
 "nbformat": 4,
 "nbformat_minor": 2
}
