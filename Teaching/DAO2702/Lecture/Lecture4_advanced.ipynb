{
 "cells": [
  {
   "cell_type": "markdown",
   "id": "ad15768e",
   "metadata": {},
   "source": [
    "# Advanced Topics for Lecture 4\n",
    "\n",
    "## Aliasing of Lists\n",
    "\n",
    "An object with more than one variable names is called an **aliased** object. The effect of aliasing on a mutable data object, such as a list, is different from immutable objects, see the example below."
   ]
  },
  {
   "cell_type": "code",
   "execution_count": 1,
   "id": "b4cd0a0f",
   "metadata": {},
   "outputs": [
    {
     "name": "stdout",
     "output_type": "stream",
     "text": [
      "['Python', 'C++', 'Java']\n",
      "['Python', 'C++', 'Java']\n"
     ]
    }
   ],
   "source": [
    "requirements = ['Python', 'C', 'Java']\n",
    "skills = requirements           # Assignment implies aliasing\n",
    "skills[1] = 'C++'               # Change the 2nd item of skills\n",
    "print(requirements)             # The list of requirements is also changed\n",
    "print(skills)"
   ]
  },
  {
   "cell_type": "markdown",
   "id": "58361e22",
   "metadata": {},
   "source": [
    "The code segment above shows that the variables `requirements` and `skills` are the same list (the same object), so if the content of one variable is changed (e.g. the data item is changed from \"C\" to \"C++\"), the change will be reflected on the other variable. \n",
    "\n",
    "You could also use the `is` operator, or the identities of variables to verify that they are the same object. "
   ]
  },
  {
   "cell_type": "code",
   "execution_count": 2,
   "id": "b0d0eb40",
   "metadata": {},
   "outputs": [
    {
     "data": {
      "text/plain": [
       "True"
      ]
     },
     "execution_count": 2,
     "metadata": {},
     "output_type": "execute_result"
    }
   ],
   "source": [
    "requirements is skills"
   ]
  },
  {
   "cell_type": "code",
   "execution_count": 3,
   "id": "cda8c678",
   "metadata": {},
   "outputs": [
    {
     "name": "stdout",
     "output_type": "stream",
     "text": [
      "4618228352\n",
      "4618228352\n"
     ]
    }
   ],
   "source": [
    "print(id(requirements))\n",
    "print(id(skills))"
   ]
  },
  {
   "cell_type": "markdown",
   "id": "61ef8c74",
   "metadata": {},
   "source": [
    "A list can be imagined as a train, where the variable is like the locomotive, while the data items are like the cars of the train. The assignment statement `skills = requirements` does not create another train, instead, it created a new locomotive called `skills`, which is attached to the same train `requirements`. As a result, changes made on `requirements` (or `skills`) will also be observed on `skills` (or `requirements`), since they are the same train. \n",
    "\n",
    "If we want to create a list as a new object, we could use the `copy()` method of lists."
   ]
  },
  {
   "cell_type": "code",
   "execution_count": 4,
   "id": "f6955eb0",
   "metadata": {},
   "outputs": [
    {
     "name": "stdout",
     "output_type": "stream",
     "text": [
      "['Python', 'C', 'Java']\n",
      "['Python', 'C++', 'Java']\n"
     ]
    }
   ],
   "source": [
    "requirements = ['Python', 'C', 'Java']\n",
    "skills = requirements.copy()    # Create a new copy of the old list\n",
    "skills[1] = 'C++'               # Change the 2nd item of dsc2008\n",
    "print(requirements)\n",
    "print(skills)"
   ]
  },
  {
   "cell_type": "markdown",
   "id": "f8734174",
   "metadata": {},
   "source": [
    "The `copy()` method creates a new copy of the original list, so `skills` and `requirements` are two different objects, hence the change on one list will not affect the other. "
   ]
  },
  {
   "cell_type": "code",
   "execution_count": 5,
   "id": "31454bab",
   "metadata": {},
   "outputs": [
    {
     "data": {
      "text/plain": [
       "False"
      ]
     },
     "execution_count": 5,
     "metadata": {},
     "output_type": "execute_result"
    }
   ],
   "source": [
    "skills is requirements"
   ]
  },
  {
   "cell_type": "code",
   "execution_count": 6,
   "id": "cc15de66",
   "metadata": {},
   "outputs": [
    {
     "name": "stdout",
     "output_type": "stream",
     "text": [
      "4618306176\n",
      "4618305920\n"
     ]
    }
   ],
   "source": [
    "print(id(skills))\n",
    "print(id(requirements))"
   ]
  },
  {
   "cell_type": "markdown",
   "id": "01229019",
   "metadata": {},
   "source": [
    "Besides the `copy()` method, a new list will be created if any operations, such as concatenation, duplication, and slicing, are applied to the old list. Check the following examples."
   ]
  },
  {
   "cell_type": "code",
   "execution_count": 7,
   "id": "8793518b",
   "metadata": {},
   "outputs": [
    {
     "name": "stdout",
     "output_type": "stream",
     "text": [
      "False\n",
      "4618336704\n",
      "4618308928\n"
     ]
    }
   ],
   "source": [
    "requirements = ['Python', 'C', 'Java']\n",
    "skills = requirements + []      # Create a new copy of the old list\n",
    "\n",
    "print(requirements is skills)\n",
    "print(id(requirements))\n",
    "print(id(skills))"
   ]
  },
  {
   "cell_type": "code",
   "execution_count": 8,
   "id": "f6bf14cb",
   "metadata": {},
   "outputs": [
    {
     "name": "stdout",
     "output_type": "stream",
     "text": [
      "False\n",
      "4618334336\n",
      "4618228352\n"
     ]
    }
   ],
   "source": [
    "requirements = ['Python', 'C', 'Java']\n",
    "skills = requirements * 1       # Create a new copy of the old list\n",
    "\n",
    "print(requirements is skills)\n",
    "print(id(requirements))\n",
    "print(id(skills))"
   ]
  },
  {
   "cell_type": "code",
   "execution_count": 9,
   "id": "f44f6c7b",
   "metadata": {},
   "outputs": [
    {
     "name": "stdout",
     "output_type": "stream",
     "text": [
      "False\n",
      "4618354432\n",
      "4618354240\n"
     ]
    }
   ],
   "source": [
    "requirements = ['Python', 'C', 'Java']\n",
    "skills = requirements[:]        # Create a new copy of the old list\n",
    "\n",
    "print(requirements is skills)\n",
    "print(id(requirements))\n",
    "print(id(skills))"
   ]
  },
  {
   "cell_type": "markdown",
   "id": "29225eda",
   "metadata": {},
   "source": [
    "<div class=\"alert alert-block alert-danger\">\n",
    "<b>Notes:</b>  \n",
    "    Though aliasing sometimes useful in programming, it is error-prone.  In general, it is safer to avoid aliasing when you are working with mutable objects, such as lists. \n",
    "</div>\n",
    "\n",
    "Here are a few tricky examples of aliasing. "
   ]
  },
  {
   "cell_type": "code",
   "execution_count": 10,
   "id": "1692fee4",
   "metadata": {
    "scrolled": true
   },
   "outputs": [
    {
     "data": {
      "text/plain": [
       "[2, 1, 1]"
      ]
     },
     "execution_count": 10,
     "metadata": {},
     "output_type": "execute_result"
    }
   ],
   "source": [
    "ones = [1]*3\n",
    "ones[0] = 2\n",
    "ones"
   ]
  },
  {
   "cell_type": "markdown",
   "id": "f8837f3a",
   "metadata": {},
   "source": [
    "It is easy to find out the value of the list <code>ones</code> to be <code>[2, 1, 1]</code>, as the first item of <code>ones</code> is changed to be 2.  \n",
    "\n",
    "How about the following code, where the items of <code>ones</code> are also lists?"
   ]
  },
  {
   "cell_type": "code",
   "execution_count": 11,
   "id": "3e019c0d",
   "metadata": {
    "scrolled": true
   },
   "outputs": [
    {
     "data": {
      "text/plain": [
       "[[2], [2], [2]]"
      ]
     },
     "execution_count": 11,
     "metadata": {},
     "output_type": "execute_result"
    }
   ],
   "source": [
    "ones = [[1]]*3\n",
    "ones[0][0] = 2\n",
    "ones"
   ]
  },
  {
   "cell_type": "markdown",
   "id": "be6c914d",
   "metadata": {},
   "source": [
    "Surprisingly, all inner lists in <code>ones</code> are changed to be <code>[2]</code>. \n",
    "\n",
    "The results can be explained by how nested lists are stored in the memory. If we are using \"trains\" to represent the nested list <code>[[1]]</code>, then it is like the following picture. \n",
    "\n",
    "<img src=\"https://github.com/XiongPengNUS/test/blob/master/Screen%20Shot%202020-02-11%20at%2011.09.57%20PM.png?raw=true\" width=600>\n",
    "\n",
    "Please note that the item of the outer list is not the inner list (train) itself, but the \"locomotive\" of the inner train. This idea applies to all nested lists. \n",
    "\n",
    "As the list <code>[[1]]</code> is multiplied by three, we have the list item, the locomotive of the inner train, to be replicated three times, as shown by the picture below.\n",
    "\n",
    "<img src=\"https://github.com/XiongPengNUS/test/blob/master/Screen%20Shot%202020-02-11%20at%2011.22.09%20PM.png?raw=true\" width=600>\n",
    "\n",
    "It can be seen that only the locomotive of the inner train is replicated, while the train itself remains the same. After the multiplication, list items <code>ones[0]</code>, <code>ones[1]</code>, and <code>ones[2]</code> are **aliases** of the same inner list <code>[1]</code>, or the same object. Check the following code."
   ]
  },
  {
   "cell_type": "code",
   "execution_count": 12,
   "id": "2b67beae",
   "metadata": {
    "scrolled": true
   },
   "outputs": [
    {
     "name": "stdout",
     "output_type": "stream",
     "text": [
      "True\n",
      "True\n"
     ]
    }
   ],
   "source": [
    "print(ones[0] is ones[1])\n",
    "print(ones[1] is ones[2])"
   ]
  },
  {
   "cell_type": "markdown",
   "id": "8823c3c3",
   "metadata": {},
   "source": [
    "As a result, if the item of the inner list is changed, this change would apply to all items, <code>ones[0]</code>, <code>ones[1]</code>, and <code>ones[2]</code>, of the outer list. \n",
    "\n",
    "Now check the exercise below."
   ]
  },
  {
   "cell_type": "code",
   "execution_count": 13,
   "id": "a476f371",
   "metadata": {},
   "outputs": [],
   "source": [
    "avengers = ['Spiderman', ['Groot', 'Star-lord'], 'Thor', 'Hulk']\n",
    "new_avengers = avengers.copy()\n",
    "avengers[1][0] = 'Baby groot'\n",
    "avengers[2] = 'Hawkeye'"
   ]
  },
  {
   "cell_type": "markdown",
   "id": "1e15f569",
   "metadata": {},
   "source": [
    "Can you derive all items of the list <code>new_avengers</code>, before running the following code?"
   ]
  },
  {
   "cell_type": "code",
   "execution_count": null,
   "id": "9db166b0",
   "metadata": {},
   "outputs": [],
   "source": [
    "print(new_avengers)"
   ]
  },
  {
   "cell_type": "markdown",
   "id": "d0338edb",
   "metadata": {},
   "source": [
    " "
   ]
  },
  {
   "cell_type": "markdown",
   "id": "98d1445b",
   "metadata": {},
   "source": [
    "## Lists of strings <a id=\"subsection2.5\"></a>\n",
    "\n",
    "When dealing with texts, we often need to look into each word, and Python provides convenient tools like `split()` that creates a list of all words, as demonstrated by the code cell below."
   ]
  },
  {
   "cell_type": "code",
   "execution_count": 15,
   "id": "8fda3dce",
   "metadata": {},
   "outputs": [
    {
     "name": "stdout",
     "output_type": "stream",
     "text": [
      "['Hey', 'Jude,', \"don't\", 'make', 'it', 'bad.', 'Take', 'a', 'sad', 'song', 'and', 'make', 'it', 'better.', 'Remember', 'to', 'let', 'her', 'into', 'your', 'heart,', 'Then', 'you', 'can', 'start', 'to', 'make', 'it', 'better.']\n"
     ]
    }
   ],
   "source": [
    "song = \"\"\"\n",
    "Hey Jude, don't make it bad.\n",
    "Take a sad song and make it better.\n",
    "Remember to let her into your heart,\n",
    "Then you can start to make it better.\n",
    "\"\"\"\n",
    "\n",
    "words = song.split()\n",
    "print(words)"
   ]
  },
  {
   "cell_type": "markdown",
   "id": "1e207e48",
   "metadata": {},
   "source": [
    "The `split()` method splits a long string into smaller pieces using spaces as **delimiters**, i.e., characters to mark the beginning and end of a data piece. Since spaces are used as delimiters, each data item is a word, with punctuations included. In order to remove the punctuations, we can use the `replace()` method discussed in the previous section."
   ]
  },
  {
   "cell_type": "code",
   "execution_count": 16,
   "id": "c8815ae4",
   "metadata": {
    "scrolled": true
   },
   "outputs": [
    {
     "name": "stdout",
     "output_type": "stream",
     "text": [
      "\n",
      "Hey Jude don't make it bad\n",
      "Take a sad song and make it better\n",
      "Remember to let her into your heart\n",
      "Then you can start to make it better\n",
      "\n",
      "['Hey', 'Jude', \"don't\", 'make', 'it', 'bad', 'Take', 'a', 'sad', 'song', 'and', 'make', 'it', 'better', 'Remember', 'to', 'let', 'her', 'into', 'your', 'heart', 'Then', 'you', 'can', 'start', 'to', 'make', 'it', 'better']\n"
     ]
    }
   ],
   "source": [
    "song_clean = song.replace(',', '')          # Remove all commas\n",
    "song_clean = song_clean.replace('.', '')    # Remove all periods\n",
    "words = song_clean.split()\n",
    "\n",
    "print(song_clean)\n",
    "print(words)"
   ]
  },
  {
   "cell_type": "markdown",
   "id": "bae1d533",
   "metadata": {},
   "source": [
    "Besides splitting texts into lists of words, we can also combine a list a strings into a long string using the `join()` method. Check the code cell below."
   ]
  },
  {
   "cell_type": "code",
   "execution_count": 17,
   "id": "18f0c904",
   "metadata": {
    "scrolled": true
   },
   "outputs": [
    {
     "name": "stdout",
     "output_type": "stream",
     "text": [
      "AI + machine learning + analytics + prediction + inference + regression + optimization\n"
     ]
    }
   ],
   "source": [
    "words = ['AI', 'machine learning', 'analytics', 'prediction', \n",
    "         'inference', 'regression', 'optimization']\n",
    "\n",
    "text = ' + '.join(words)\n",
    "print(text)"
   ]
  },
  {
   "cell_type": "markdown",
   "id": "c36e2803",
   "metadata": {},
   "source": [
    "In this example, the `join()` method concatenates all strings in the given list, where the `str` type object `' + '` is inserted in between each string piece. "
   ]
  }
 ],
 "metadata": {
  "kernelspec": {
   "display_name": "Python 3 (ipykernel)",
   "language": "python",
   "name": "python3"
  },
  "language_info": {
   "codemirror_mode": {
    "name": "ipython",
    "version": 3
   },
   "file_extension": ".py",
   "mimetype": "text/x-python",
   "name": "python",
   "nbconvert_exporter": "python",
   "pygments_lexer": "ipython3",
   "version": "3.9.5"
  },
  "varInspector": {
   "cols": {
    "lenName": 16,
    "lenType": 16,
    "lenVar": 40
   },
   "kernels_config": {
    "python": {
     "delete_cmd_postfix": "",
     "delete_cmd_prefix": "del ",
     "library": "var_list.py",
     "varRefreshCmd": "print(var_dic_list())"
    },
    "r": {
     "delete_cmd_postfix": ") ",
     "delete_cmd_prefix": "rm(",
     "library": "var_list.r",
     "varRefreshCmd": "cat(var_dic_list()) "
    }
   },
   "types_to_exclude": [
    "module",
    "function",
    "builtin_function_or_method",
    "instance",
    "_Feature"
   ],
   "window_display": false
  }
 },
 "nbformat": 4,
 "nbformat_minor": 5
}
