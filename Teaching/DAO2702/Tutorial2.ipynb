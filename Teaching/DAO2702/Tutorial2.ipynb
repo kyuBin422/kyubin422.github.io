{
 "cells": [
  {
   "cell_type": "markdown",
   "id": "3c87a966",
   "metadata": {},
   "source": [
    "# DAO2072 Tutorial2\n",
    "## Kahoot Game\n",
    "https://create.kahoot.it/share/dao2701-tut2/925de422-ac12-4304-aca7-b974b116a16e"
   ]
  },
  {
   "cell_type": "markdown",
   "id": "f7d02b37",
   "metadata": {},
   "source": [
    "## Lecture Content\n",
    "\n",
    "We summarize the syntax rules of the `while` loop as:\n",
    "- The loop is started by the keyword `wihle`;\n",
    "- The `while` keyword is followed by a boolean type condition (`True` or `False`) and a colon;\n",
    "- The action represented by **Code to be repeated** is repeatedly executed as long as the boolean condition is `True`. "
   ]
  },
  {
   "cell_type": "code",
   "execution_count": 1,
   "id": "9cd859a1",
   "metadata": {},
   "outputs": [
    {
     "name": "stdout",
     "output_type": "stream",
     "text": [
      "46\n",
      "1035\n"
     ]
    }
   ],
   "source": [
    "LoopNumer = 0\n",
    "Result = 0\n",
    "\n",
    "while Result <= 1000:\n",
    "    Result += LoopNumer\n",
    "    LoopNumer += 1\n",
    "print(LoopNumer)\n",
    "print(Result)\n"
   ]
  },
  {
   "cell_type": "markdown",
   "id": "a092f31b",
   "metadata": {},
   "source": [
    "For the `for` loops:\n",
    "- The loop is started by the keyword `for`;\n",
    "- The `for` keyword is followed by `item in` a sequence of data, and a colon;\n",
    "- Here `item` can be any valid variable name, and it takes the value of each item in the data sequence in every iteration;\n",
    "- The action represented by **Code to repeat** is repeatedly executed, until the program is running out of items in the sequence. \n",
    "\n",
    "Similar to the `while` loop cases, indentation is used to differentiate **Code to be repeated** and **Code executed only once**.\n",
    "\n",
    "In Python program, the sequence of data can be any **iterable** types. In this lecture, we will focus on 1) how to iterate characters of a string; and 2) how to iterate integers in a specific range. Iterating data items in other types of sequence will be discussed in the next two lectures. "
   ]
  },
  {
   "cell_type": "code",
   "execution_count": 2,
   "id": "52263355",
   "metadata": {},
   "outputs": [
    {
     "name": "stdout",
     "output_type": "stream",
     "text": [
      "o\n",
      "p\n",
      "p\n",
      "e\n",
      "n\n",
      "h\n",
      "e\n",
      "i\n",
      "m\n",
      "e\n",
      "r\n"
     ]
    }
   ],
   "source": [
    "string = 'oppenheimer'\n",
    "\n",
    "for char in string:\n",
    "    print(char)\n"
   ]
  },
  {
   "cell_type": "markdown",
   "id": "7c19ed4d",
   "metadata": {},
   "source": [
    "### Extra Exercise\n",
    "Question 1:\n",
    "\n",
    "A prime number (or a prime) is a natural number greater than 1 that is not a product of two smaller natural numbers. A natural number greater than 1 that is not prime is called a composite number. For example, 5 is prime because the only ways of writing it as a product, 1 × 5 or 5 × 1, involve 5 itself. The number 4 is composite because it is a product (2 × 2) in which both numbers are smaller than 4.\n",
    "\n",
    "Write a program that tells if the natural number given by the users is a prime number or a composite number.\n",
    "\n",
    "*Hint: For a natural number `n`, you may create a for loop to check if it is divisible by a sequence of smaller natural numbers. \n"
   ]
  },
  {
   "cell_type": "code",
   "execution_count": null,
   "id": "99ff04c9",
   "metadata": {},
   "outputs": [],
   "source": [
    "# version 1: we use the double for-loop to determine whether the input number is prime or composite\n",
    "\n",
    "a = 110\n",
    "flag = False\n",
    "for i in range(2, a):\n",
    "    for j in range(2, a):\n",
    "        if i * j == a:\n",
    "            flag = True\n",
    "            break\n",
    "\n",
    "if flag:\n",
    "    print('a = ' + str(a) + ' is the composite number')\n",
    "else:\n",
    "    print('a = ' + str(a) + 'is the prime number')"
   ]
  },
  {
   "cell_type": "code",
   "execution_count": 23,
   "id": "8108a1e9",
   "metadata": {},
   "outputs": [
    {
     "name": "stdout",
     "output_type": "stream",
     "text": [
      "a = 110 is the composite number\n",
      "a = 11 is the prime number\n"
     ]
    }
   ],
   "source": [
    "# version2: we try to implement the idea of hint and use single for-loop\n",
    "a = 11\n",
    "flag = False\n",
    "for divisor in range(2, a):\n",
    "    if a % divisor == 0:\n",
    "        flag = True\n",
    "        break\n",
    "\n",
    "if flag:\n",
    "    print('a = ' + str(a) + ' is the composite number')\n",
    "else:\n",
    "    print('a = ' + str(a) + ' is the prime number')"
   ]
  },
  {
   "cell_type": "markdown",
   "id": "1521aa7e",
   "metadata": {},
   "source": [
    "Question 2:\n",
    "\n",
    "Write a program to find the sum of digits of a number."
   ]
  },
  {
   "cell_type": "code",
   "execution_count": 24,
   "id": "12c70c66",
   "metadata": {},
   "outputs": [
    {
     "name": "stdout",
     "output_type": "stream",
     "text": [
      "12\n"
     ]
    }
   ],
   "source": [
    "a = -132.321\n",
    "result = 0\n",
    "for char in str(a):\n",
    "    if char == '-' or char == '.':\n",
    "        continue\n",
    "    result += int(char)\n",
    "\n",
    "print(result)\n"
   ]
  }
 ],
 "metadata": {
  "kernelspec": {
   "display_name": "Python 3 (ipykernel)",
   "language": "python",
   "name": "python3"
  },
  "language_info": {
   "codemirror_mode": {
    "name": "ipython",
    "version": 3
   },
   "file_extension": ".py",
   "mimetype": "text/x-python",
   "name": "python",
   "nbconvert_exporter": "python",
   "pygments_lexer": "ipython3",
   "version": "3.7.10"
  }
 },
 "nbformat": 4,
 "nbformat_minor": 5
}
