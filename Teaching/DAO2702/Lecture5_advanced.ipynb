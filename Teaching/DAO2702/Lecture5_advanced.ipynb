{
 "cells": [
  {
   "cell_type": "markdown",
   "id": "c69bca84",
   "metadata": {},
   "source": [
    "# Advanced Topics for Lecture 5\n",
    "\n",
    "## Create Dictionary Using the `dict()` Function\n",
    "\n",
    "Besides using the curly brackets to create dictionaries, we could also use the `dict()` as a constructor to create dictionaries. "
   ]
  },
  {
   "cell_type": "code",
   "execution_count": 1,
   "id": "6703badb",
   "metadata": {
    "scrolled": false
   },
   "outputs": [
    {
     "data": {
      "text/plain": [
       "{'name': 'Jack Sparrow',\n",
       " 'title': 'Captain',\n",
       " 'age': 31,\n",
       " 'workplace': 'Black Pearl'}"
      ]
     },
     "execution_count": 1,
     "metadata": {},
     "output_type": "execute_result"
    }
   ],
   "source": [
    "person = dict(name='Jack Sparrow', title='Captain', age=31, workplace='Black Pearl')\n",
    "person"
   ]
  },
  {
   "cell_type": "markdown",
   "id": "b8d8eae8",
   "metadata": {},
   "source": [
    "The code segment above is equivalent to the code below, where the dictionary is created using curly brackets."
   ]
  },
  {
   "cell_type": "code",
   "execution_count": 2,
   "id": "6e6e31e0",
   "metadata": {},
   "outputs": [
    {
     "data": {
      "text/plain": [
       "{'name': 'Jack Sparrow',\n",
       " 'title': 'Captain',\n",
       " 'age': 31,\n",
       " 'workplace': 'Black Pearl'}"
      ]
     },
     "execution_count": 2,
     "metadata": {},
     "output_type": "execute_result"
    }
   ],
   "source": [
    "person = {'name': 'Jack Sparrow', \n",
    "          'title': 'Captain',\n",
    "          'age': 31,\n",
    "          'workplace': 'Black Pearl'}\n",
    "person"
   ]
  },
  {
   "cell_type": "markdown",
   "id": "154aa3e9",
   "metadata": {},
   "source": [
    "As you can see that in calling the `dict()`, the function argument names become the keys, and the values of these function arguments become the values of dictionary. Please note that there is no quotation mark used in defining the names of dictionary keys, and the method of specifying arguments is called **keyword arguments**, which will be discussed in **Lecture 6**. "
   ]
  },
  {
   "cell_type": "markdown",
   "id": "31ec2eb4",
   "metadata": {},
   "source": [
    "## Dictionary comprehensions <a id=\"subsection2.5\"></a>\n",
    "\n",
    "Similar to lists, dictionaries can be created by comprehension syntax. \n",
    "\n",
    "<div class=\"alert alert-block alert-success\">\n",
    "<b>Example 1: </b>  \n",
    "    The list <span style='font-family:Courier'><b>names</b></span> gives the names of a few stocks, and another list <span style='font-family:Courier'><b>prices</b></span> provides prices of these stocks. Create a dictionary where the keys are the stock names, and values are the stock prices.  \n",
    "</div>"
   ]
  },
  {
   "cell_type": "code",
   "execution_count": 3,
   "id": "5e79c701",
   "metadata": {},
   "outputs": [],
   "source": [
    "names = ['AMZN', 'TSLA', 'TWTR', 'AAPL', 'ORCL', 'GOOG']\n",
    "prices = [170.40, 130.11, 32.48, 76.6, 51.58, 1434.23]"
   ]
  },
  {
   "cell_type": "markdown",
   "id": "18fb349e",
   "metadata": {},
   "source": [
    "A straightforward method of creating such a dictionary is to start with an empty dictionary, and then add items to the dictionary via a `for` loop."
   ]
  },
  {
   "cell_type": "code",
   "execution_count": 4,
   "id": "99db0572",
   "metadata": {},
   "outputs": [
    {
     "data": {
      "text/plain": [
       "{'AMZN': 170.4,\n",
       " 'TSLA': 130.11,\n",
       " 'TWTR': 32.48,\n",
       " 'AAPL': 76.6,\n",
       " 'ORCL': 51.58,\n",
       " 'GOOG': 1434.23}"
      ]
     },
     "execution_count": 4,
     "metadata": {},
     "output_type": "execute_result"
    }
   ],
   "source": [
    "stocks = {} \n",
    "for name, price in zip(names, prices):\n",
    "    stocks[name] = price\n",
    "\n",
    "stocks"
   ]
  },
  {
   "cell_type": "markdown",
   "id": "6849819e",
   "metadata": {},
   "source": [
    "Such a dictionary can also be created using the comprehensions syntax: <code>{<i>expression</i> for <i>item</i> in <i>iterable</i>}</code>. Notice that the dictionary comprehension is very similar to list comprehensions, where the differences are:\n",
    "- The square brackets `[]` are replaced by curly brackets `{}`. \n",
    "- The *`expression`* in the formula is the expression of the key-value pair of each item. "
   ]
  },
  {
   "cell_type": "code",
   "execution_count": 5,
   "id": "71666eaf",
   "metadata": {
    "scrolled": true
   },
   "outputs": [
    {
     "data": {
      "text/plain": [
       "{'AMZN': 170.4,\n",
       " 'TSLA': 130.11,\n",
       " 'TWTR': 32.48,\n",
       " 'AAPL': 76.6,\n",
       " 'ORCL': 51.58,\n",
       " 'GOOG': 1434.23}"
      ]
     },
     "execution_count": 5,
     "metadata": {},
     "output_type": "execute_result"
    }
   ],
   "source": [
    "stocks = {name: price \n",
    "          for name, price in zip(names, prices)}\n",
    "\n",
    "stocks"
   ]
  },
  {
   "cell_type": "markdown",
   "id": "4f53d8a3",
   "metadata": {},
   "source": [
    "Dictionary comprehension can also be used to solve **Question 1** we discussed in the lecture."
   ]
  },
  {
   "cell_type": "code",
   "execution_count": 6,
   "id": "2e87eefe",
   "metadata": {},
   "outputs": [
    {
     "data": {
      "text/plain": [
       "{'K. 162': 'Symphony No. 22 in C major',\n",
       " 'K. 216': 'Violin Concerto No. 3',\n",
       " 'K. 218': 'Violin Concerto No. 4',\n",
       " 'K. 219': 'Violin Concerto No. 5',\n",
       " 'K. 550': 'Symphony No. 40 in G minor',\n",
       " 'K. 551': 'Symphony No. 41 in C major, \"Jupiter\"'}"
      ]
     },
     "execution_count": 6,
     "metadata": {},
     "output_type": "execute_result"
    }
   ],
   "source": [
    "works = {'K. 162': 'Symphony No. 22 in C major',\n",
    "         'K. 216': 'Violin Concerto No. 3',\n",
    "         'K. 218': 'Violin Concerto No. 4',\n",
    "         'K. 219': 'Violin Concerto No. 5', \n",
    "         'K. 550': 'Symphony No. 40 in G minor',\n",
    "         'K. 551': 'Symphony No. 41 in C major, \"Jupiter\"'}\n",
    "\n",
    "works"
   ]
  },
  {
   "cell_type": "markdown",
   "id": "5b923a39",
   "metadata": {},
   "source": [
    "A dictionary `symphonies` is created below for all symphony works composed by Mozart. "
   ]
  },
  {
   "cell_type": "code",
   "execution_count": 7,
   "id": "018a76c9",
   "metadata": {},
   "outputs": [
    {
     "data": {
      "text/plain": [
       "{'K. 162': 'Symphony No. 22 in C major',\n",
       " 'K. 550': 'Symphony No. 40 in G minor',\n",
       " 'K. 551': 'Symphony No. 41 in C major, \"Jupiter\"'}"
      ]
     },
     "execution_count": 7,
     "metadata": {},
     "output_type": "execute_result"
    }
   ],
   "source": [
    "symphonies = {key: value for key, value in works.items() \n",
    "              if 'Symphony' in value}\n",
    "symphonies"
   ]
  },
  {
   "cell_type": "markdown",
   "id": "4bd9a26f",
   "metadata": {},
   "source": [
    "The `concertos` dictionary can be created likewise using comprehension."
   ]
  },
  {
   "cell_type": "code",
   "execution_count": 8,
   "id": "9168b801",
   "metadata": {
    "scrolled": false
   },
   "outputs": [
    {
     "data": {
      "text/plain": [
       "{'K. 216': 'Violin Concerto No. 3',\n",
       " 'K. 218': 'Violin Concerto No. 4',\n",
       " 'K. 219': 'Violin Concerto No. 5'}"
      ]
     },
     "execution_count": 8,
     "metadata": {},
     "output_type": "execute_result"
    }
   ],
   "source": [
    "concertos = {key: value for key, value in works.items() \n",
    "             if 'Concerto' in value}\n",
    "concertos"
   ]
  }
 ],
 "metadata": {
  "kernelspec": {
   "display_name": "Python 3 (ipykernel)",
   "language": "python",
   "name": "python3"
  },
  "language_info": {
   "codemirror_mode": {
    "name": "ipython",
    "version": 3
   },
   "file_extension": ".py",
   "mimetype": "text/x-python",
   "name": "python",
   "nbconvert_exporter": "python",
   "pygments_lexer": "ipython3",
   "version": "3.9.13"
  },
  "varInspector": {
   "cols": {
    "lenName": 16,
    "lenType": 16,
    "lenVar": 40
   },
   "kernels_config": {
    "python": {
     "delete_cmd_postfix": "",
     "delete_cmd_prefix": "del ",
     "library": "var_list.py",
     "varRefreshCmd": "print(var_dic_list())"
    },
    "r": {
     "delete_cmd_postfix": ") ",
     "delete_cmd_prefix": "rm(",
     "library": "var_list.r",
     "varRefreshCmd": "cat(var_dic_list()) "
    }
   },
   "types_to_exclude": [
    "module",
    "function",
    "builtin_function_or_method",
    "instance",
    "_Feature"
   ],
   "window_display": false
  }
 },
 "nbformat": 4,
 "nbformat_minor": 5
}
