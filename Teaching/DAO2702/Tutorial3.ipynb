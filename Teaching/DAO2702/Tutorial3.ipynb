{
 "cells": [
  {
   "cell_type": "markdown",
   "id": "e842b791",
   "metadata": {},
   "source": [
    "# DAO2072 Tutorial3\n",
    "## Kahoot Game\n",
    "https://create.kahoot.it/share/dao2701-tut2/925de422-ac12-4304-aca7-b974b116a16e"
   ]
  },
  {
   "cell_type": "code",
   "execution_count": null,
   "id": "be69bb2f",
   "metadata": {},
   "outputs": [],
   "source": []
  }
 ],
 "metadata": {
  "kernelspec": {
   "display_name": "Python 3 (ipykernel)",
   "language": "python",
   "name": "python3"
  },
  "language_info": {
   "codemirror_mode": {
    "name": "ipython",
    "version": 3
   },
   "file_extension": ".py",
   "mimetype": "text/x-python",
   "name": "python",
   "nbconvert_exporter": "python",
   "pygments_lexer": "ipython3",
   "version": "3.7.10"
  }
 },
 "nbformat": 4,
 "nbformat_minor": 5
}
