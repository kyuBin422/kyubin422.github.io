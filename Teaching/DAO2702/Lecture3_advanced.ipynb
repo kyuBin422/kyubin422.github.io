{
 "cells": [
  {
   "cell_type": "markdown",
   "id": "8a7857b2",
   "metadata": {},
   "source": [
    "# Advanced Topics for Lecture 3\n",
    "\n",
    "## Solving yield to maturity \n",
    "\n",
    "### Introduction\n",
    "\n",
    "In analyzing coupon bonds, we often need to calculate the **yield to maturity** of a bond. The yield to maturity of a coupon bond is the $r$ value that solves the equation below,\n",
    "\n",
    "$$\n",
    "\\frac{C}{r} + \\left(\\text{PAR} - \\frac{C}{r}\\right)(1+r)^{-T} - \\text{PRICE} = 0,\n",
    "$$\n",
    "\n",
    "where the known parameters are:\n",
    "- PRICE is the market price of the bond;\n",
    "- PAR is the par value of the bond;\n",
    "- $C$ is the annual coupon payment;\n",
    "- $T$ is the time to maturity in years. \n",
    "\n",
    "These parameters are defined as follows."
   ]
  },
  {
   "cell_type": "code",
   "execution_count": 1,
   "id": "debe0001",
   "metadata": {},
   "outputs": [],
   "source": [
    "price = 9800        # PRICE\n",
    "par = 10000         # PAR\n",
    "c = 280             # C\n",
    "T = 16              # T"
   ]
  },
  {
   "cell_type": "markdown",
   "id": "87d40c1b",
   "metadata": {},
   "source": [
    "It can be seen that the calculation of the yield to maturity is equivalent to solving an equation $f(r) = 0$, where $f$ is the continuous function defined above. The figure below shows the trend of the $f$, and it can be seen that $f$ is a **monotonically decreasing** function. \n",
    "\n",
    "<img src=\"https://github.com/XiongPengNUS/dao_resources/blob/main/yield_maturity.png?raw=true\">\n",
    "\n",
    "### Method 1: enumeration\n",
    "\n",
    "The first method of solving the equation is straightforward: using brutal force. The general procedure is:\n",
    "1. Initialize $r$ as a very small number;\n",
    "2. As long as $f(r)$ is larger than zero, the loop continues;\n",
    "3. In each iteration of the loop, increase the value of $r$ by a really small value.\n",
    "\n",
    "The algorithm above enumerates possible solutions of $r$, and the iteration stops once the function $f(r)$ becomes negative."
   ]
  },
  {
   "cell_type": "code",
   "execution_count": 2,
   "id": "46a9b84e",
   "metadata": {
    "scrolled": false
   },
   "outputs": [
    {
     "name": "stdout",
     "output_type": "stream",
     "text": [
      "0.029587200002254323\n"
     ]
    }
   ],
   "source": [
    "r = 1e-8\n",
    "while c/r + (par -c/r)*(1+r)**(-T) - price > 0:\n",
    "    r += 1e-8\n",
    "\n",
    "print(r)"
   ]
  },
  {
   "cell_type": "code",
   "execution_count": 3,
   "id": "a48b7b07",
   "metadata": {},
   "outputs": [
    {
     "data": {
      "text/plain": [
       "-0.0004411832087498624"
      ]
     },
     "execution_count": 3,
     "metadata": {},
     "output_type": "execute_result"
    }
   ],
   "source": [
    "c/r + (par -c/r)*(1+r)**(-T) - price"
   ]
  },
  {
   "cell_type": "markdown",
   "id": "18d9ddc7",
   "metadata": {},
   "source": [
    "### Method 2: bisection algorithm\n",
    "\n",
    "From the figure above, we observed that the solution of $r$ is between an interval defined by the lower bound 0 and the upper bound 0.1. The bisection method seeks for reducing the interval in each iteration and the algorithm stops once the distance between the lower and upper bounds is sufficiently small. The detailed procedure is:\n",
    "1. Initialize the lower and upper bounds;\n",
    "2. In each iteration, $r$ is set to be the middle point of the lower and upper bounds;\n",
    "3. Calculate $f(r)$;\n",
    "4. If $f(r) > 0$, then update the lower bound to be $r$, otherwise update the upper bound to be $r$;\n",
    "5. The program stops when the distance between the lower and upper bounds is smaller than a given tolerance. "
   ]
  },
  {
   "cell_type": "code",
   "execution_count": 4,
   "id": "a0e92da0",
   "metadata": {},
   "outputs": [
    {
     "name": "stdout",
     "output_type": "stream",
     "text": [
      "0.029587191343307492\n"
     ]
    }
   ],
   "source": [
    "tol = 1e-8\n",
    "lower = 0\n",
    "upper = 0.1\n",
    "\n",
    "while upper - lower > tol:\n",
    "    r = (lower + upper) * 0.5\n",
    "    f = c/r + (par -c/r)*(1+r)**(-T) - price\n",
    "    if f > 0:\n",
    "        lower = r\n",
    "    else:\n",
    "        upper = r\n",
    "\n",
    "print(r)"
   ]
  },
  {
   "cell_type": "code",
   "execution_count": 5,
   "id": "add37ff4",
   "metadata": {
    "scrolled": true
   },
   "outputs": [
    {
     "data": {
      "text/plain": [
       "0.0006366575908032246"
      ]
     },
     "execution_count": 5,
     "metadata": {},
     "output_type": "execute_result"
    }
   ],
   "source": [
    "c/r + (par -c/r)*(1+r)**(-T) - price"
   ]
  }
 ],
 "metadata": {
  "kernelspec": {
   "display_name": "Python 3 (ipykernel)",
   "language": "python",
   "name": "python3"
  },
  "language_info": {
   "codemirror_mode": {
    "name": "ipython",
    "version": 3
   },
   "file_extension": ".py",
   "mimetype": "text/x-python",
   "name": "python",
   "nbconvert_exporter": "python",
   "pygments_lexer": "ipython3",
   "version": "3.9.13"
  },
  "varInspector": {
   "cols": {
    "lenName": 16,
    "lenType": 16,
    "lenVar": 40
   },
   "kernels_config": {
    "python": {
     "delete_cmd_postfix": "",
     "delete_cmd_prefix": "del ",
     "library": "var_list.py",
     "varRefreshCmd": "print(var_dic_list())"
    },
    "r": {
     "delete_cmd_postfix": ") ",
     "delete_cmd_prefix": "rm(",
     "library": "var_list.r",
     "varRefreshCmd": "cat(var_dic_list()) "
    }
   },
   "types_to_exclude": [
    "module",
    "function",
    "builtin_function_or_method",
    "instance",
    "_Feature"
   ],
   "window_display": false
  }
 },
 "nbformat": 4,
 "nbformat_minor": 5
}
