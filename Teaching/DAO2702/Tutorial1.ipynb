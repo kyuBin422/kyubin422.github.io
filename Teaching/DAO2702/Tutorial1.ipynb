{
 "cells": [
  {
   "cell_type": "markdown",
   "id": "5556d050",
   "metadata": {},
   "source": [
    "# DAO 2702 Tutorial 1\n",
    "\n",
    "YU Bin\n",
    "\n",
    "Institute of Operations Research and Analytics\n",
    "\n",
    "National University of Singapore\n",
    "\n",
    "Email: binyu@u.nus.edu\n",
    "\n",
    "Website: https://binyu.site/\n",
    "\n"
   ]
  },
  {
   "cell_type": "markdown",
   "id": "371cefbe",
   "metadata": {},
   "source": [
    "# Agenda of Tutorial\n",
    "\n",
    "* Recall the last week lecture\n",
    "    * Kahoot game to recall the concept \n",
    "    * Extra exercises by hands-on\n",
    "    * Q&A\n",
    "* Week 11 & 12 is project consultation\n",
    "    * Each team has 20mins to consult and discuss. (Also welcome to drop the email out of tutorial session)"
   ]
  },
  {
   "cell_type": "markdown",
   "id": "814db3aa",
   "metadata": {},
   "source": [
    "## Kahoot Game\n",
    "\n",
    "<a href=\"https://play.kahoot.it/v2/?quizId=872d01b3-30a4-45e7-a1ae-9e7f73fad560 \">Kahoot link</a>\n",
    "\n",
    "## Lecture Content\n",
    "Let us recall the concept we learn at lecture\n",
    "### Python objects\n",
    "We introduce three type objects: integer, float, and string\n",
    "\n",
    "| objects  | example    |\n",
    "|---|---|\n",
    "| integer  | print(1)   |\n",
    "| float    | print(1.0) |\n",
    "| string   | print('1') |"
   ]
  },
  {
   "cell_type": "code",
   "execution_count": 1,
   "id": "be59dffb",
   "metadata": {},
   "outputs": [
    {
     "name": "stdout",
     "output_type": "stream",
     "text": [
      "<class 'int'>\n"
     ]
    }
   ],
   "source": [
    "print(type(1))"
   ]
  },
  {
   "cell_type": "code",
   "execution_count": 2,
   "id": "1938fba1",
   "metadata": {},
   "outputs": [
    {
     "name": "stdout",
     "output_type": "stream",
     "text": [
      "<class 'float'>\n"
     ]
    }
   ],
   "source": [
    "print(type(1.0))"
   ]
  },
  {
   "cell_type": "code",
   "execution_count": 3,
   "id": "e0426f2e",
   "metadata": {},
   "outputs": [
    {
     "name": "stdout",
     "output_type": "stream",
     "text": [
      "<class 'str'>\n"
     ]
    }
   ],
   "source": [
    "print(type('1'))"
   ]
  },
  {
   "cell_type": "markdown",
   "id": "fef174e5",
   "metadata": {},
   "source": [
    "### Data type conversions\n",
    "\n",
    "We could use int, float, and str to convert each other "
   ]
  },
  {
   "cell_type": "code",
   "execution_count": 4,
   "id": "d821cb71",
   "metadata": {},
   "outputs": [
    {
     "name": "stdout",
     "output_type": "stream",
     "text": [
      "<class 'int'> <class 'str'> <class 'float'>\n"
     ]
    }
   ],
   "source": [
    "print(type(1),type(str(1)),type(float(1)))"
   ]
  },
  {
   "cell_type": "markdown",
   "id": "6b1bcbfe",
   "metadata": {},
   "source": [
    "Note: the original type is integer, then use str to convert integer to string, lastly use float to convert integer to float"
   ]
  },
  {
   "cell_type": "markdown",
   "id": "c13a4ba1",
   "metadata": {},
   "source": [
    "### Computational thinking\n",
    "\n",
    "Computational thinking is a set of problem-solving methods that involve expressing problems and their solutions in ways that a computer could also execute. The fundamental of computational thinking involves the understanding of control flows, i.e., the order in which the program’s code executes. The control flow of a Python program is regulated by conditional statements, loops, and function calls. In this lecture, we will focus on the concepts of the first two. \n",
    "\n",
    "<img src=\"https://github.com/XiongPengNUS/dao_resources/blob/main/alg_control_flow.png?raw=true\" width=800>\n",
    "credit to Dr. Xiong Peng"
   ]
  },
  {
   "cell_type": "markdown",
   "id": "15b12f9b",
   "metadata": {},
   "source": [
    "### Boolean type expressions\n",
    "\n",
    "The comparison operators are used to compare two values, and a boolean value is returned. \n",
    "\n",
    "Operator |   Name  |  Example\n",
    ":--------|:--------|:---------\n",
    "`==` | Equal | `x == y`\n",
    "`!=` | Not equal | `x != y`\n",
    "`>=` | Greater than or equal to | `x >= y`\n",
    "`<=` | Smaller than or equal to | `x <= y`\n",
    "`>` | Greater than | `x > y`\n",
    "`<` | Smaller than | `x < y`"
   ]
  },
  {
   "cell_type": "code",
   "execution_count": 5,
   "id": "5eba28f1",
   "metadata": {},
   "outputs": [
    {
     "name": "stdout",
     "output_type": "stream",
     "text": [
      "False\n",
      "True\n",
      "False\n",
      "True\n",
      "True\n",
      "False\n"
     ]
    }
   ],
   "source": [
    "print(1==3) # 1==3 is false\n",
    "print(1!=3) # 1!=3 is true\n",
    "print(1>=3) # 1>=3 is false\n",
    "print(1<=3) # 1<=3 is true\n",
    "print(1<3)  # 1<3 is true\n",
    "print(1>3)  # 1>3 is false"
   ]
  },
  {
   "cell_type": "markdown",
   "id": "160dff94",
   "metadata": {},
   "source": [
    "## Exercise \n",
    "### Question 1\n",
    "\n",
    "Currently, COE (certificate of entitlement) are five categories, with prices of \\\\$100000, \\\\$129890, \\\\$82801, \\\\$11402, and \\\\$131000 respectively. Please write the code to input the category and output the price."
   ]
  },
  {
   "cell_type": "code",
   "execution_count": 6,
   "id": "fda7b982",
   "metadata": {},
   "outputs": [
    {
     "name": "stdout",
     "output_type": "stream",
     "text": [
      "the category is A\n",
      "$100000\n"
     ]
    }
   ],
   "source": [
    "# read the input of user\n",
    "\n",
    "cat = input('the category is ')\n",
    "# if-else if statement\n",
    "\n",
    "if cat == 'A':\n",
    "    print('$100000')\n",
    "elif cat == 'B':\n",
    "    print('$129890')\n",
    "elif cat == 'C':\n",
    "    print('$82801')\n",
    "elif cat == 'D':\n",
    "    print('$11402')\n",
    "elif cat == 'E':\n",
    "    print('$131000')\n"
   ]
  },
  {
   "cell_type": "markdown",
   "id": "ef23e923",
   "metadata": {},
   "source": [
    "#### Question 2\n",
    "\n",
    "You are the game designer of Valorant and need to calculate the behavior of each player based on the kills, deaths, and assists. The formula of player behaviour is as follows\n",
    "$$\n",
    "2*Kill+0.5*assist-1.23*dealth\n",
    "$$\n",
    "\n",
    "Please write the program to input the respective value and print the score of player behavior"
   ]
  },
  {
   "cell_type": "code",
   "execution_count": 7,
   "id": "8a39563b",
   "metadata": {},
   "outputs": [
    {
     "name": "stdout",
     "output_type": "stream",
     "text": [
      "the number of kills is 10\n",
      "the number of assists is 2\n",
      "the number of deaths is 5\n",
      "play bevaiour:14.85\n"
     ]
    }
   ],
   "source": [
    "# read the input of user\n",
    "kills = input('the number of kills is ')\n",
    "assists = input('the number of assists is ')\n",
    "deaths = input('the number of deaths is ')\n",
    "\n",
    "# data type conversion\n",
    "kills = int(kills)\n",
    "deaths = int(deaths)\n",
    "assists = int(assists)\n",
    "\n",
    "# calculate the player behaviour\n",
    "\n",
    "player_behaviour = (2 * kills) + (0.5 * assists) - (1.23 * deaths)\n",
    "\n",
    "print('play bevaiour:' + str(player_behaviour))"
   ]
  }
 ],
 "metadata": {
  "kernelspec": {
   "display_name": "Python 3 (ipykernel)",
   "language": "python",
   "name": "python3"
  },
  "language_info": {
   "codemirror_mode": {
    "name": "ipython",
    "version": 3
   },
   "file_extension": ".py",
   "mimetype": "text/x-python",
   "name": "python",
   "nbconvert_exporter": "python",
   "pygments_lexer": "ipython3",
   "version": "3.7.10"
  }
 },
 "nbformat": 4,
 "nbformat_minor": 5
}
