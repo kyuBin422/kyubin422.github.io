{
 "cells": [
  {
   "cell_type": "markdown",
   "metadata": {},
   "source": [
    "# Built-in Data Structures II: Tuples and Dictionaries\n",
    "\n",
    "## Contents\n",
    "\n",
    "- [Tuples](#section1)\n",
    "    - [Create tuples](#subsection1.1)\n",
    "    - [Basic features of tuples](#subsection1.2)\n",
    "    - [Tuple unpacking](#subsection1.3)\n",
    "- [Dictionaries](#section2)\n",
    "    - [Create dictionaries](#subsection2.1)\n",
    "    - [Data arrangement of dictionaries](#subsection2.2)\n",
    "    - [Basic features of dictionaries](#subsection2.3)\n",
    "    - [Loops and iterations with dictionaries](#subsection2.4)\n",
    "- [Summary](#section3)\n",
    "    - [Built-in data structures](#subsection3.1)\n",
    "    - [Parentheses and brackets](#subsection3.2)"
   ]
  },
  {
   "cell_type": "markdown",
   "metadata": {},
   "source": [
    " "
   ]
  },
  {
   "cell_type": "markdown",
   "metadata": {},
   "source": [
    "## Tuples <a id=\"section1\"></a>\n",
    "\n",
    "### Create tuples <a id=\"subsection1.1\"></a>\n",
    "Similar to lists, tuples are sequences of data items. Tuples can be created as data items separated by commas, with or without parentheses, as demonstrated by examples below. "
   ]
  },
  {
   "cell_type": "code",
   "execution_count": 1,
   "metadata": {},
   "outputs": [
    {
     "name": "stdout",
     "output_type": "stream",
     "text": [
      "<class 'tuple'>\n",
      "<class 'tuple'>\n"
     ]
    }
   ],
   "source": [
    "colors = 'red', 'blue', 'green' # Comma-separated items\n",
    "mixed = ('Jack', 32.5, [1, 2])  # Comma-separated items within parentheses\n",
    "\n",
    "print(type(colors))\n",
    "print(type(mixed))"
   ]
  },
  {
   "cell_type": "markdown",
   "metadata": {},
   "source": [
    "Be careful on two special cases:\n",
    "- An empty tuple is created by empty parentheses."
   ]
  },
  {
   "cell_type": "code",
   "execution_count": 2,
   "metadata": {},
   "outputs": [
    {
     "name": "stdout",
     "output_type": "stream",
     "text": [
      "<class 'tuple'>\n",
      "0\n"
     ]
    }
   ],
   "source": [
    "feel_empty = ()\n",
    "\n",
    "print(type(feel_empty))\n",
    "print(len(feel_empty))"
   ]
  },
  {
   "cell_type": "markdown",
   "metadata": {},
   "source": [
    "- In creating tuples with only one item, the comma is necessary in the statement."
   ]
  },
  {
   "cell_type": "code",
   "execution_count": 3,
   "metadata": {},
   "outputs": [
    {
     "name": "stdout",
     "output_type": "stream",
     "text": [
      "<class 'tuple'>\n",
      "<class 'str'>\n"
     ]
    }
   ],
   "source": [
    "tuple_one = 'here',         # The comma creates a tuple type object\n",
    "item_one = ('there')        # Only the parentheses do not create a tuple\n",
    "\n",
    "print(type(tuple_one))\n",
    "print(type(item_one))"
   ]
  },
  {
   "cell_type": "markdown",
   "metadata": {},
   "source": [
    "### Basic features of tuples <a id=\"subsection1.2\"></a>\n",
    "- Iterable\n",
    "- The same `len()` function, indexing and slicing expressions as strings and lists\n",
    "- The same operations with `+` and `*` as strings and lists\n",
    "- **Immutable**\n",
    "- **No method** is defined for tuple objects"
   ]
  },
  {
   "cell_type": "code",
   "execution_count": 4,
   "metadata": {
    "scrolled": false
   },
   "outputs": [],
   "source": [
    "letters = 'A', 'B', 'C'\n",
    "numbers = 2.0, 3.0"
   ]
  },
  {
   "cell_type": "code",
   "execution_count": 5,
   "metadata": {},
   "outputs": [
    {
     "name": "stdout",
     "output_type": "stream",
     "text": [
      "('A', 'B', 'C', 2.0, 3.0, 2.0, 3.0, 2.0, 3.0)\n",
      "9\n"
     ]
    }
   ],
   "source": [
    "mixed = letters + numbers*3\n",
    "print(mixed)\n",
    "print(len(mixed))"
   ]
  },
  {
   "cell_type": "code",
   "execution_count": 6,
   "metadata": {
    "scrolled": true
   },
   "outputs": [
    {
     "name": "stdout",
     "output_type": "stream",
     "text": [
      "3.0\n",
      "2.0\n",
      "3.0\n"
     ]
    }
   ],
   "source": [
    "for item in mixed[6:]:\n",
    "    print(item)"
   ]
  },
  {
   "cell_type": "markdown",
   "metadata": {},
   "source": [
    "### Tuple unpacking <a id=\"subsection1.3\"></a>\n",
    "\n",
    "Any data sequence (or iterable) can be **unpacked** into variables using just one assignment statement. In **tuple unpacking**, the left-hand-side is a tuple of variables, and the right-hand-side is an arbitrary iterable data sequence. The only requirement is that the number of variables matches the number of items in the data sequence. A few examples are given below."
   ]
  },
  {
   "cell_type": "code",
   "execution_count": 7,
   "metadata": {
    "scrolled": true
   },
   "outputs": [
    {
     "name": "stdout",
     "output_type": "stream",
     "text": [
      "1.29\n",
      "103.852\n"
     ]
    }
   ],
   "source": [
    "location = (1.290, 103.852)         # A tuple of two items\n",
    "\n",
    "latitude, longitude = location      # Unpack the tuple into two variables\n",
    "\n",
    "print(latitude)\n",
    "print(longitude)"
   ]
  },
  {
   "cell_type": "code",
   "execution_count": 8,
   "metadata": {},
   "outputs": [
    {
     "name": "stdout",
     "output_type": "stream",
     "text": [
      "a\n",
      "b\n",
      "c\n"
     ]
    }
   ],
   "source": [
    "x, y, z = 'abc'     # Unpack a string of three characters\n",
    "\n",
    "print(x)\n",
    "print(y)\n",
    "print(z)"
   ]
  },
  {
   "cell_type": "markdown",
   "metadata": {},
   "source": [
    "<div class=\"alert alert-block alert-success\">\n",
    "<b>Example 1:</b>  \n",
    "    There are two variables <span style='font-family:Courier'><b>cage</b></span> and <span style='font-family:Courier'><b>travolta</b></span> and their values are \"bad guy\" and \"good guy\", respectively. Swap the values of variables <span style='font-family:Courier'><b>cage</b></span> and <span style='font-family:Courier'><b>travolta</b></span> so that <span style='font-family:Courier'><b>cage</b></span> becomes \"good guy\" and <span style='font-family:Courier'><b>travolta</b></span> becomes \"bad guy\".\n",
    "</div>\n",
    "\n",
    "By using tuple unpacking, these two variables can be swapped in a neater and more readable way, as shown by the following code segment."
   ]
  },
  {
   "cell_type": "code",
   "execution_count": 9,
   "metadata": {},
   "outputs": [
    {
     "name": "stdout",
     "output_type": "stream",
     "text": [
      "good guy\n",
      "bad guy\n"
     ]
    }
   ],
   "source": [
    "cage = 'bad guy'\n",
    "travolta = 'good guy'\n",
    "\n",
    "cage, travolta = travolta, cage\n",
    "\n",
    "print(cage)\n",
    "print(travolta)"
   ]
  },
  {
   "cell_type": "markdown",
   "metadata": {},
   "source": [
    "Besides the **parallel assignment** shown above, the tuple unpacking can be applied for iterating over multiple iterable data structures via `for` loops.\n",
    "\n",
    "<div class=\"alert alert-block alert-success\">\n",
    "<b>Example 2:</b>  \n",
    "For a biased die, each outcome of rolled number and the corresponding probability are given in lists <span style='font-family:Courier'><b>outcomes</b></span> and <span style='font-family:Courier'><b>probs</b></span>, respectively. Calculate the expected value of the rolled numbers.\n",
    "</div>"
   ]
  },
  {
   "cell_type": "code",
   "execution_count": 10,
   "metadata": {},
   "outputs": [],
   "source": [
    "outcomes = [1, 2, 3, 4, 5, 6]                   # Rolled numbers\n",
    "probs = [0.15, 0.24, 0.18, 0.1, 0.21, 0.12]     # Probabilities"
   ]
  },
  {
   "cell_type": "markdown",
   "metadata": {},
   "source": [
    "Let $X$ denote the random variable indicating the rolled number of the biased die, which follow a discrete distribution, the expected value can be expressed as $\\mathbb{E}(X)=\\sum_{i=1}^6p_ix_i$, where $x_i$ is each of the roll numbers, and $p_i$ is the corresponding probability. It can be seen that in calculating the expected value, we need to iterate items from both lists `outcomes` and `probs` in parallel. This can be done by using the `zip()` function."
   ]
  },
  {
   "cell_type": "code",
   "execution_count": 11,
   "metadata": {
    "scrolled": true
   },
   "outputs": [
    {
     "name": "stdout",
     "output_type": "stream",
     "text": [
      "<class 'zip'>\n"
     ]
    }
   ],
   "source": [
    "print(type(zip(outcomes, probs)))"
   ]
  },
  {
   "cell_type": "markdown",
   "metadata": {},
   "source": [
    "The code cell above shows that the `zip()` function creates a `zip` type object, which is an iterable data sequence. In order to explore the data items in the sequence, we use the following code segment to print them in a `for` loop."
   ]
  },
  {
   "cell_type": "code",
   "execution_count": 12,
   "metadata": {},
   "outputs": [
    {
     "name": "stdout",
     "output_type": "stream",
     "text": [
      "(1, 0.15)\n",
      "(2, 0.24)\n",
      "(3, 0.18)\n",
      "(4, 0.1)\n",
      "(5, 0.21)\n",
      "(6, 0.12)\n"
     ]
    }
   ],
   "source": [
    "for item in zip(outcomes, probs):\n",
    "    print(item)"
   ]
  },
  {
   "cell_type": "markdown",
   "metadata": {},
   "source": [
    "It can be seen that items of the `zip` sequence are tuples with two elements: the first element is from the list `outcomes`, and the second element is from the list `probs`. We thus unpack the tuple in each iteration as the following `for` loop."
   ]
  },
  {
   "cell_type": "code",
   "execution_count": 13,
   "metadata": {},
   "outputs": [
    {
     "name": "stdout",
     "output_type": "stream",
     "text": [
      "outcome=1, prob=0.15\n",
      "outcome=2, prob=0.24\n",
      "outcome=3, prob=0.18\n",
      "outcome=4, prob=0.1\n",
      "outcome=5, prob=0.21\n",
      "outcome=6, prob=0.12\n"
     ]
    }
   ],
   "source": [
    "for outcome, prob in zip(outcomes, probs):\n",
    "    print('outcome={}, prob={}'.format(outcome, prob))"
   ]
  },
  {
   "cell_type": "markdown",
   "metadata": {},
   "source": [
    "The printed message above shows that by using the `zip()` function, variables `outcome` and `prob` respectively iterate items in lists `outcomes` and `probs` in parallel. Such an iteration can be used to calculate the expected value."
   ]
  },
  {
   "cell_type": "code",
   "execution_count": 14,
   "metadata": {},
   "outputs": [
    {
     "name": "stdout",
     "output_type": "stream",
     "text": [
      "3.34\n"
     ]
    }
   ],
   "source": [
    "exp_value = 0\n",
    "for outcome, prob in zip(outcomes, probs):\n",
    "    exp_value += outcome*prob\n",
    "\n",
    "print(exp_value)"
   ]
  },
  {
   "cell_type": "markdown",
   "metadata": {},
   "source": [
    "An alternative approach is to create a list of results for $x_ip_i$, and sum them together by using the `sum()` function."
   ]
  },
  {
   "cell_type": "code",
   "execution_count": 15,
   "metadata": {},
   "outputs": [
    {
     "name": "stdout",
     "output_type": "stream",
     "text": [
      "[0.15, 0.48, 0.54, 0.4, 1.05, 0.72]\n",
      "3.34\n"
     ]
    }
   ],
   "source": [
    "products = [outcome*prob \n",
    "            for outcome, prob in zip(outcomes, probs)]\n",
    "print(products)\n",
    "\n",
    "exp_value = sum(products)\n",
    "print(exp_value)"
   ]
  },
  {
   "cell_type": "markdown",
   "metadata": {},
   "source": [
    "In this example, we are using the `zip()` function to iterate items from two lists in parallel. In fact, the `zip()` function is very flexible such that\n",
    "- It can be applied to other iterable types, such as lists or tuples.\n",
    "- It can be used to iterate more than two data sequences.\n",
    "- The given data sequences are allowed to have different lengths. The iteration stops when the shortest sequence is running out of items. "
   ]
  },
  {
   "cell_type": "code",
   "execution_count": 16,
   "metadata": {},
   "outputs": [
    {
     "name": "stdout",
     "output_type": "stream",
     "text": [
      "a 0 one\n",
      "b 1 two\n",
      "c 2 three\n"
     ]
    }
   ],
   "source": [
    "s1 = 'abcde'                         # A string with five characters\n",
    "s2 = range(3)                        # A tuple with three items\n",
    "s3 = 'one', 'two', 'three', 'four'   # A tuple with four items\n",
    "\n",
    "for x, y, z in zip(s1, s2, s3):\n",
    "    print(x, y, z)"
   ]
  },
  {
   "cell_type": "markdown",
   "metadata": {},
   "source": [
    "Lastly, tuple and unpacking are often used in defining the function outputs. This topic will be discussed in the next lecture. "
   ]
  },
  {
   "cell_type": "markdown",
   "metadata": {},
   "source": [
    " "
   ]
  },
  {
   "cell_type": "markdown",
   "metadata": {},
   "source": [
    "## Dictionaries <a id=\"section2\"></a>\n",
    "\n",
    "### Create dictionaries <a id=\"subsection2.1\"></a>\n",
    "\n",
    "In Python, **dictionaries** are coded in curly brackets and consist of a series of comma-separated <code><i>key</i>:<i>value</i></code> pairs."
   ]
  },
  {
   "cell_type": "code",
   "execution_count": 17,
   "metadata": {
    "scrolled": false
   },
   "outputs": [
    {
     "data": {
      "text/plain": [
       "{'AMZN': 170.4,\n",
       " 'TSLA': 130.11,\n",
       " 'TWTR': 32.48,\n",
       " 'AAPL': 76.6,\n",
       " 'ORCL': 51.58,\n",
       " 'GOOG': 1434.23}"
      ]
     },
     "execution_count": 17,
     "metadata": {},
     "output_type": "execute_result"
    }
   ],
   "source": [
    "stocks = {'AMZN': 170.40,\n",
    "          'TSLA': 130.11,\n",
    "          'TWTR': 32.48,\n",
    "          'AAPL': 76.60,\n",
    "          'ORCL': 51.58, \n",
    "          'GOOG': 1434.23}\n",
    "stocks"
   ]
  },
  {
   "cell_type": "code",
   "execution_count": 18,
   "metadata": {
    "scrolled": true
   },
   "outputs": [
    {
     "name": "stdout",
     "output_type": "stream",
     "text": [
      "<class 'dict'>\n"
     ]
    }
   ],
   "source": [
    "print(type(stocks))"
   ]
  },
  {
   "cell_type": "markdown",
   "metadata": {},
   "source": [
    "As for data types, please note that:\n",
    "- Dictionary keys must be *hashable*. They are often strings, but can actually be any of Python’s immutable types: boolean, integer, float, tuple, and others.\n",
    "- Dictionary values can be any types\n",
    "\n",
    "### Data arrangement of dictionaries <a id=\"subsection2.2\"></a>\n",
    "\n",
    "Similar to lists, a dictionary is a collection of changeable and indexed data. The main difference is that list elements are accessed by their position in the list via indexing, while dictionary elements are accessed via keys. \n",
    "\n",
    "Take the dictionary created above, for example, the keys are `'AMZN'`, `'TSLA'`, `'TWTR'`, `'AAPL'`, and `'ORCL'`. The comparison between lists and dictionaries are illustrated by the following tables.\n",
    "\n",
    "170.40 | 130.11 &nbsp; | 32.48 &nbsp;&nbsp;| 76.60&nbsp;&nbsp; | 51.58&nbsp;&nbsp; | 1434.23\n",
    ":-----|:-----|:-----|:-----|:-----|:-----\n",
    "0 | 1 | 2 | 3 | 4 | 5\n",
    "-6 | -5 | -4 | -3 | -2 | -1\n",
    "\n",
    "170.40 | 130.11 &nbsp; | 32.48 &nbsp;&nbsp;| 76.60&nbsp;&nbsp; | 51.58&nbsp;&nbsp; | 1434.23\n",
    ":-----|:-----|:-----|:-----|:-----|:-------\n",
    "'AMZN' | 'TSLA' | 'TWTR' | 'AAPL' | 'ORCL' | 'GOOG'\n",
    "\n",
    "Values in a dictionary can be accessed by the keys, just like items in a list can be accessed by the positional index. "
   ]
  },
  {
   "cell_type": "code",
   "execution_count": 19,
   "metadata": {
    "scrolled": false
   },
   "outputs": [
    {
     "name": "stdout",
     "output_type": "stream",
     "text": [
      "AMZN: 170.4\n"
     ]
    }
   ],
   "source": [
    "name = 'AMZN'\n",
    "print('{}: {}'.format(name, stocks[name]))"
   ]
  },
  {
   "cell_type": "markdown",
   "metadata": {},
   "source": [
    "The syntax of changing values in a dictionary is similar to changing values in lists."
   ]
  },
  {
   "cell_type": "code",
   "execution_count": 20,
   "metadata": {
    "scrolled": false
   },
   "outputs": [
    {
     "data": {
      "text/plain": [
       "{'AMZN': 170.4,\n",
       " 'TSLA': 150.0,\n",
       " 'TWTR': 32.48,\n",
       " 'AAPL': 77.1,\n",
       " 'ORCL': 51.58,\n",
       " 'GOOG': 1434.23}"
      ]
     },
     "execution_count": 20,
     "metadata": {},
     "output_type": "execute_result"
    }
   ],
   "source": [
    "stocks['TSLA'] = 150.00     # Change the value of 'TSLA' to be 150.00\n",
    "stocks['AAPL'] += 0.50      # Increase the value of 'AAPL' by 0.50\n",
    "\n",
    "stocks                      # Display the updated dictionary"
   ]
  },
  {
   "cell_type": "markdown",
   "metadata": {},
   "source": [
    "The same syntax can also be applied to add new items, in terms of a new pair of key and value, to the dictionary."
   ]
  },
  {
   "cell_type": "code",
   "execution_count": 21,
   "metadata": {
    "scrolled": false
   },
   "outputs": [
    {
     "data": {
      "text/plain": [
       "{'AMZN': 170.4,\n",
       " 'TSLA': 150.0,\n",
       " 'TWTR': 32.48,\n",
       " 'AAPL': 77.1,\n",
       " 'ORCL': 51.58,\n",
       " 'GOOG': 1434.23,\n",
       " 'ZM': 76.3}"
      ]
     },
     "execution_count": 21,
     "metadata": {},
     "output_type": "execute_result"
    }
   ],
   "source": [
    "stocks['ZM'] = 76.30    # Add a new key ZM and new value 76.30\n",
    "\n",
    "stocks                  # Display the updated dictionary"
   ]
  },
  {
   "cell_type": "markdown",
   "metadata": {},
   "source": [
    "<div class=\"alert alert-block alert-success\">\n",
    "<b>Example 3: </b>  \n",
    "    The variable <span style='font-family:Courier'><b>words</b></span> is a list containing words of a song. Create a dictionary where the keys are all words appearing in the song, and the values are the numbers of appearances of these words. \n",
    "</div>"
   ]
  },
  {
   "cell_type": "code",
   "execution_count": 22,
   "metadata": {},
   "outputs": [],
   "source": [
    "words = ['hey', 'jude', \"don't\", 'make', 'it', 'bad', \n",
    "         'take', 'a', 'sad', 'song', 'and', 'make', 'it', 'better', \n",
    "         'remember', 'to', 'let', 'her', 'into', 'your', 'heart', \n",
    "         'then', 'you', 'can', 'start', 'to', 'make', 'it', 'better', \n",
    "         'hey', 'jude', \"don't\", 'be', 'afraid', \n",
    "         'you', 'were', 'made', 'to', 'go', 'out', 'and', 'get', 'her', \n",
    "         'the', 'minute', 'you', 'let', 'her', 'under', 'your', 'skin', \n",
    "         'then', 'you', 'begin', 'to', 'make', 'it', 'better']"
   ]
  },
  {
   "cell_type": "markdown",
   "metadata": {},
   "source": [
    "Then the list of words can be used to create the dictionary for word counts. "
   ]
  },
  {
   "cell_type": "code",
   "execution_count": 23,
   "metadata": {},
   "outputs": [
    {
     "name": "stdout",
     "output_type": "stream",
     "text": [
      "{'hey': 2, 'jude': 2, \"don't\": 2, 'make': 4, 'it': 4, 'bad': 1, 'take': 1, 'a': 1, 'sad': 1, 'song': 1, 'and': 2, 'better': 3, 'remember': 1, 'to': 4, 'let': 2, 'her': 3, 'into': 1, 'your': 2, 'heart': 1, 'then': 2, 'you': 4, 'can': 1, 'start': 1, 'be': 1, 'afraid': 1, 'were': 1, 'made': 1, 'go': 1, 'out': 1, 'get': 1, 'the': 1, 'minute': 1, 'under': 1, 'skin': 1, 'begin': 1}\n"
     ]
    }
   ],
   "source": [
    "records = {}                # Initialize records as an empty dictionary\n",
    "for word in words:          # Iterate all words\n",
    "    if word in records:\n",
    "        records[word] += 1  # Increase counts of the word\n",
    "    else:\n",
    "        records[word] = 1   # The count of the word is 1\n",
    "\n",
    "print(records)"
   ]
  },
  {
   "cell_type": "markdown",
   "metadata": {},
   "source": [
    "Here the `in` operator is used to check if the value of `word` is a key of the dictionary `count`. Based on the status of this boolean condition, we have:\n",
    "1. In the case of `True`, the word has been seen in previous iterations, so the associated value is increased by one for one more appearance.\n",
    "2. In the case of `False`, the word has not been seen in previous iteration, so the associated value is one, implying that this is the first time to see this word.\n",
    "\n",
    "After iterating all words in the list, we have a dictionary that counts their appearances.  \n",
    "\n",
    "### Basic features of dictionaries <a id=\"subsection2.3\">\n",
    "\n",
    "- Iterable\n",
    "- The same `len()` function\n",
    "- Indexing via keys\n",
    "- **Mutable**\n",
    "\n",
    "### Loops and iterations with dictionaries  <a id=\"subsection2.4\"></a>\n",
    "\n",
    "Similar to strings, lists, tuples, dictionaries are also iterable, in the sense that items in a dictionary can be iterated sequentially in a `for` loop. Since each item of the dictionary has two components: the key and the value, the ways of iterating these items are quite flexible. "
   ]
  },
  {
   "cell_type": "code",
   "execution_count": 24,
   "metadata": {},
   "outputs": [],
   "source": [
    "stocks = {'AMZN': 170.40,\n",
    "          'TSLA': 130.11,\n",
    "          'TWTR': 32.48,\n",
    "          'AAPL': 76.60,\n",
    "          'ORCL': 51.58, \n",
    "          'GOOG': 1434.23}"
   ]
  },
  {
   "cell_type": "markdown",
   "metadata": {},
   "source": [
    "#### Iterating over keys\n",
    "\n",
    "All keys of the dictionary are returned as an iterable sequence by the `keys()` method of a `dict` type object. Such a sequence can be used in a `for` loop to iterate all keys."
   ]
  },
  {
   "cell_type": "code",
   "execution_count": 25,
   "metadata": {
    "scrolled": true
   },
   "outputs": [
    {
     "name": "stdout",
     "output_type": "stream",
     "text": [
      "AMZN\n",
      "TSLA\n",
      "TWTR\n",
      "AAPL\n",
      "ORCL\n",
      "GOOG\n"
     ]
    }
   ],
   "source": [
    "for name in stocks.keys():\n",
    "    print(name)"
   ]
  },
  {
   "cell_type": "markdown",
   "metadata": {},
   "source": [
    "In fact, if the dictionary is directly iterated in a `for` loop, the key of the data item is returned in each iteration. This is a more concise way to iterate dictionary keys. "
   ]
  },
  {
   "cell_type": "code",
   "execution_count": 26,
   "metadata": {},
   "outputs": [
    {
     "name": "stdout",
     "output_type": "stream",
     "text": [
      "AMZN\n",
      "TSLA\n",
      "TWTR\n",
      "AAPL\n",
      "ORCL\n",
      "GOOG\n"
     ]
    }
   ],
   "source": [
    "for name in stocks:\n",
    "    print(name)"
   ]
  },
  {
   "cell_type": "markdown",
   "metadata": {},
   "source": [
    "The keys can then be used to access values of dictionary data items, so that item values are iterated at the same time. "
   ]
  },
  {
   "cell_type": "code",
   "execution_count": 27,
   "metadata": {
    "scrolled": true
   },
   "outputs": [
    {
     "name": "stdout",
     "output_type": "stream",
     "text": [
      "AMZN: 170.4\n",
      "TSLA: 130.11\n",
      "TWTR: 32.48\n",
      "AAPL: 76.6\n",
      "ORCL: 51.58\n",
      "GOOG: 1434.23\n"
     ]
    }
   ],
   "source": [
    "for name in stocks:\n",
    "    print('{}: {}'.format(name, stocks[name]))"
   ]
  },
  {
   "cell_type": "markdown",
   "metadata": {},
   "source": [
    "#### Iterating over values\n",
    "\n",
    "Values of items in a dictionary can be returned as an iterable sequence by the `values()` method of the `dict` type object. Such a sequence can be used in `for` loops for iterating over values of data items. "
   ]
  },
  {
   "cell_type": "code",
   "execution_count": 28,
   "metadata": {
    "scrolled": true
   },
   "outputs": [
    {
     "name": "stdout",
     "output_type": "stream",
     "text": [
      "170.4\n",
      "130.11\n",
      "32.48\n",
      "76.6\n",
      "51.58\n",
      "1434.23\n"
     ]
    }
   ],
   "source": [
    "for price in stocks.values():\n",
    "    print(price)"
   ]
  },
  {
   "cell_type": "markdown",
   "metadata": {},
   "source": [
    "#### Iterating over keys and values in parallel\n",
    "\n",
    "Keys and values of a dictionary can also be iterated as a pair using the `items()` method. "
   ]
  },
  {
   "cell_type": "code",
   "execution_count": 29,
   "metadata": {
    "scrolled": true
   },
   "outputs": [
    {
     "name": "stdout",
     "output_type": "stream",
     "text": [
      "('AMZN', 170.4)\n",
      "('TSLA', 130.11)\n",
      "('TWTR', 32.48)\n",
      "('AAPL', 76.6)\n",
      "('ORCL', 51.58)\n",
      "('GOOG', 1434.23)\n"
     ]
    }
   ],
   "source": [
    "for item in stocks.items():\n",
    "    print(item)"
   ]
  },
  {
   "cell_type": "markdown",
   "metadata": {},
   "source": [
    "It can be seen that the `items()` method creates an iterable sequence of tuples and each tuple is in the format of <code>(<i>key</i>, <i>value</i>)</code>. Such tuples can be unpacked into the key and value components in each iteration. "
   ]
  },
  {
   "cell_type": "code",
   "execution_count": 30,
   "metadata": {
    "scrolled": false
   },
   "outputs": [
    {
     "name": "stdout",
     "output_type": "stream",
     "text": [
      "AMZN: 170.4\n",
      "TSLA: 130.11\n",
      "TWTR: 32.48\n",
      "AAPL: 76.6\n",
      "ORCL: 51.58\n",
      "GOOG: 1434.23\n"
     ]
    }
   ],
   "source": [
    "for name, price in stocks.items():\n",
    "    print('{}: {}'.format(name, price))"
   ]
  },
  {
   "cell_type": "markdown",
   "metadata": {},
   "source": [
    "<div class=\"alert alert-block alert-info\">\n",
    "<b>Question 1:</b>  \n",
    "    The variable <span style='font-family:Courier'><b>works</b></span> is a dictionary containing a few of Wolfgang Amadeus Mozart's works, where the keys are the Köchel catalogue indexes of music works composed by Mozart, and values are the titles of these works. Write a program to group these works into two dictionaries: <span style='font-family:Courier'><b>concertos</b></span> that contains all concertos, and <span style='font-family:Courier'><b>symphonies</b></span> that contains all symphonies. \n",
    "</div>"
   ]
  },
  {
   "cell_type": "code",
   "execution_count": 31,
   "metadata": {
    "scrolled": false
   },
   "outputs": [
    {
     "data": {
      "text/plain": [
       "{'K. 162': 'Symphony No. 22 in C major',\n",
       " 'K. 216': 'Violin Concerto No. 3',\n",
       " 'K. 218': 'Violin Concerto No. 4',\n",
       " 'K. 219': 'Violin Concerto No. 5',\n",
       " 'K. 550': 'Symphony No. 40 in G minor',\n",
       " 'K. 551': 'Symphony No. 41 in C major, \"Jupiter\"'}"
      ]
     },
     "execution_count": 31,
     "metadata": {},
     "output_type": "execute_result"
    }
   ],
   "source": [
    "works = {'K. 162': 'Symphony No. 22 in C major',\n",
    "         'K. 216': 'Violin Concerto No. 3',\n",
    "         'K. 218': 'Violin Concerto No. 4',\n",
    "         'K. 219': 'Violin Concerto No. 5', \n",
    "         'K. 550': 'Symphony No. 40 in G minor',\n",
    "         'K. 551': 'Symphony No. 41 in C major, \"Jupiter\"'}\n",
    "\n",
    "works"
   ]
  },
  {
   "cell_type": "code",
   "execution_count": null,
   "metadata": {},
   "outputs": [],
   "source": []
  },
  {
   "cell_type": "markdown",
   "metadata": {},
   "source": [
    " "
   ]
  },
  {
   "cell_type": "markdown",
   "metadata": {},
   "source": [
    "## Summary <a id=\"section3\"></a>\n",
    "\n",
    "### Built-in data structures <a id=\"subsection3.1\"></a>\n",
    "\n",
    " <b> </b> | String | List | Tuple | Dictionary\n",
    ":--------:|:------:|:----:|:-----:|:----------:\n",
    " **mutable**  | No     | Yes  |  No   |   Yes \n",
    " **indexing and slicing** | integers | integers | integers | key names\n",
    " **operators** `+` **and** `*` | Yes | Yes | Yes | No\n",
    " **iterable** | Yes | Yes | Yes | Yes \n",
    " **methods** | Yes | Yes | No | Yes\n",
    " \n",
    " \n",
    "### Parentheses and brackets <a id=\"subsection3.2\"></a>\n",
    "\n",
    " <b> </b> | `()` | `[]` | `{}` \n",
    ":--------|:------|:----|:-----\n",
    "    **Usage**  | 1. Enclose input arguments of <br> function and method <br> 2. Create tuples  | 1. Create lists <br> 2. Indexing and slicing  |  1. Dictionary and Set <br>2. Used in f-strings or <br> `format()` method\n",
    "**Examples**| `print('Hello')` <br> `string.upper()` <br> Empty tuple `()` | `[1, 2, 3]` <br> `string[3:]` <br> `dictionary['key']` | `{'key': 'value'}`\n",
    "**Remarks** | 1. Cannot be omitted even when <br> there is no input argument <br> 2. Can be omitted when creating tuples | - | Set is not covered in this course"
   ]
  },
  {
   "cell_type": "code",
   "execution_count": null,
   "metadata": {},
   "outputs": [],
   "source": []
  }
 ],
 "metadata": {
  "kernelspec": {
   "display_name": "Python 3 (ipykernel)",
   "language": "python",
   "name": "python3"
  },
  "language_info": {
   "codemirror_mode": {
    "name": "ipython",
    "version": 3
   },
   "file_extension": ".py",
   "mimetype": "text/x-python",
   "name": "python",
   "nbconvert_exporter": "python",
   "pygments_lexer": "ipython3",
   "version": "3.9.13"
  },
  "varInspector": {
   "cols": {
    "lenName": 16,
    "lenType": 16,
    "lenVar": 40
   },
   "kernels_config": {
    "python": {
     "delete_cmd_postfix": "",
     "delete_cmd_prefix": "del ",
     "library": "var_list.py",
     "varRefreshCmd": "print(var_dic_list())"
    },
    "r": {
     "delete_cmd_postfix": ") ",
     "delete_cmd_prefix": "rm(",
     "library": "var_list.r",
     "varRefreshCmd": "cat(var_dic_list()) "
    }
   },
   "types_to_exclude": [
    "module",
    "function",
    "builtin_function_or_method",
    "instance",
    "_Feature"
   ],
   "window_display": false
  }
 },
 "nbformat": 4,
 "nbformat_minor": 2
}
